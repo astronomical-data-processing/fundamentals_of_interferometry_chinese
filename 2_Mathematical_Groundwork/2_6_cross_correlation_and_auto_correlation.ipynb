{
 "cells": [
  {
   "cell_type": "markdown",
   "metadata": {},
   "source": [
    "***\n",
    "\n",
    "* [Outline](../0_Introduction/0_introduction.ipynb)\n",
    "* [Glossary](../0_Introduction/1_glossary.ipynb)\n",
    "* [2. Mathematical Groundwork](2_0_introduction.ipynb)\n",
    "    * Previous: [2.5 Convolution](2_5_convolution.ipynb)\n",
    "    * Next: [2.7 Fourier Theorems](2_7_fourier_theorems.ipynb)\n",
    "\n",
    "***"
   ]
  },
  {
   "cell_type": "markdown",
   "metadata": {},
   "source": [
    "Import standard modules:"
   ]
  },
  {
   "cell_type": "code",
   "execution_count": 1,
   "metadata": {},
   "outputs": [
    {
     "data": {
      "text/html": [
       "<style>\n",
       "\n",
       "p.prerequisites {\n",
       "    border:5px;\n",
       "    border-style:none;\n",
       "    background-color:#F0F0F0;\n",
       "    box-shadow: 5px 5px 2px #888888;\n",
       "    border-color:#FF0000;\n",
       "    padding: 1em;\n",
       "    }\n",
       "\n",
       "p.conclusion {\n",
       "    border:5px;\n",
       "    border-style:none;\n",
       "    background-color:#c8ebca;\n",
       "    box-shadow: 5px 5px 2px #888888;\n",
       "    border-color:#c8ebca;\n",
       "    padding: 1em;\n",
       "    }\n",
       "\n",
       "div.warn {    \n",
       "    background-color: #fcf2f2;\n",
       "    border-color: #dFb5b4;\n",
       "    border-left: 5px solid #dfb5b4;\n",
       "    padding: 0.5em;\n",
       "    }\n",
       "\n",
       "div.advice {    \n",
       "    background-color: #ecf8ed;\n",
       "    border-color: #a2dda5;\n",
       "    border-left: 5px solid #a2dda5;\n",
       "    padding: 0.5em;\n",
       "    }\n",
       "\n",
       "</style>\n",
       "\n"
      ],
      "text/plain": [
       "<IPython.core.display.HTML object>"
      ]
     },
     "execution_count": 1,
     "metadata": {},
     "output_type": "execute_result"
    }
   ],
   "source": [
    "import numpy as np\n",
    "import matplotlib.pyplot as plt\n",
    "%matplotlib inline\n",
    "from IPython.display import HTML \n",
    "HTML('../style/course.css') #apply general CSS"
   ]
  },
  {
   "cell_type": "markdown",
   "metadata": {},
   "source": [
    "Import section specific modules:"
   ]
  },
  {
   "cell_type": "code",
   "execution_count": null,
   "metadata": {
    "collapsed": true
   },
   "outputs": [],
   "source": [
    "pass"
   ]
  },
  {
   "cell_type": "markdown",
   "metadata": {},
   "source": [
    "6. [Cross-correlation and Auto-correlation](2_6_cross_correlation_and_auto_correlation.ipynb)\n",
    "    1. [Cross-correlation](#math:sec:cross_correlation)\n",
    "    2. [Auto-correlation](#math:sec:auto_correlation)"
   ]
  },
  {
   "cell_type": "markdown",
   "metadata": {},
   "source": [
    "## 2.6. Cross-correlation and Auto-correlation互相关和自相关<a id='math:sec:cross_correlation_and_auto_correlation'></a>\n",
    "Auto- and cross-correlation are less frequently used than the Fourier transform and convolution are. Nevertheless, they are important in interferometry. We therefore give a brief introduction here.\n",
    "\n",
    "与傅里叶变换和卷积相比，自相关和互相关的应用较少。然而，它们在干涉测量中很重要。因此，我们在此作一简要介绍。"
   ]
  },
  {
   "cell_type": "markdown",
   "metadata": {},
   "source": [
    "### 2.6.1. Cross-correlation<a id='math:sec:cross_correlation'></a>"
   ]
  },
  {
   "cell_type": "markdown",
   "metadata": {},
   "source": [
    "The cross-correlation $\\star$ is an operation acting on two complex-valued functions (remember the definition of the convolution $\\circ$ in [$\\S$ 2.5](2_5_convolution.ipynb#math:sec:convolution) <!--\\ref{math:sec:convolution}-->).\n",
    "\n",
    "互相关$\\star$是作用于两个复值函数上的运算"
   ]
  },
  {
   "cell_type": "markdown",
   "metadata": {},
   "source": [
    "<a id='math:eq:7_001'></a><!--\\label{math:eq:7_001}-->$$\n",
    "\\star: \\left\\{f\\,|\\, f:\\mathbb{R}\\rightarrow \\mathbb{C}\\right\\}\\,\\times\\, \\left\\{f\\,|\\, f:\\mathbb{R}\\rightarrow \\mathbb{C}\\right\\} \\rightarrow \\left\\{f\\,|\\, f:\\mathbb{R}\\rightarrow \\mathbb{C}\\right\\}\\\\\n",
    "\\begin{split}\n",
    "(f\\star g)(x) \\,&=\\, ({f_-}^*\\circ g)(x)\\\\\n",
    "&=\\, \\int_{-\\infty}^{+\\infty} f^*(t-x)\\,g(t)\\,dt\\\\\n",
    "&\\underset{t^\\prime = t-x}{=}\\, \\int_{-\\infty}^{+\\infty} f^*(t^\\prime)\\,g(t^\\prime+x)\\,dt^\\prime\\\\\n",
    "\\end{split}\\qquad\n",
    "$$"
   ]
  },
  {
   "cell_type": "markdown",
   "metadata": {},
   "source": [
    "with $f_-(x) = f(-x)$. In more than one dimension this reads"
   ]
  },
  {
   "cell_type": "markdown",
   "metadata": {},
   "source": [
    " <a id='math:eq:7_002'></a><!--\\label{math:eq:7_002}-->$$\n",
    "\\star: \\left\\{f\\,|\\, f:\\mathbb{R}^n\\rightarrow \\mathbb{C}\\right\\}\\,\\times\\, \\left\\{f\\,|\\, f:\\mathbb{R}^n\\rightarrow \\mathbb{C}\\right\\} \\rightarrow \\left\\{f\\,|\\, f:\\mathbb{R}^n\\rightarrow \\mathbb{C}\\right\\}\\, \\quad n \\in \\mathbb{N} \\\\\n",
    "\\begin{align}\n",
    "(f\\star g)(x_1,\\ldots,x_n ) \\,&=\\, (f\\star g)({\\bf x})\\\\\n",
    "&=\\, ({f_-}^*\\circ g)(x)\\\\\n",
    "&=\\, \\int_{-\\infty}^{+\\infty} \\ldots \\int_{-\\infty}^{+\\infty} f^*(t_1-x_1, \\ldots , t_n-x_n)\\,g(t_1, \\ldots, t_n) \\,d^nt\\\\\n",
    "\\,&=\\, \\int_{-\\infty}^{+\\infty} f^*({\\bf t}-{\\bf x})\\,g({\\bf t}) \\,d^nt\\\\\n",
    "\\,&=\\, \\int_{-\\infty}^{+\\infty} f^*({\\bf t})\\,g({\\bf t}+{\\bf x}) \\,d^nt\\\\\n",
    "\\end{align}\n",
    "$$"
   ]
  },
  {
   "cell_type": "markdown",
   "metadata": {},
   "source": [
    "It is clear that"
   ]
  },
  {
   "cell_type": "markdown",
   "metadata": {},
   "source": [
    " <a id='math:eq:7_003'></a><!--\\label{math:eq:7_003}-->$$\n",
    "\\begin{align}\n",
    "(f\\star g)(x) \\,&=\\, \\int_{-\\infty}^{+\\infty} f^*(t-x)\\,g(t) \\,dt\\\\\n",
    "\\,&=\\, \\int_{-\\infty}^{+\\infty} [f(t-x)\\,g^*(t)]^* \\,dt\\\\\n",
    "\\,&=\\, \\left(\\int_{-\\infty}^{+\\infty} f(t-x)\\,g^*(t) \\,dt\\right)^*\\\\\n",
    "\\,&\\underset{t^\\prime = t-x}{=}\\, \\left(\\int_{-\\infty}^{+\\infty} f(t^\\prime)\\,g^*(t^\\prime+x) \\,dt^\\prime\\right)^*\\\\\n",
    "\\,&=\\, \\left(g\\star f\\right)_-^*\\\\\n",
    "\\end{align}\n",
    "\\qquad\n",
    "$$"
   ]
  },
  {
   "cell_type": "markdown",
   "metadata": {},
   "source": [
    "and that the cross-correlation is identical to the convolution if one of the functions $f$ or $g$ is even and real-valued.\n",
    "\n",
    "**如果其中一个函数$f$ 或者 $g$是偶函数和实值，互相关和卷积是相同的**"
   ]
  },
  {
   "cell_type": "markdown",
   "metadata": {},
   "source": [
    "### 2.6.2. Auto-correlation<a id='math:sec:auto_correlation'></a>"
   ]
  },
  {
   "cell_type": "markdown",
   "metadata": {},
   "source": [
    "The auto-correlation of a complex-valued function is defined as\n",
    "\n",
    "复函数的自相关定义为"
   ]
  },
  {
   "cell_type": "markdown",
   "metadata": {},
   "source": [
    "<a id='math:eq:7_004'></a><!--\\label{math:eq:7_004}-->$$\n",
    "R: \\left\\{f\\,|\\, f:\\mathbb{R}\\rightarrow \\mathbb{C}\\right\\}\\,\\times\\, \\left\\{f\\,|\\, f:\\mathbb{R}\\rightarrow \\mathbb{C}\\right\\} \\rightarrow \\left\\{f\\,|\\, f:\\mathbb{R}\\rightarrow \\mathbb{C}\\right\\}\\\\\n",
    "\\begin{split}\n",
    "R\\{f\\}(x) \\,&=\\, (f\\star f)(x)\\\\\n",
    "&=\\, (f_-^*\\circ f)(x)\\\\\n",
    "&=\\, \\int_{-\\infty}^{+\\infty} f^*(t-x)\\,f(t)\\,dt\\\\\n",
    "&\\underset{t^\\prime = t-x}{=}\\, \\int_{-\\infty}^{+\\infty} f^*(t^\\prime)\\,f(t^\\prime+x)\\,dt^\\prime\\\\\n",
    "\\end{split}\\qquad \\text{.}\n",
    "$$"
   ]
  },
  {
   "cell_type": "markdown",
   "metadata": {},
   "source": [
    "It is often easier to measure the auto-correlation of a function than to measure the function itself.\n",
    "\n",
    "度量函数的自相关性通常比度量函数本身更容易。"
   ]
  },
  {
   "cell_type": "markdown",
   "metadata": {},
   "source": [
    "***\n",
    "\n",
    "* Next: [2.7 Fourier Theorems](2_7_fourier_theorems.ipynb)"
   ]
  }
 ],
 "metadata": {
  "kernelspec": {
   "display_name": "Python 3",
   "language": "python",
   "name": "python3"
  },
  "language_info": {
   "codemirror_mode": {
    "name": "ipython",
    "version": 3
   },
   "file_extension": ".py",
   "mimetype": "text/x-python",
   "name": "python",
   "nbconvert_exporter": "python",
   "pygments_lexer": "ipython3",
   "version": "3.6.9"
  }
 },
 "nbformat": 4,
 "nbformat_minor": 2
}
