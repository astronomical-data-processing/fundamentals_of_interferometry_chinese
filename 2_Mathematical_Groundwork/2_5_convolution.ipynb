{
 "cells": [
  {
   "cell_type": "markdown",
   "metadata": {},
   "source": [
    "***\n",
    "\n",
    "* [Outline](../0_Introduction/0_introduction.ipynb)\n",
    "* [Glossary](../0_Introduction/1_glossary.ipynb)\n",
    "* [2. Mathematical Groundwork](2_0_introduction.ipynb)\n",
    "    * Previous: [2.4 The Fourier Transform](2_4_the_fourier_transform.ipynb)\n",
    "    * Next: [2.6 Cross-correlation and auto-correlation](2_6_cross_correlation_and_auto_correlation.ipynb)\n",
    "\n",
    "***"
   ]
  },
  {
   "cell_type": "markdown",
   "metadata": {},
   "source": [
    "Import standard modules:"
   ]
  },
  {
   "cell_type": "code",
   "execution_count": 1,
   "metadata": {},
   "outputs": [
    {
     "data": {
      "text/html": [
       "<style>\n",
       "\n",
       "p.prerequisites {\n",
       "    border:5px;\n",
       "    border-style:none;\n",
       "    background-color:#F0F0F0;\n",
       "    box-shadow: 5px 5px 2px #888888;\n",
       "    border-color:#FF0000;\n",
       "    padding: 1em;\n",
       "    }\n",
       "\n",
       "p.conclusion {\n",
       "    border:5px;\n",
       "    border-style:none;\n",
       "    background-color:#c8ebca;\n",
       "    box-shadow: 5px 5px 2px #888888;\n",
       "    border-color:#c8ebca;\n",
       "    padding: 1em;\n",
       "    }\n",
       "\n",
       "div.warn {    \n",
       "    background-color: #fcf2f2;\n",
       "    border-color: #dFb5b4;\n",
       "    border-left: 5px solid #dfb5b4;\n",
       "    padding: 0.5em;\n",
       "    }\n",
       "\n",
       "div.advice {    \n",
       "    background-color: #ecf8ed;\n",
       "    border-color: #a2dda5;\n",
       "    border-left: 5px solid #a2dda5;\n",
       "    padding: 0.5em;\n",
       "    }\n",
       "\n",
       "</style>\n",
       "\n"
      ],
      "text/plain": [
       "<IPython.core.display.HTML object>"
      ]
     },
     "execution_count": 1,
     "metadata": {},
     "output_type": "execute_result"
    }
   ],
   "source": [
    "import numpy as np\n",
    "import matplotlib.pyplot as plt\n",
    "%matplotlib inline\n",
    "from IPython.display import HTML \n",
    "HTML('../style/course.css') #apply general CSS"
   ]
  },
  {
   "cell_type": "markdown",
   "metadata": {},
   "source": [
    "Import section specific modules:"
   ]
  },
  {
   "cell_type": "code",
   "execution_count": 2,
   "metadata": {
    "collapsed": true
   },
   "outputs": [],
   "source": [
    "import math"
   ]
  },
  {
   "cell_type": "code",
   "execution_count": 3,
   "metadata": {},
   "outputs": [
    {
     "data": {
      "text/html": [
       "<script>\n",
       "    code_show=false; \n",
       "    function code_toggle() {\n",
       "        if (code_show){\n",
       "            $('div.input').hide();\n",
       "        } else {\n",
       "            $('div.input').show();\n",
       "        }\n",
       "        code_show = !code_show\n",
       "    } \n",
       "    $( document ).ready(code_toggle);\n",
       "</script>\n",
       "\n",
       "The raw code for this notebook is by default hidden for easier reading. To toggle on/off the raw code, click <a href=\"javascript:code_toggle()\">here</a>.\n",
       "\n"
      ],
      "text/plain": [
       "<IPython.core.display.HTML object>"
      ]
     },
     "execution_count": 3,
     "metadata": {},
     "output_type": "execute_result"
    }
   ],
   "source": [
    "from IPython.display import HTML\n",
    "HTML('../style/code_toggle.html')"
   ]
  },
  {
   "cell_type": "markdown",
   "metadata": {},
   "source": [
    "## 2.5 Convolution<a id='math:sec:convolution'></a>"
   ]
  },
  {
   "cell_type": "markdown",
   "metadata": {},
   "source": [
    "The convolution is an operation connecting two functions, with the result of a mutual broadening. In signal processing, the convolution is often used to represent instrumental broadening of a signal. For any observation, the signal received is \"filtered\" by an instrumental function. The signal is smeared out. The mathematical description for this effect is the convolution of the function representing the original signal with the instrumental function. In this section, we give a detailed description. Note, the Convolution Theorem, an essential theorem in Fourier analysis and aperture synthesis is discussed in [Section 2.7.4 &#10142;](2_7_fourier_theorems.ipynb).\n",
    "\n",
    "卷积是对两个函数的运算，其结果是相互展宽的。在信号处理中，卷积常被用来表示仪器对信号的延展。观测中所接收到的信号都会被仪器函数“滤波”，即信号被模糊了。这种效应在数学上可以描述为原始信号函数与仪器函数的卷积。在本节中，我们将给出详细的描述。注意，卷积定理是傅里叶分析和孔径合成中的一个基本定理。"
   ]
  },
  {
   "cell_type": "markdown",
   "metadata": {},
   "source": [
    "### 2.5.1 Definition of Convolution<a id='math:sec:definition_of_convolution'></a>"
   ]
  },
  {
   "cell_type": "markdown",
   "metadata": {},
   "source": [
    "The convolution $\\circ$ is an operation acting on two complex-valued functions.\n",
    "\n",
    "卷积 $\\circ$ 是作用于两个复值函数的运算。"
   ]
  },
  {
   "cell_type": "markdown",
   "metadata": {},
   "source": [
    "<a id='math:eq:5_001'></a><!--\\label{math:eq:5_001}-->$$\n",
    "\\circ: \\left\\{f\\,|\\, f:\\mathbb{R}\\rightarrow \\mathbb{C}\\right\\}\\,\\times\\, \\left\\{f\\,|\\, f:\\mathbb{R}\\rightarrow \\mathbb{C}\\right\\} \\rightarrow \\left\\{f\\,|\\, f:\\mathbb{R}\\rightarrow \\mathbb{C}\\right\\}\\\\\n",
    "(f\\circ g)(x) \\,=\\, \\int_{-\\infty}^{+\\infty} f(x-t)\\,g(t)\\,dt\n",
    "$$"
   ]
  },
  {
   "cell_type": "markdown",
   "metadata": {},
   "source": [
    "or, in more than one dimension\n",
    "\n",
    "多维卷积"
   ]
  },
  {
   "cell_type": "markdown",
   "metadata": {},
   "source": [
    "<a id='math:eq:5_002'></a><!--\\label{math:eq:5_002}-->$$\n",
    "\\circ: \\left\\{f\\,|\\, f:\\mathbb{R}^n\\rightarrow \\mathbb{C}\\right\\}\\,\\times\\, \\left\\{f\\,|\\, f:\\mathbb{R}^n\\rightarrow \\mathbb{C}\\right\\} \\rightarrow \\left\\{f\\,|\\, f:\\mathbb{R}^n\\rightarrow \\mathbb{C}\\right\\} \\, \\quad n \\in \\mathbb{N}\\\\\n",
    "\\begin{align}\n",
    "(f\\circ g)(x_1,\\ldots,x_n ) \\,&=\\, (f\\circ g)({\\bf x})\\\\\n",
    "\\,&=\\, \\int_{-\\infty}^{+\\infty} \\ldots \\int_{-\\infty}^{+\\infty} f(x_1-t_1, \\ldots , x_n-t_n)\\,g(t_1, \\ldots, t_n) \\,d^nt\\\\\n",
    "\\,&=\\, \\int_{-\\infty}^{+\\infty} f({\\bf x}-{\\bf t})\\,g({\\bf t}) \\,d^nt\\end{align}\n",
    "$$"
   ]
  },
  {
   "cell_type": "markdown",
   "metadata": {},
   "source": [
    "### 2.5.2 Properties of Convolution  卷积的属性<a id='math:sec:properties_of_convolution'></a>"
   ]
  },
  {
   "cell_type": "markdown",
   "metadata": {},
   "source": [
    "The following rules apply:\n",
    "\n",
    "下列规则应用于"
   ]
  },
  {
   "cell_type": "markdown",
   "metadata": {},
   "source": [
    "<a id='math:eq:5_003'></a><!--\\label{math:eq:5_003}-->$$\n",
    "\\forall\\,f,g\\in \\left\\{h\\,|\\, h:\\mathbb{R}\\rightarrow \\mathbb{C}\\right\\}, \\quad a \\in \\mathbb{C}\\\\\n",
    "\\begin{align}\n",
    "f\\circ g \\,&=\\, g \\circ f&\\qquad (\\text{commutativity，交换律})\\\\\n",
    "(f\\circ g)\\circ h \\,&=\\, f \\circ (g\\circ h)&\\qquad (\\text{assiociativity，结合律})\\\\\n",
    "f \\circ (g + h) \\,&=\\, (f \\circ g) + (f\\circ h) &\\qquad (\\text{distributivity})\\\\\n",
    "(a\\, g)\\circ h \\,&=\\, a \\, (g\\circ h)&\\qquad (\\text{assiociativity with scalar multiplication})\\\\\n",
    "\\end{align}\n",
    "$$"
   ]
  },
  {
   "cell_type": "markdown",
   "metadata": {},
   "source": [
    "Because (in one dimenstion, to keep it short)\n",
    "\n",
    "因为(在一维情况下，保持简短)"
   ]
  },
  {
   "cell_type": "markdown",
   "metadata": {},
   "source": [
    "<a id='math:eq:5_002'></a><!--\\label{math:eq:5_002}-->$$\n",
    "\\begin{split}\n",
    "(f\\circ g)(x) \\,&=\\, \\int_{-\\infty}^{+\\infty} f(x-t)\\,g(t)\\,dt\\\\\n",
    "&\\underset{t^{\\prime} = x - t}{=}\\, \\int_{\\infty}^{-\\infty} f(t^{\\prime})\\,g(x-t^{\\prime})\\,\\frac{dt}{dt^{\\prime}}dt^{\\prime}\\\\\n",
    "&=\\, - \\int_{-\\infty}^{+\\infty} f(t^{\\prime})\\,g(x-t^{\\prime})(-1)\\,dt'\\\\\n",
    "&= (g\\circ f)(x)\\\\\n",
    "((f\\circ g)\\circ h)(x) \\,&=\\, \\int_{-\\infty}^{+\\infty} \\left[\\int_{-\\infty}^{+\\infty} f((x-t^{\\prime})-t)\\,g(t)\\,dt\\right]\\,h(t^\\prime)\\,dt^{\\prime}\\\\\n",
    "&=\\, \\int_{-\\infty}^{+\\infty} \\int_{-\\infty}^{+\\infty} f(x-t -t^{\\prime})\\,g(t)\\,h(t^\\prime)\\,dt\\,dt^{\\prime}\\\\\n",
    "&=\\, \\int_{-\\infty}^{+\\infty} \\int_{-\\infty}^{+\\infty} f((x-t) -t^{\\prime})\\,h(t^\\prime)\\,g(t)\\,dt^{\\prime}\\,dt\\\\\n",
    "&=\\, \\int_{-\\infty}^{+\\infty} \\left[\\int_{-\\infty}^{+\\infty} f((x-t) -t^{\\prime})\\,h(t^\\prime)\\,dt^{\\prime}\\right]\\,g(t)\\,dt\\\\\n",
    "&=\\, (f\\circ (g\\circ h))(x)\n",
    "\\end{split}\\qquad \\rm \n",
    "$$"
   ]
  },
  {
   "cell_type": "markdown",
   "metadata": {},
   "source": [
    "The last two rules can be easily verified.\n",
    "\n",
    "最后两个规则很容易证明"
   ]
  },
  {
   "cell_type": "markdown",
   "metadata": {},
   "source": [
    "### 2.5.3 Convolution Theorem  卷积理论<a id='math:sec:convolution_theorem_link'></a>\n",
    "\n",
    "See [Section 2.7.4 &#10142;](2_7_fourier_theorems.ipynb)"
   ]
  },
  {
   "cell_type": "markdown",
   "metadata": {},
   "source": [
    "### 2.5.4 Convolution Examples  卷积例子<a id='math:sec:convolution_examples'></a>"
   ]
  },
  {
   "cell_type": "markdown",
   "metadata": {},
   "source": [
    "As said, the convolution is often used to represent an instrumental function. We want to demonstrate this. Let us assume a simple function, the triangle wave and a rectangle function (scaled to an area of 1). If we convolve them we get this:\n",
    "\n",
    "如前所述，卷积常被用来表示仪器函数。我们想证明这一点。让我们假设一个简单的函数，三角波和矩形函数(缩放到1的面积)"
   ]
  },
  {
   "cell_type": "code",
   "execution_count": 4,
   "metadata": {},
   "outputs": [
    {
     "data": {
      "image/png": "[encoded data removed]",
      "text/plain": [
       "<Figure size 432x288 with 3 Axes>"
      ]
     },
     "metadata": {
      "needs_background": "light"
     },
     "output_type": "display_data"
    }
   ],
   "source": [
    "import math\n",
    "\n",
    "from matplotlib import rcParams\n",
    "rcParams['text.usetex'] = True\n",
    "\n",
    "#def trianglewave(x, T):\n",
    "#    \"\"\"\n",
    "#    This is a sawtooth, though\n",
    "#    \"\"\"\n",
    "#    return np.mod(x/T,1.)*np.logical_and(x>=0,x<=T)\n",
    "\n",
    "def trianglewave(x, T):\n",
    "    \"\"\"\n",
    "    T is the period.\n",
    "    \"\"\"\n",
    "    return np.abs(2.*(np.mod(x/T,1.)-0.5))-0.5\n",
    "\n",
    "def boxcar(x,a,b,amp):\n",
    "    return amp*np.logical_and(x>=a,x<=b)\n",
    "    \n",
    "def plottriboxconv(a, b, period):\n",
    "\n",
    "    # limits of boxcar Play arround with this\n",
    "#    a = -0.1\n",
    "#    b = 0.1\n",
    "    \n",
    "    # Plotting range\n",
    "    xrange = [-2., 2.]\n",
    "\n",
    "    # Create functions\n",
    "    xpoints = 1000\n",
    "   \n",
    "    # Resolution element\n",
    "    dx = (xrange[1]-xrange[0])/float(xpoints)\n",
    "\n",
    "    x = np.linspace(xrange[0], xrange[1], xpoints)\n",
    "    y = boxcar(x, a, b, 1.)\n",
    "\n",
    "    # boxcar will be normalised to 1. amp = 1./(b-a) works in the limit of many points, but here we do\n",
    "    # numberofpixelsinbox*dx*amplitude = y.sum *dx*amplitude = 1\n",
    "    # to take into account numerical effects\n",
    "    amp = float(xpoints)/((xrange[1]-xrange[0])* y.sum())\n",
    "    y = boxcar(x, a, b, 1./(b-a))\n",
    "    ycorr = boxcar(x, a, b, amp)\n",
    "    z = trianglewave(x, period)\n",
    "\n",
    "    result = np.convolve(ycorr,z,'same')\n",
    "    result = dx*result\n",
    "        \n",
    "    # Start the plot, create a figure instance and a subplot\n",
    "    fig = plt.figure()\n",
    "    ax1  = fig.add_subplot(311)\n",
    "    fig.tight_layout()\n",
    "    plt.subplots_adjust(hspace = 0.6)\n",
    "    \n",
    "    # Axis ranges\n",
    "    ax1.axis([xrange[0]+(b-a), xrange[1]-(b-a), z.min()-0.1*(z.max()-z.min()), z.max()+0.1*(z.max()-z.min())])\n",
    "\n",
    "    # Plot a grid\n",
    "    ax1.grid(True)\n",
    "\n",
    "    # Insert lines at x=0 and y=0\n",
    "    ax1.axhline(0.,linewidth=1, color = 'k', linestyle='dashed')\n",
    "    ax1.axvline(0.,linewidth=1, color = 'k', linestyle='dashed')\n",
    "    \n",
    "    # Plot function\n",
    "    ax1.plot(x,z,'b-')\n",
    "\n",
    "    plt.title(\"Triangle wave\", fontsize=14,color='black')\n",
    "    \n",
    "    ax2  = fig.add_subplot(312, sharex=ax1) \n",
    "\n",
    "    # Axis ranges\n",
    "    ax2.axis([xrange[0]+(b-a), xrange[1]-(b-a), ycorr.min()-0.1*(ycorr.max()-ycorr.min()), \\\n",
    "              ycorr.max()+0.1*(ycorr.max()-ycorr.min())])\n",
    "\n",
    "    # Plot a grid\n",
    "    ax2.grid(True)\n",
    "\n",
    "    # Insert lines at x=0 and y=0\n",
    "    ax2.axhline(0.,linewidth=1, color = 'k', linestyle='dashed')\n",
    "    ax2.axvline(0.,linewidth=1, color = 'k', linestyle='dashed')\n",
    "    \n",
    "    # Plot function\n",
    "    e1 = int(math.ceil(xpoints*(a-xrange[0])/(xrange[1]-xrange[0])))\n",
    "    ax2.plot(x[:e1],y[:e1],'b-')\n",
    "    ax2.plot([a, a],[0., amp],'b--')\n",
    "    e2 = int(math.floor(xpoints*(b-xrange[0])/(xrange[1]-xrange[0])))\n",
    "    ax2.plot(x[e1:e2],y[e1:e2],'b-')\n",
    "    e3 = xpoints\n",
    "    ax2.plot(x[e2:],y[e2:],'b-')\n",
    "    ax2.plot([b, b],[0., amp],'b--')\n",
    "\n",
    "    plt.title(\"Rectangle function\", fontsize=14,color='black')\n",
    "    \n",
    "    ax3  = fig.add_subplot(313, sharex=ax2) \n",
    "\n",
    "    # Axis ranges: mask out border effects\n",
    "    rmin = result.min()\n",
    "    rmax = result.max()\n",
    "    \n",
    "    # Just to make the result a bit more beautiful if the function is very flat\n",
    "    if (rmax - rmin) < 0.1:\n",
    "        rmin=rmin-0.1\n",
    "        rmax=rmax+0.1\n",
    "\n",
    "    ax3.axis([xrange[0]+(b-a), xrange[1]-(b-a), rmin-0.1*(rmax-rmin), rmax+0.1*(rmax-rmin)])\n",
    "\n",
    "    # Plot a grid\n",
    "    ax3.grid(True)\n",
    "\n",
    "    # Insert lines at x=0 and y=0\n",
    "    ax3.axhline(0.,linewidth=1, color = 'k', linestyle='dashed')\n",
    "    ax3.axvline(0.,linewidth=1, color = 'k', linestyle='dashed')\n",
    "    \n",
    "    # Plot function\n",
    "    plr1 =  int(xpoints*(b-a)/(xrange[1]-xrange[0]))\n",
    "    plr2 =  int(xpoints*(1-(b-a)/(xrange[1]-xrange[0])))\n",
    "    \n",
    "    ax3.plot(x[plr1:plr2],result[plr1:plr2],'b-')\n",
    "\n",
    "    plt.title(\"Triangle wave filtered with rectangle function\", fontsize=14,color='black')\n",
    "        \n",
    "# first two arguments give the position of the rectangle, third the period of the Triangle\n",
    "plottriboxconv(-0.1, 0.1, 1.0)\n",
    "# <a id='math:fig:trifilt'></a><!--\\label{math:fig:trifilt}-->"
   ]
  },
  {
   "cell_type": "markdown",
   "metadata": {},
   "source": [
    "**Figure 2.5.1:** Rectangle-filtered triangle wave"
   ]
  },
  {
   "cell_type": "markdown",
   "metadata": {},
   "source": [
    " One might assume that one is observing a (co-)sine function. But it can get worse: \n",
    " \n",
    " 我们可以假设我们在观察一个(co-)正弦函数。但情况可能会变得更糟"
   ]
  },
  {
   "cell_type": "code",
   "execution_count": 5,
   "metadata": {},
   "outputs": [
    {
     "data": {
      "image/png": "[encoded data removed]",
      "text/plain": [
       "<Figure size 432x288 with 3 Axes>"
      ]
     },
     "metadata": {
      "needs_background": "light"
     },
     "output_type": "display_data"
    }
   ],
   "source": [
    "# first two arguments give the position of the rectangle, third the period of the Triangle\n",
    "plottriboxconv(-0.5, 0.5, 1.0)\n",
    "# <a id='math:fig:trifilt'></a><!--\\label{math:fig:trifilt}-->"
   ]
  },
  {
   "cell_type": "markdown",
   "metadata": {},
   "source": [
    "**Figure 2.5.2:** Triangle wave filtered with rectangle function, another example."
   ]
  },
  {
   "cell_type": "markdown",
   "metadata": {},
   "source": [
    "This example illustrates that the process of filtering can destroy information about our signal. However, filtering can also be useful. Given noisy observations of a function, a rectangle function can be used to filter out the noise. This is illustrated in the subsequent example. \n",
    "\n",
    "这个例子说明了滤波过程会破坏信号的信息。然而，过滤也很有用。给定函数的噪声观测值，可以用矩形函数滤除噪声。下面的示例演示了这一点。"
   ]
  },
  {
   "cell_type": "code",
   "execution_count": 6,
   "metadata": {},
   "outputs": [
    {
     "data": {
      "image/png": "[encoded data removed]",
      "text/plain": [
       "<Figure size 432x288 with 4 Axes>"
      ]
     },
     "metadata": {
      "needs_background": "light"
     },
     "output_type": "display_data"
    }
   ],
   "source": [
    "from matplotlib import rcParams\n",
    "rcParams['text.usetex'] = True\n",
    "\n",
    "def noisycosinewave(x, amplitude, T, sigma):\n",
    "    \"\"\"\n",
    "    T is the period, sigma is the dispersion, amplitude the amplitude\n",
    "    \"\"\"\n",
    "    return amplitude*np.cos(2.*math.pi*x/T)+np.random.normal(scale=sigma, size=x.size)\n",
    "\n",
    "def boxcar(x,a,b,amp):\n",
    "    return amp*np.logical_and(x>=a,x<=b)\n",
    "    \n",
    "def plotcosboxconv(a, b, period, sigma):\n",
    "\n",
    "    # limits of boxcar Play arround with this\n",
    "#    a = -0.1\n",
    "#    b = 0.1\n",
    "    \n",
    "    # Plotting range\n",
    "    xrange = [-2., 2.]\n",
    "\n",
    "    # Create functions\n",
    "    xpoints = 1000\n",
    "   \n",
    "    # Resolution element\n",
    "    dx = (xrange[1]-xrange[0])/float(xpoints)\n",
    "\n",
    "    x = np.linspace(xrange[0], xrange[1], xpoints)\n",
    "    y = boxcar(x, a, b, 1.)\n",
    "\n",
    "    # boxcar will be normalised to 1. amp = 1./(b-a) works in the limit of many points, but here we do\n",
    "    # numberofpixelsinbox*dx*amplitude = y.sum *dx*amplitude = 1\n",
    "    # to take into account numerical effects\n",
    "    amp = float(xpoints)/((xrange[1]-xrange[0])* y.sum())\n",
    "    y = boxcar(x, a, b, 1./(b-a))\n",
    "    ycorr = boxcar(x, a, b, amp)\n",
    "    z = noisycosinewave(x, 1., period, sigma)\n",
    "    c = np.cos(2.*math.pi*x/period)\n",
    "    \n",
    "    result = np.convolve(ycorr,z,'same')\n",
    "    result = dx*result\n",
    "        \n",
    "    # Start the plot, create a figure instance and a subplot\n",
    "    fig = plt.figure()\n",
    "    \n",
    "    ax1  = fig.add_subplot(411)\n",
    "    fig.tight_layout()\n",
    "    plt.subplots_adjust(hspace = 0.8)\n",
    "    \n",
    "    # Axis ranges\n",
    "    ax1.axis([xrange[0]+(b-a), xrange[1]-(b-a), c.min()-0.1*(c.max()-c.min()), c.max()+0.1*(c.max()-c.min())])\n",
    "\n",
    "    # Plot a grid\n",
    "    ax1.grid(True)\n",
    "\n",
    "    # Insert lines at x=0 and y=0\n",
    "    ax1.axhline(0.,linewidth=1, color = 'k', linestyle='dashed')\n",
    "    ax1.axvline(0.,linewidth=1, color = 'k', linestyle='dashed')\n",
    "    \n",
    "    # Plot function\n",
    "    ax1.plot(x,c,'b-')\n",
    "\n",
    "    plt.title(\"Original function (cos)\", fontsize=14,color='black')\n",
    "\n",
    "    ax1  = fig.add_subplot(412)\n",
    " \n",
    "    # Axis ranges\n",
    "    ax1.axis([xrange[0]+(b-a), xrange[1]-(b-a), z.min()-0.1*(z.max()-z.min()), z.max()+0.1*(z.max()-z.min())])\n",
    "\n",
    "    # Plot a grid\n",
    "    ax1.grid(True)\n",
    "\n",
    "    # Insert lines at x=0 and y=0\n",
    "    ax1.axhline(0.,linewidth=1, color = 'k', linestyle='dashed')\n",
    "    ax1.axvline(0.,linewidth=1, color = 'k', linestyle='dashed')\n",
    "    \n",
    "    # Plot function\n",
    "    ax1.plot(x,z,'b-')\n",
    "\n",
    "    plt.title(\"Noise added\", fontsize=14,color='black')\n",
    "    \n",
    "    ax2  = fig.add_subplot(413, sharex=ax1) \n",
    "\n",
    "    # Axis ranges\n",
    "    ax2.axis([xrange[0]+(b-a), xrange[1]-(b-a), ycorr.min()-0.1*(ycorr.max()-ycorr.min()), \\\n",
    "              ycorr.max()+0.1*(ycorr.max()-ycorr.min())])\n",
    "\n",
    "    # Plot a grid\n",
    "    ax2.grid(True)\n",
    "\n",
    "    # Insert lines at x=0 and y=0\n",
    "    ax2.axhline(0.,linewidth=1, color = 'k', linestyle='dashed')\n",
    "    ax2.axvline(0.,linewidth=1, color = 'k', linestyle='dashed')\n",
    "    \n",
    "    # Plot function\n",
    "    e1 = int(math.ceil(xpoints*(a-xrange[0])/(xrange[1]-xrange[0])))\n",
    "    ax2.plot(x[:e1],y[:e1],'b-')\n",
    "    ax2.plot([a, a],[0., amp],'b--')\n",
    "    e2 = int(math.floor(xpoints*(b-xrange[0])/(xrange[1]-xrange[0])))\n",
    "    ax2.plot(x[e1:e2],y[e1:e2],'b-')\n",
    "    e3 = xpoints\n",
    "    ax2.plot(x[e2:],y[e2:],'b-')\n",
    "    ax2.plot([b, b],[0., amp],'b--')\n",
    "\n",
    "    plt.title(\"Rectangle function\", fontsize=14,color='black')\n",
    "    \n",
    "    ax3  = fig.add_subplot(414, sharex=ax2) \n",
    "\n",
    "    # Axis ranges: mask out border effects\n",
    "    rmin = result.min()\n",
    "    rmax = result.max()\n",
    "    \n",
    "    # Just to make the result a bit more beautiful if the function is very flat\n",
    "    if (rmax - rmin) < 0.1:\n",
    "        rmin=rmin-0.1\n",
    "        rmax=rmax+0.1\n",
    "\n",
    "    ax3.axis([xrange[0]+(b-a), xrange[1]-(b-a), rmin-0.1*(rmax-rmin), rmax+0.1*(rmax-rmin)])\n",
    "\n",
    "    # Plot a grid\n",
    "    ax3.grid(True)\n",
    "\n",
    "    # Insert lines at x=0 and y=0\n",
    "    ax3.axhline(0.,linewidth=1, color = 'k', linestyle='dashed')\n",
    "    ax3.axvline(0.,linewidth=1, color = 'k', linestyle='dashed')\n",
    "    \n",
    "    # Plot function\n",
    "    plr1 =  int(xpoints*(b-a)/(xrange[1]-xrange[0]))\n",
    "    plr2 =  int(xpoints*(1-(b-a)/(xrange[1]-xrange[0])))\n",
    "    \n",
    "    ax3.plot(x[plr1:plr2],result[plr1:plr2],'b-')\n",
    "\n",
    "    plt.title(\"Noisy function filtered with rectangle function\", fontsize=14,color='black')\n",
    "        \n",
    "# first two arguments give the position of the rectangle, third the period of the Triangle\n",
    "plotcosboxconv(-0.1, 0.1, 1.0, 2.5)\n",
    "# <a id='math:fig:filtnoise'></a><!--\\label{math:fig:filtnoise}-->"
   ]
  },
  {
   "cell_type": "markdown",
   "metadata": {},
   "source": [
    "**Figure 2.5.3:** Filtering a sine wave completely hidden in the noise with a rectangle function."
   ]
  },
  {
   "cell_type": "markdown",
   "metadata": {},
   "source": [
    "Note, that while the signal is not visible in the noisy data, it is partially recovered in the output of the filter.\n",
    "\n",
    "注意，虽然信号被噪声掩盖变得不可见，但是通过滤波，信号被部分恢复。\n",
    "\n",
    "Representing instrumental functions, it is important to differentiate between the response function in a certain direction and the image of an impulse, which is the reverse of the response function. The function used to represent a measurement via convolution is the image of an impulse function at the origin. This becomes evident, when we convolve two asymmetric functions.\n",
    "\n",
    "作为仪器函数的表示，在一定方向上区分响应函数和脉冲图像是很重要的，脉冲图像与响应函数是相反的。用来表示卷积测量的函数是脉冲函数在原点处的图像。当我们对两个非对称函数进行卷积时，这一点就很明显了。"
   ]
  },
  {
   "cell_type": "code",
   "execution_count": 7,
   "metadata": {},
   "outputs": [
    {
     "data": {
      "image/png": "[encoded data removed]",
      "text/plain": [
       "<Figure size 432x288 with 3 Axes>"
      ]
     },
     "metadata": {
      "needs_background": "light"
     },
     "output_type": "display_data"
    }
   ],
   "source": [
    "from matplotlib import rcParams\n",
    "rcParams['text.usetex'] = True\n",
    "\n",
    "def gausshermetian(x, amp, mu, sigma, h3, h4):\n",
    "    \"\"\"\n",
    "    T is the period, sigma is the dispersion, amplitude the amplitude\n",
    "    \"\"\"\n",
    "    y = (x-mu)/sigma\n",
    "    return amp*np.exp(-0.5*y**2)*(1+h3*(2*np.sqrt(2.)*y**3-3*np.sqrt(2.)*y)/np.sqrt(6.)+h4*(4*y**4-12*y**2+3)/np.sqrt(24))\n",
    "\n",
    "#amplitude*np.cos(2.*math.pi*x/T)+np.random.normal(scale=sigma, size=x.size)\n",
    "\n",
    "def boxcar(x,a,b,amp):\n",
    "    return amp*np.logical_and(x>=a,x<=b)\n",
    "    \n",
    "def plotskewedgaussobs(pos1, pos2, boxwidth, sigma, h3, h4):\n",
    "\n",
    "    # limits of boxcar Play arround with this\n",
    "#    a = -0.1\n",
    "#    b = 0.1\n",
    "    \n",
    "    # Plotting range\n",
    "    xrange = [-2., 2.]\n",
    "\n",
    "    # Create functions\n",
    "    xpoints = 1000\n",
    "   \n",
    "    # Resolution element\n",
    "    dx = (xrange[1]-xrange[0])/float(xpoints)\n",
    "\n",
    "    x = np.linspace(xrange[0], xrange[1], xpoints)\n",
    "    y = boxcar(x, pos1-boxwidth/2., pos1+boxwidth/2, \\\n",
    "               1./boxwidth)+0.5*boxcar(x, pos2-boxwidth/2., pos2+boxwidth/2, 1./boxwidth)\n",
    "\n",
    "    # boxcar will be normalised to 1. amp = 1./(b-a) works in the limit of many points, but here we do\n",
    "    # numberofpixelsinbox*dx*amplitude = y.sum *dx*amplitude = 1\n",
    "    # to take into account numerical effects\n",
    "    z = gausshermetian(x, 1., 0., sigma, h3, h4)\n",
    "    \n",
    "    result = np.convolve(y,z,'same')\n",
    "    result = dx*result\n",
    "        \n",
    "    # Start the plot, create a figure instance and a subplot\n",
    "    fig = plt.figure()\n",
    "      \n",
    "    ax1  = fig.add_subplot(311) \n",
    "    fig.tight_layout()\n",
    "    plt.subplots_adjust(hspace = 0.7)\n",
    " \n",
    "    # Axis ranges\n",
    "    ax1.axis([xrange[0]+boxwidth, xrange[1]-boxwidth, y.min()-0.1*(y.max()-y.min()), y.max()+0.1*(y.max()-y.min())])\n",
    "\n",
    "    # Plot a grid\n",
    "    ax1.grid(True)\n",
    "\n",
    "    # Insert lines at x=0 and y=0\n",
    "    ax1.axhline(0.,linewidth=1, color = 'k', linestyle='dashed')\n",
    "    ax1.axvline(0.,linewidth=1, color = 'k', linestyle='dashed')\n",
    "    \n",
    "    # Plot function\n",
    "    ax1.plot(x,y,'b-')\n",
    "\n",
    "    plt.title(\"Original function, impulse\", fontsize=14,color='black')\n",
    "    \n",
    "    ax2  = fig.add_subplot(312, sharex=ax1)\n",
    " \n",
    "    # Axis ranges\n",
    "    ax2.axis([xrange[0]+boxwidth, xrange[1]-boxwidth, z.min()-0.1*(z.max()-z.min()), z.max()+0.1*(z.max()-z.min())])\n",
    "\n",
    "    # Plot a grid\n",
    "    ax2.grid(True)\n",
    "\n",
    "    # Insert lines at x=0 and y=0\n",
    "    ax2.axhline(0.,linewidth=1, color = 'k', linestyle='dashed')\n",
    "    ax2.axvline(0.,linewidth=1, color = 'k', linestyle='dashed')\n",
    "    \n",
    "    # Plot function\n",
    "    ax2.plot(x,z,'b-')\n",
    "\n",
    "    plt.title(\"Instrumental function\", fontsize=14,color='black')\n",
    "\n",
    "    ax3  = fig.add_subplot(313, sharex=ax2) \n",
    "\n",
    "    # Axis ranges: mask out border effects\n",
    "    rmin = result.min()\n",
    "    rmax = result.max()\n",
    "    \n",
    "    ax3.axis([xrange[0]+boxwidth, xrange[1]-boxwidth, rmin-0.1*(rmax-rmin), rmax+0.1*(rmax-rmin)])\n",
    "\n",
    "    # Plot a grid\n",
    "    ax3.grid(True)\n",
    "\n",
    "    # Insert lines at x=0 and y=0\n",
    "    ax3.axhline(0.,linewidth=1, color = 'k', linestyle='dashed')\n",
    "    ax3.axvline(0.,linewidth=1, color = 'k', linestyle='dashed')\n",
    "    \n",
    "    # Plot function\n",
    "    plr1 =  int(xpoints*boxwidth/(xrange[1]-xrange[0]))\n",
    "    plr2 =  int(xpoints*(1-boxwidth/(xrange[1]-xrange[0])))\n",
    "    \n",
    "    ax3.plot(x[plr1:plr2],result[plr1:plr2],'b-')\n",
    "\n",
    "    plt.title(\"Image: original function filtered with instrumental function\", fontsize=14,color='black')\n",
    "    \n",
    "# first two arguments give the position of the rectangle, third the period of the Triangle\n",
    "plotskewedgaussobs(0.0, 1.0, 0.01, 0.1, 0.2, 0.1)\n",
    "# <a id='math:fig:stars'></a><!--\\label{math:fig:stars}-->"
   ]
  },
  {
   "cell_type": "markdown",
   "metadata": {},
   "source": [
    "**Figure 2.5.4:** Observing one-dimensional stars."
   ]
  },
  {
   "cell_type": "markdown",
   "metadata": {},
   "source": [
    "Would it be the sensitivity at a certain position, the convolution would *not* be  the appropriate operation to describe an experiment. In that case (assuming real-valued functions), the cross-correlation would be the operation of choice.\n",
    "\n",
    "如果是某个位置的灵敏度，卷积就不是描述实验的合适操作。在这种情况下(假设实值函数)，应该选择互相关操作。"
   ]
  },
  {
   "cell_type": "markdown",
   "metadata": {},
   "source": [
    "***\n",
    "\n",
    "* Next [2.6 Cross-correlation and auto-correlation](2_6_cross_correlation_and_auto_correlation.ipynb)"
   ]
  }
 ],
 "metadata": {
  "kernelspec": {
   "display_name": "Python 3",
   "language": "python",
   "name": "python3"
  },
  "language_info": {
   "codemirror_mode": {
    "name": "ipython",
    "version": 3
   },
   "file_extension": ".py",
   "mimetype": "text/x-python",
   "name": "python",
   "nbconvert_exporter": "python",
   "pygments_lexer": "ipython3",
   "version": "3.6.9"
  }
 },
 "nbformat": 4,
 "nbformat_minor": 2
}
