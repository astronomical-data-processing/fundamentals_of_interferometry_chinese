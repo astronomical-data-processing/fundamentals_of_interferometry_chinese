{
 "cells": [
  {
   "cell_type": "markdown",
   "metadata": {},
   "source": [
    "***\n",
    "\n",
    "* [Outline](../0_Introduction/0_introduction.ipynb)\n",
    "* [Glossary](../0_Introduction/1_glossary.ipynb)\n",
    "* [4. The Visibility space](4_0_introduction.ipynb)\n",
    "    * Previous: [4.5.2 UV Coverage](4_5_2_uv_coverage_improving_your_coverage.ipynb)\n",
    "    * Next: [4.x Further Reading And References](4_x_further_reading_and_references.ipynb)\n",
    "\n",
    "***"
   ]
  },
  {
   "cell_type": "markdown",
   "metadata": {},
   "source": [
    "导入标准模块：\n",
    "\n",
    "Import standard modules:"
   ]
  },
  {
   "cell_type": "code",
   "execution_count": 1,
   "metadata": {},
   "outputs": [
    {
     "data": {
      "text/html": [
       "<style>\n",
       "\n",
       "p.prerequisites {\n",
       "    border:5px;\n",
       "    border-style:none;\n",
       "    background-color:#F0F0F0;\n",
       "    box-shadow: 5px 5px 2px #888888;\n",
       "    border-color:#FF0000;\n",
       "    padding: 1em;\n",
       "    }\n",
       "\n",
       "p.conclusion {\n",
       "    border:5px;\n",
       "    border-style:none;\n",
       "    background-color:#c8ebca;\n",
       "    box-shadow: 5px 5px 2px #888888;\n",
       "    border-color:#c8ebca;\n",
       "    padding: 1em;\n",
       "    }\n",
       "\n",
       "div.warn {    \n",
       "    background-color: #fcf2f2;\n",
       "    border-color: #dFb5b4;\n",
       "    border-left: 5px solid #dfb5b4;\n",
       "    padding: 0.5em;\n",
       "    }\n",
       "\n",
       "div.advice {    \n",
       "    background-color: #ecf8ed;\n",
       "    border-color: #a2dda5;\n",
       "    border-left: 5px solid #a2dda5;\n",
       "    padding: 0.5em;\n",
       "    }\n",
       "\n",
       "</style>\n",
       "\n"
      ],
      "text/plain": [
       "<IPython.core.display.HTML object>"
      ]
     },
     "execution_count": 1,
     "metadata": {},
     "output_type": "execute_result"
    }
   ],
   "source": [
    "import numpy as np\n",
    "import matplotlib.pyplot as plt\n",
    "%matplotlib inline\n",
    "from IPython.display import HTML \n",
    "HTML('../style/course.css') #apply general CSS"
   ]
  },
  {
   "cell_type": "markdown",
   "metadata": {},
   "source": [
    "Import section specific modules:"
   ]
  },
  {
   "cell_type": "code",
   "execution_count": 3,
   "metadata": {},
   "outputs": [
    {
     "data": {
      "text/html": [
       "<script>\n",
       "    code_show=false; \n",
       "    function code_toggle() {\n",
       "        if (code_show){\n",
       "            $('div.input').hide();\n",
       "        } else {\n",
       "            $('div.input').show();\n",
       "        }\n",
       "        code_show = !code_show\n",
       "    } \n",
       "    $( document ).ready(code_toggle);\n",
       "</script>\n",
       "\n",
       "The raw code for this notebook is by default hidden for easier reading. To toggle on/off the raw code, click <a href=\"javascript:code_toggle()\">here</a>.\n",
       "\n"
      ],
      "text/plain": [
       "<IPython.core.display.HTML object>"
      ]
     },
     "execution_count": 3,
     "metadata": {},
     "output_type": "execute_result"
    }
   ],
   "source": [
    "HTML('../style/code_toggle.html')"
   ]
  },
  {
   "cell_type": "markdown",
   "metadata": {},
   "source": [
    "***"
   ]
  },
  {
   "cell_type": "markdown",
   "metadata": {},
   "source": [
    "## 4.6 傅里叶近似和 范西特-泽尼克定理\n",
    "## 4.6 The Fourier Approximation & the van Cittert-Zernike Theorem"
   ]
  },
  {
   "cell_type": "markdown",
   "metadata": {},
   "source": [
    "干涉仪测量的不是天空信号，而是天空的可见度函数。即使天空信号跟我们的测量结果之间没有失真，也仍然需要对孔径合成加以简化。\n",
    "\n",
    "An interferometer does not measure the sky, but rather its associated visibility function. Even in the absence of distortions between the sky signal and our measurement thereof, we still need to simplify our framework to perform aperture synthesis.\n",
    "\n",
    "Van Cittert-Zernike 定理在天空和可见度函数之间建立了明确联系，但是到目前为止，我们还只是简单“表述”了在天线的测量结果和天空本身之间存在着傅立叶关系。接下来，我们将进一步解释说明。\n",
    "\n",
    "The Van Cittert-Zernike theorem makes the link between sky and visibility function explicit. So far, we have simply **stated** that there was a Fourier relation between what our antennas measure and the sky itself. Our aim is now to show the exact regime in which this is true. \n",
    "\n",
    "在 [$\\S$ 4.6.1 &#10549;](#vis:sec:461) ，我们将首先做近似处理，对[$\\S$ 4.4 &#10142;](4_4_the_visibility_function.ipynb) 中的 [Eq. 4.4.2 &#10142;](4_4_the_visibility_function.ipynb#vis:eq:442) 进行简化。\n",
    "\n",
    "In [$\\S$ 4.6.1 &#10549;](#vis:sec:461), we will start by taking some approximation which will simplify [Eq. 4.4.2 &#10142;](4_4_the_visibility_function.ipynb#vis:eq:442) in [$\\S$ 4.4 &#10142;](4_4_the_visibility_function.ipynb)."
   ]
  },
  {
   "cell_type": "markdown",
   "metadata": {},
   "source": [
    "### 4.6.1 傅立叶近似 Fourier approximations\n",
    "\n",
    "在开始讨论之前，我们需要先明确几个近似，从[$\\S$ 4.6.1.1](#vis:sec:4611) 到 [$\\S$ 4.6.1.7](#vis:sec:4617)，以满足远处的源和干涉仪的局部条件的描述需求。 \n",
    "\n",
    "Before stating the theorem, we need to make several approximations to allow its formulation. Sections [$\\S$ 4.6.1.1](#vis:sec:4611) to [$\\S$ 4.6.1.7](#vis:sec:4617) cover these various approximations, from the need for a distant source to the requirements on the observer's local conditionts."
   ]
  },
  {
   "cell_type": "markdown",
   "metadata": {},
   "source": [
    "<a id=\"vis:sec:4611\"></a> <!---\\label{vis:sec:4611}--->\n",
    "##### 4.6.1.1 源的互不相干性 Mutual incoherence of the source\n",
    "该近似源于空中各部分从统计上相互独立的假设，因此两个方向的互相干系数为零，天空能被描述为一系列点源的集合，而可见度函数跟方向之间存在线性关系，因为只有当$i=j$时，$\\mathbf{s}_i$ 和 $\\mathbf{s}_j$之间的相关系数才不等于零。\n",
    "\n",
    "This approximation consists of assuming that the different parts of the sky are statistically independent from each other. The mutual coherency between two direction is then 0. The sky can be described as a collection of point sources. Therefore, the visibility function is linear with respect to the directions in the sky, as the correlation between $\\mathbf{s}_i$ and $\\mathbf{s}_j$ is non zero only when $i=j$."
   ]
  },
  {
   "cell_type": "markdown",
   "metadata": {},
   "source": [
    "#### 4.6.1.2 远场近似  Far-field approximation\n",
    "\n",
    "理想情况下，我们观测的源都在无限远的天球上，因此完全可以用远场模型来描述天线模型，且用球坐标系表示的可见度独立于观测者跟源之间的距离，$R >> \\frac{|\\mathbf{b}_\\text{max}|^2}{\\lambda}$，方程得以简化。然而，因为天球被投影到2D平面，导致所有展源都会产生变形。\n",
    "\n",
    "In the ideal case, we are observing infinitely-distant sources that lie on the celestial sphere. The antenna patterns are then adequately described by the Far-Field pattern.\n",
    "The visibility expressed in spherical coordinates is therefore independent of the distance from the observer to the source, $r$. We assume that the distance $R >> \\frac{|\\mathbf{b}_\\text{max}|^2}{\\lambda}$ such that the dependence of Eq. ?? <span style=\"background-color:red\">TLG:RC: Fix Eq link.</span> is simplified. All extended sources are deformed due to the celestial sphere's projection onto our 2D plane."
   ]
  },
  {
   "cell_type": "markdown",
   "metadata": {},
   "source": [
    "#### 4.6.1.3 传播介质的均匀性 Homogeneity of the propagation medium\n",
    "\n",
    "在简化情况下，我们假定信号在传播过程中，没有受到传播效应的影响（如吸收、折射、失真）。而实际观测中往往存在以下效应：\n",
    "\n",
    "In the simple case of classical radio sources, we assume that no propagation effects affect the signal (e.g. absorption, refraction, distortion). This is not the case when observing:\n",
    "\n",
    "- 信号穿过磁性介质时会被极化（如穿过磁化IGM/ISM时，极化射电发射的法拉第旋转）\n",
    "\n",
    "- a signal polarised by passing through a magnetized medium (e.g. the Faraday rotation of polarized radio emission through the magnetized IGM/ISM)\n",
    "\n",
    "- 星系介质（Intra Galactic Medium，IGM)造成脉冲星失真（光谱色散和脉冲时间展宽）。\n",
    "\n",
    "- a pulsar seen through the Intra Galactic Medium (IGM), which causes signal distortions (spectral dispersion and temporal broadening of pulses)"
   ]
  },
  {
   "cell_type": "markdown",
   "metadata": {},
   "source": [
    "<a id=\"vis:sec:4614\"></a> <!---\\label{vis:sec:4614}--->\n",
    "#### 4.6.1.4 小场近似 Small-field approximation\n",
    "\n",
    "实际的天线并非各向同性，它们只对部分天空敏感，该部分用”视场field of view“定义。天球上，靠近相位中心点的区域可以近似成天球上该中心点的切平面，视场里的源近似位于该平面上。\n",
    "\n",
    "Real-life antennas are not isotropic. They are sensitive to a limited fraction of the sky, which is defined by their *Field of View*. Close to the phase center, the celestial sphere can be approximated by its tangent plane. The sources in our FoV are then treated as though being on a plane.\n",
    "\n",
    "假定观测区域范围比较小，我们将处理：\n",
    "- 在视场范围内，把天线增益视为常量：$A(l,m) \\approx const.$\n",
    "- 把天空投影到$(l,m)$平面：$(\\alpha_0,\\delta_0)\\leftrightarrow(l,m)$\n",
    "- 展源相对视场很小：$\\Delta\\theta_\\text{source} << \\Delta\\theta_\\text{FoV}$\n",
    "- $w$ 很小，$n$ 接近单位1(参考 $\\S$ 4.6.1.E) <span style=\"background-color:cyan\">TLG:RF: Fix equation reference.</span>\n",
    "\n",
    "Assuming that the observing region of the sky is small, we will consider that:\n",
    "- the antenna gain is considered constant over the FoV: $A(l,m) \\approx const.$\n",
    "- the sky is projected onto the $(l,m)$ plane: $(\\alpha_0,\\delta_0)\\leftrightarrow(l,m)$\n",
    "- the extended sources are small relative to the FoV: $\\Delta\\theta_\\text{source} << \\Delta\\theta_\\text{FoV}$\n",
    "- $w$ is small and $n$ is close to unity (see $\\S$ 4.6.1.E) <span style=\"background-color:cyan\">TLG:RF: Fix equation reference.</span>"
   ]
  },
  {
   "cell_type": "markdown",
   "metadata": {},
   "source": [
    "<a id=\"vis:sec:4615\"></a> <!---\\label{vis:sec:4615}--->\n",
    "#### 4.6.1.5 共面基线 Coplanar baselines\n",
    "\n",
    "在 [$\\S$ 4.4 &#10142;](4_4_the_visibility_function.ipynb)的[Eq. 4.4.2 &#10142;](4_4_the_visibility_function.ipynb#vis:eq:442)，可见度函数表达式里的强度分布指数为：\n",
    "\n",
    "In [Eq. 4.4.2 &#10142;](4_4_the_visibility_function.ipynb#vis:eq:442) in [$\\S$ 4.4 &#10142;](4_4_the_visibility_function.ipynb), the exponent factor of the intensity distribution in the expression of the visibility function is $K(l,m)$, defined as:\n",
    "\n",
    "$$K(l,m)=\\exp \\left[ {-\\imath 2\\pi (ul+vm+w(\\sqrt{1-l^2-m^2}-1)) }\\right]$$\n",
    "\n",
    "对于一个跟踪干涉仪（对不同天线接收到的相同信号做相位延迟补偿），在小场近似情况下，测得的空间非相干辐射可以近似看成是来自于($l$,$m$)平面的源，且该平面接近相位中心($l=0$,$m=0$)。\n",
    "\n",
    "For a tracking interferometer (which compensates for the phase delay between the reception of the same signal by different antennas), and with the small-field approximation, we measure spatially incoherent emission as though it was sent from sources on the ($l$,$m$) plane, close to the phase center at ($l=0$,$m=0$).\n",
    "\n",
    "如果($l$,$m$)$<<$1，则$w(\\sqrt{1-l^2-m^2}-1) \\rightarrow 0$。\n",
    "\n",
    "If ($l$,$m$)$<<$1 then $w(\\sqrt{1-l^2-m^2}-1) \\rightarrow 0$. \n",
    "\n",
    "此时，$w$项可以被忽略，$K(l,m)$简化为：\n",
    "\n",
    "In that case, the $w$-term can be ignored and $K(l,m)$ reduces to \n",
    "$$K(l,m)=\\exp \\left[ {-\\imath 2\\pi (ul+vm) }\\right]$$"
   ]
  },
  {
   "cell_type": "markdown",
   "metadata": {},
   "source": [
    "<div class=advice>\n",
    "    <b>注意:</b> [$\\S$ 4.6.1.4 &#10549;](#vis:sec:4614) 和 [$\\S$ 4.6.1.5 &#10549;](#vis:sec:4615) 将在[$\\S$ 5.5 &#10142;](../5_Imaging/5_5_widefield_effect.ipynb)进一步讨论。\n",
    "    </div>\n",
    "    \n",
    "<div class=advice>\n",
    "    <b>Note:</b> [$\\S$ 4.6.1.4 &#10549;](#vis:sec:4614) and [$\\S$ 4.6.1.5 &#10549;](#vis:sec:4615) will be treated thoroughly in [$\\S$ 5.5 &#10142;](../5_Imaging/5_5_widefield_effect.ipynb).\n",
    "    </div>"
   ]
  },
  {
   "cell_type": "markdown",
   "metadata": {},
   "source": [
    "#### 4.6.1.6 窄带近似 Narrowband approximation\n",
    "\n",
    "相关器工作在一个窄带$\\Delta \\nu$上，带宽将以一个sinc函数对条纹阻尼因子的宽度进行调制。在窄带条件下，我们可以假定sinc阻尼为无限宽。\n",
    "\n",
    "The correlator operates in a narrow bandwith $\\Delta \\nu$ (condition). The bandwidth will modulate the width of the fringe damping factor by a sinc function. If we limit ourselves to the narrow-band case, we can assume that the the sinc damping our fringe is effectively infinitely wide.\n",
    "\n",
    "然而，我们实际上总是工作在一定带宽$\\Delta \\nu$上，因此干涉仪响应上的带宽模式效应是有限的。我们通过把观测区域限制在相位中心附近的一定范围以内，来维持住空间干涉：：\n",
    "\n",
    "However, we usually work with some bandwidth $\\Delta \\nu$. The effect of the bandwidth pattern on the interferometer response can thus be limited. We do this by constraining the observed field to a region around the phase center where spatial coherency is maintained:\n",
    "$$ \\frac{\\Delta\\nu}{\\nu} < \\frac{1}{l_\\text{max} u}, \\frac{1}{m_\\text{max} v} $$\n",
    "\n",
    "随着与条纹中心距离的增加，条纹逐渐变弱直到消失，这是宽光干涉测量中的等效效应。\n",
    "\n",
    "The equivalent effect in broadlight interferometry is the disappearance of fringes as distance from fringe centre increases."
   ]
  },
  {
   "cell_type": "markdown",
   "metadata": {},
   "source": [
    "<a id=\"vis:sec:4617\"></a> <!---\\label{vis:sec:4617}--->\n",
    "#### 4.6.1.7 连续采样近似 Continuous sampling approximation\n",
    "\n",
    "我们假定复可见度函数采样是连续的，因此在成图阶段不会受到采样效应的影响（不会受到来自于采样自身，即采样不完整的任何影响）。这种效应的影响很有挑战性，将在后续的成图章节里做进一步讨论（[$\\S$ 5. &#10142;](../5_Imaging/5_0_introduction.ipynb)）。\n",
    "\n",
    "We assume that our sampling of the complex visibility function is continuous, and that we therefore do not suffer from the sampling effect in the image pace (i.e. we do not experience any effect due to the sampling itself). This effect is a major challenge to deal with, and will be described in more detail in the imaging chapter ([$\\S$ 5. &#10142;](../5_Imaging/5_0_introduction.ipynb)). "
   ]
  },
  {
   "cell_type": "markdown",
   "metadata": {},
   "source": [
    "<a id=\"vis:sec:462\"></a> <!---\\label{vis:sec:462}--->\n",
    "### 4.6.2 van Cittert-Zernike定理  Van Cittert-Zernike Theorem\n",
    "\n",
    "Van Cittert-Zernike定理源于光学领域，该定理在天空亮度分布与接收机$R_1$、$R_2$所接收到的信号的互相关之间建立了联系。基于上述假设[$\\S$ 4.6.1 &#10549;](#vis:sec:461)，我们对Van Cittert-Zernike定理进行陈述。\n",
    "\n",
    "Originally formulated in the optical regime, this theorem links the intensity distribution of the sky with the cross-correlation of the signals received by two receivers $R_1$ and $R_2$. Given the assumptions in [$\\S$ 4.6.1 &#10549;](#vis:sec:461), we are able to state the Van Cittert-Zernike Theorem.\n",
    "\n",
    "#### 4.6.2.1 公式 Formulation\n",
    "\n",
    "给定一个扩展的单色非相干亮度分布$I_\\nu$，Van Cittert-Zernike定理在基线$pq$所获得的复可见度函数与该亮度分布之间建立以下的2D傅立叶变换关系：\n",
    "\n",
    "Given an extended, monochromatic and incoherent intensity distribution $I_\\nu$, the theorem states that the complex visibility function associated with (i.e. measured by) a baseline $pq$ is linked to the intensity distribution via a 2D Fourier Transform: \n",
    "\n",
    "$$\\boxed{\\boxed{V_{pq}(u,v,0)=\\int_{-\\infty}^\\infty\\int_{-\\infty}^\\infty{I_\\nu e^{-2\\imath\\pi (ul+vm)}dldm}}}$$"
   ]
  },
  {
   "cell_type": "markdown",
   "metadata": {},
   "source": [
    "#### 4.6.2.2 推导 Demonstration  \n",
    "\n",
    "让我们假定空中有一个单色、扩展以及非相干的亮度分布。\n",
    "\n",
    "Let us assume that our sky consists of a monochromatic, extended, incoherent intensity distribution.\n",
    "\n",
    "位于两个不同地方的天线$R_1$ 和 $R_2$对远方的一个源进行测量，经过一段时间$T$，其测量值的互相干表示为：\n",
    "\n",
    "The mutual coherence between the measurements of the signal from a distant source at two locations $R_1$ and $R_2$, over some amount of time $T$, is:\n",
    "$$\\Gamma_\\text{12}(u,v,\\tau)= \\lim_{T \\rightarrow \\infty} \\frac{1}{2T} \\int_{-T}^{T} E_1(t)E_{2}^{*}(t-\\tau) dt$$\n",
    "\n",
    "延迟电场表示为：\n",
    "\n",
    "where the retarded electric fields can be expressed as <span style=\"background-color:red\">TLG:AC: Give a reference where this can be verified.</span>:\n",
    "\n",
    "$$E_1(l,m,t)= E_{0}(l,m,t-\\frac{r_1}{c}) \\frac{e^{-2\\imath\\pi \\nu(t-\\frac{r_1}{c})}}{r_1}$$\n",
    "\n",
    "$$E_2(l,m,t)= E_{0}(l,m,t-\\frac{r_2}{c}) \\frac{e^{-2\\imath\\pi \\nu(t-\\frac{r_2}{c})}}{r_2}$$\n",
    "\n",
    "$r_1$ 和 $r_2$ 分别为两面天线与源之间的距离。\n",
    "\n",
    "where $r_1$ and $r_2$ are the distance of each receiver from the source."
   ]
  },
  {
   "cell_type": "markdown",
   "metadata": {},
   "source": [
    "**$\\mathbf{E_1}$ 和 $\\mathbf{E_2}$ 的相关**\n",
    "\n",
    "** Correlation of $\\mathbf{E_1}$ and $\\mathbf{E_2}$ **\n",
    "\n",
    "\\begin{eqnarray}\n",
    "\\langle E_1(l_i,m_i,t) E_2^*(l_j,m_j,t) \\rangle &=& \\langle E_{0} (l_i,m_i,t-\\frac{r_1}{c}) E_{0}(l_j,m_j,t-\\frac{r_2}{c}) \\rangle \\frac{e^{-2\\imath\\pi \\nu(t-\\frac{r_1}{c})} e^{+2\\imath\\pi \\nu(t-\\frac{r_2}{c})}}{r_1 r_2} \\\\\n",
    "&=& \\langle E_{0}(l_i,m_i,t') E_{0}(l_j,m_j,t'-\\frac{r_2-r_1}{c}) \\rangle \\frac{e^{2\\imath\\pi \\nu \\frac{r_1 - r_2}{c}}}{r_1 r_2}\\\\\n",
    "    &\\approx& \\langle E_{0}(l,m,t')E_{0}(l,m,t') \\rangle \\frac{e^{2\\imath\\pi \\nu \\frac{r_1 - r_2}{c}}}{r_1 r_2}\\\\ \n",
    "\\end{eqnarray}\n",
    "\n",
    "这里，空间非相干近似意味着，当$i \\neq j$时，$\\langle E_{0}(l_i,m_i,t) E_{0}(l_j,m_j,t-\\frac{r_2-r_1}{c}) \\rangle = 0$。\n",
    "\n",
    "* Here, the incoherent sky approximation means $\\langle E_{0}(l_i,m_i,t) E_{0}(l_j,m_j,t-\\frac{r_2-r_1}{c}) \\rangle = 0$ for $i \\neq j$.\n",
    "\n",
    "在远场和小视场情况下，$r_1 \\approx r_2 \\approx r$. $(r_1 - r_2)/c$ 近似为零：两者间的时间延迟小到可以忽略不计。\n",
    "\n",
    "* In the far-field and small-FoV (Field of View) regimes, we have $r_1 \\approx r_2 \\approx r$. $(r_1 - r_2)/c$ can thus be approximated to zero: the time retardation is small enough to be negligible.\n",
    "\n",
    "得到以下互相干$\\Gamma_{12}$的表达式：\n",
    "\n",
    "We can now determine the expression for the mutual coherence $\\Gamma_{12}$:\n",
    "\n",
    "$r_1-r_2$为两接收机之间的光程差（OPD），可以表示为($u$, $v$) 和 ($l$, $m$)的函数:\n",
    "\n",
    "$r_1-r_2$ represents the Optical Path Difference (OPD) between the two receivers, and can be expressed as a function of ($u$, $v$) and ($l$, $m$):\n",
    "$$r_1-r_2= \\frac{c}{\\nu} (u_{12}l+v_{12}m)$$\n",
    "\n",
    "$$\\Gamma_{12}(u,v,\\tau=0)= \\int_{\\text{Source}} { \\frac{I_\\nu e^{2\\imath\\pi \\nu \\frac{(r_1-r_2)}{c}}}{r_1 r_2} }ds = \\int_{\\text{Source}}{\\frac{I_\\nu e^{2\\imath\\pi (u_{12}l+v_{12}m)}}{r^2}} ds$$\n",
    "\n",
    "($l$,$m$)为方向余弦，属于球坐标，在投影球面上，$ds$可以表示为：\n",
    "\n",
    "As ($l$,$m$) are direction cosines, they can be linked to spherical coordinates. On the projected sphere, the surface element $ds$ can be expressed as: \n",
    "$$ds = r^2 \\; dl \\; dm$$\n",
    "\n",
    "被积函数为零：时间相干性和天线响应使得来自遥远地方的源的测量信号值趋于零。因此，我们可以在不损失一般性的情况下，把积分区间扩大到无穷。\n",
    "\n",
    "The integrand is bounded to zero: temporal coherency limits and antenna response are such that the measured signal from increasingly distant sources will tend towards zero. We can thus extend the bounds of the integral to infinity with no loss of generality.\n",
    "\n",
    "$\\Gamma_{12}$成为复可见度$V_\\nu$\n",
    "\n",
    "$\\Gamma_{12}$ becomes the complex visibility $V_\\nu$\n",
    "\n",
    "$$ \\Gamma_{12}(u,v,\\tau=0) = \\int_{-\\infty}^{\\infty}\\int_{-\\infty}^{\\infty} { I_\\nu(l,m) e^{-2\\imath\\pi(u_{12}l+v_{12}m)}} dl dm =V_{12}(u,v,0)  $$\n",
    "\n",
    "上式中，复可见度函数$V_{12}$是亮度分布$I_{\\nu}(l,m)$的傅立叶变换。\n",
    "\n",
    "In this form, the complex visibility $V_{12}$ is the Fourier transform of the intensity distribution $I_{\\nu}(l,m)$. <span style=\"background-color:red\">TLG:RC: Why this switch? EB: some maths I assume. Will look into it.</span>\n",
    "\n",
    "该定理（及其经典领域中的弗劳恩霍夫衍射）在[<cite data-cite='2001isra.book.....T'>Thompson, Moran and Swenson $\\S$ 14, p. 594</cite>  &#10548;](http://adsabs.harvard.edu/abs/2001isra.book.....T)中有更为详细的解释。\n",
    "\n",
    "This theorem (and its link with Fraunhofer diffraction in the classical regime) are explained in greater detail in [<cite data-cite='2001isra.book.....T'>Thompson, Moran and Swenson $\\S$ 14, p. 594</cite>  &#10548;](http://adsabs.harvard.edu/abs/2001isra.book.....T).\n",
    "\n",
    "该定理也可以直接从RIME[$\\S$ 7.2 &#10142;](../7_Observing_Systems/7_2_rime.ipynb)推导得到。要牢记的是，我们做不到对$uv$平面进行全采样，因此会损失很多信息。在我们的简化假设范围内，仍然可以从部分测量中复原得到亮度分布$I_{\\nu}$，同时又引出了另一个需要解决的问题，即需要对复原得到的亮度分布做去卷积的技术处理，因为我们只测得了部分可见度信息。\n",
    "\n",
    "This theorem can also be derived directly from the RIME framework [$\\S$ 7.2 &#10142;](../7_Observing_Systems/7_2_rime.ipynb).\n",
    "Bear in mind that we do not sample all the points in the $uv$ plane, and that a lot of information is missing as a consequence. Within the scope of our simplifying assumptions, it is nevertheless possible to recover the intensity distribution $I_{\\nu}$ from partial measurements. Indeed, it actually consists of solving an inverse problem. In other words, the need for deconvolution techniques arises because we only have partial information on the full visibility function. <span style=\"background-color:red\">TLG:RC: Rewrite prev paragraph. EB: it looks fine to me?</span>"
   ]
  },
  {
   "cell_type": "markdown",
   "metadata": {},
   "source": [
    "### 4.6.3 小结 Concluding remarks"
   ]
  },
  {
   "cell_type": "markdown",
   "metadata": {},
   "source": [
    "射电干涉测量包括对各天线接收到的信号进行互相关，并把非相干电磁波转换成电压。为了让这些信号“干涉”，我们设计了一套系统，对其相位进行处理，并由此引入了“基线“、”投影基线“以及”相位中心“的概念。\n",
    "\n",
    "Radio interferometry consists of combining cross-correlation of signals measured with individual antennas, converting incoming incoherent EM waves into voltages. In order to make these signals \"interfere\", we devise a system to combine them in phase. To do so, we introduce the concepts of *baseline*, *projected baseline* and *phase center*. <span style=\"background-color:red\">TLG:RC: Rewrite prev paragraph. EB: do not see how to phrase it more clearly</span> \n",
    "\n",
    "首先在[$\\S$ 4.2 &#10142;](4_2_the_baseline_and_its_representation_in_space.ipynb)，我们应用了在[$\\S$ 3 &#10142;](../3_Positional_Astronomy/3_0_introduction.ipynb)所引入的工具，在常规使用的天文参考系里对基线进行了描述，然后把它置于”天球“上。我们在[$\\S$ 4.3 &#10142;](4_3_the_2-element_interferometer.ipynb)学习了一个简单的二元干涉仪例子，并从中引出了几个干涉测量的量（”相位中心“、”相干“以及”可见度“）。\n",
    "\n",
    "We started in [$\\S$ 4.2 &#10142;](4_2_the_baseline_and_its_representation_in_space.ipynb), by applying the tools introduced in [$\\S$ 3 &#10142;](../3_Positional_Astronomy/3_0_introduction.ipynb) to express the baseline in a convenient astronomical frame of reference, attached to the *celestial sphere*. In [$\\S$ 4.3 &#10142;](4_3_the_2-element_interferometer.ipynb), we studied the simple case of a 2-element interferometer, for which we derived the relevant interferometric quantities (*phase center*, *coherence*, *visibility*).\n",
    "\n",
    "<span style=\"background-color:cyan\">TLG:GM: Are terms in glossary.</span> \n",
    "\n",
    "在[$\\S$ 4.4 &#10142;](4_4_the_visibility_function.ipynb)，我们把二维可见度函数定义扩展到了三维，把投影基线看成是应用到天空的一个空间滤波器，以求对所研究天体的可见度函数给出一个合理的物理解释。这样，我们就证明了源的形状和位置能被干涉仪精确测量([$\\S$ 4.4.2 &#10142;](4_4_the_visibility_function.ipynb#vis:sec:442))。\n",
    "\n",
    "In [$\\S$ 4.4 &#10142;](4_4_the_visibility_function.ipynb), we extended the 1D case to a 3D definition of the visibility function. To give a physical interpretation of the relevance of the visibility function to study celestial objects, we linked the projected baseline to a spatial filter applied to the sky. With this, we demonstrated that the shape and position of a source could be accurately measured by an interferometer ([$\\S$ 4.4.2 &#10142;](4_4_the_visibility_function.ipynb#vis:sec:442)).\n",
    "\n",
    "干涉仪对天空的可见度函数的采样并不随机，根据干涉仪和源之间的几何结构，我们能推导出在观测过程中，一条物理基线在uv平面上的实际采样轨迹。轨迹呈椭圆形，我们可以用来提高仪器的uv覆盖。uv平面上的采样数越多、越分散，所获得的可见度函数信息越丰富。在 [$\\S$ 4.5.2 &#10142;](4_5_1_uv_coverage_uv_tracks.ipynb)给出了三种提高干涉仪$uv$覆盖的方法。\n",
    "\n",
    "An interferometer samples the visibility function of the sky in a non-random manner. From the geometry of the interferometer with respect to the observed source, it was possible in [$\\S$ 4.5.1 &#10142;](4_5_1_uv_coverage_uv_tracks.ipynb) to derive the actual path taken in the $uv$-space by a physical baseline over the course of an observation: they follow elliptical paths, which can potentially be used to increase the instrument's coverage of the $uv$-plane. The more diversified and numerous the samples in the $uv$ plane, the better our knowledge of the visibility function. In order to improves the $uv$ coverage, [$\\S$ 4.5.2 &#10142;](4_5_1_uv_coverage_uv_tracks.ipynb) showed three ways to increase an interferometric instrument's $uv$-coverage.\n",
    "\n",
    "从$uv$采样中可以提取得到近似天空，基于一系列近似[$\\S$ 4.6.1 &#10549;](#vis:sec:461)，在可见度函数跟亮度分布之间能建立傅立叶变换关系 [$\\S$ 4.6.2 &#10549;](#vis:sec:462)。\n",
    "\n",
    "The collection of $uv$ samples can be used to retrieve an approximation of the sky. Under a series of approximations [$\\S$ 4.6.1 &#10549;](#vis:sec:461), the definition of the visibility function can be linked to the intensity distribution through a Fourier transformation [$\\S$ 4.6.2 &#10549;](#vis:sec:462).\n",
    "\n",
    "在此关系基础上，我们利用Van Cittert-Zernike理论把成像问题变成了其“逆问题”：从不完备的傅立叶变换信息（即可见度函数$\\mathcal{V}_\\nu$采样）复原得到天空的亮度分布$\\mathcal{I}_\\nu$。\n",
    "\n",
    "Having established this relationship, we can use the Van Cittert-Zernike theorem to cast the imaging problem as an *inverse problem*: to recover the sky $\\mathcal{I}_\\nu$ from an incomplete knowledge of its Fourier Transform, i.e. the sampled visibility function $\\mathcal{V}_\\nu$.\n",
    "\n",
    "在 [$\\S$ 5 &#10142;](../5_Imaging/5_0_introduction.ipynb)，我们将讨论傅立叶变换成像的基本原理，然后，在[$\\S$ 6 &#10142;](../6_Deconvolution/6_0_introduction.ipynb)讨论各种图像去卷积技术，即解决综合孔径成像中所存在的问题。\n",
    "\n",
    "In [$\\S$ 5 &#10142;](../5_Imaging/5_0_introduction.ipynb), we will discuss the principles of imaging with the Fourier Transform. Then, in [$\\S$ 6 &#10142;](../6_Deconvolution/6_0_introduction.ipynb), we cover the various techniques used to perform image deconvolution, i.e. solve the inverse problem of imaging by aperture synthesis.\n",
    "<span style=\"background-color:cyan\">TLG:GM: Are terms in glossary.</span>"
   ]
  },
  {
   "cell_type": "markdown",
   "metadata": {},
   "source": [
    "***\n",
    "\n",
    "* Next: [4.x Further Reading And References](4_x_further_reading_and_references.ipynb)"
   ]
  },
  {
   "cell_type": "markdown",
   "metadata": {},
   "source": [
    "<div class=warn><b>Future Additions:</b></div>\n"
   ]
  },
  {
   "cell_type": "code",
   "execution_count": null,
   "metadata": {
    "collapsed": true
   },
   "outputs": [],
   "source": []
  }
 ],
 "metadata": {
  "kernelspec": {
   "display_name": "Python 3",
   "language": "python",
   "name": "python3"
  },
  "language_info": {
   "codemirror_mode": {
    "name": "ipython",
    "version": 3
   },
   "file_extension": ".py",
   "mimetype": "text/x-python",
   "name": "python",
   "nbconvert_exporter": "python",
   "pygments_lexer": "ipython3",
   "version": "3.6.9"
  }
 },
 "nbformat": 4,
 "nbformat_minor": 2
}
