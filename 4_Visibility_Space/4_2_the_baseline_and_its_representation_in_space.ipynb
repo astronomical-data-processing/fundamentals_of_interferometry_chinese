{
 "cells": [
  {
   "cell_type": "markdown",
   "metadata": {},
   "source": [
    "#### ***\n",
    "\n",
    "* [Outline](../0_Introduction/0_introduction.ipynb)\n",
    "* [Glossary](../0_Introduction/1_glossary.ipynb)\n",
    "* [4. The Visibility Space](4_0_introduction.ipynb)\n",
    "    * Previous: [4.1 Periodic Functions and Fourier Analysis](4_1_periodic_functions_and_fourier_analysis.ipynb)\n",
    "    * Next: [4.3 The 2-element Interferometer](4_3_the_2-element_interferometer.ipynb)\n",
    "\n",
    "***"
   ]
  },
  {
   "cell_type": "markdown",
   "metadata": {},
   "source": [
    "Import standard modules:"
   ]
  },
  {
   "cell_type": "code",
   "execution_count": 1,
   "metadata": {},
   "outputs": [
    {
     "data": {
      "text/html": [
       "<style>\n",
       "\n",
       "p.prerequisites {\n",
       "    border:5px;\n",
       "    border-style:none;\n",
       "    background-color:#F0F0F0;\n",
       "    box-shadow: 5px 5px 2px #888888;\n",
       "    border-color:#FF0000;\n",
       "    padding: 1em;\n",
       "    }\n",
       "\n",
       "p.conclusion {\n",
       "    border:5px;\n",
       "    border-style:none;\n",
       "    background-color:#c8ebca;\n",
       "    box-shadow: 5px 5px 2px #888888;\n",
       "    border-color:#c8ebca;\n",
       "    padding: 1em;\n",
       "    }\n",
       "\n",
       "div.warn {    \n",
       "    background-color: #fcf2f2;\n",
       "    border-color: #dFb5b4;\n",
       "    border-left: 5px solid #dfb5b4;\n",
       "    padding: 0.5em;\n",
       "    }\n",
       "\n",
       "div.advice {    \n",
       "    background-color: #ecf8ed;\n",
       "    border-color: #a2dda5;\n",
       "    border-left: 5px solid #a2dda5;\n",
       "    padding: 0.5em;\n",
       "    }\n",
       "\n",
       "</style>\n",
       "\n"
      ],
      "text/plain": [
       "<IPython.core.display.HTML object>"
      ]
     },
     "execution_count": 1,
     "metadata": {},
     "output_type": "execute_result"
    }
   ],
   "source": [
    "import numpy as np\n",
    "import matplotlib.pyplot as plt\n",
    "%matplotlib inline\n",
    "from IPython.display import HTML \n",
    "HTML('../style/course.css') #apply general CSS\n"
   ]
  },
  {
   "cell_type": "markdown",
   "metadata": {},
   "source": [
    "Import section specific modules:"
   ]
  },
  {
   "cell_type": "code",
   "execution_count": 2,
   "metadata": {},
   "outputs": [
    {
     "data": {
      "text/html": [
       "<script>\n",
       "    code_show=false; \n",
       "    function code_toggle() {\n",
       "        if (code_show){\n",
       "            $('div.input').hide();\n",
       "        } else {\n",
       "            $('div.input').show();\n",
       "        }\n",
       "        code_show = !code_show\n",
       "    } \n",
       "    $( document ).ready(code_toggle);\n",
       "</script>\n",
       "\n",
       "The raw code for this notebook is by default hidden for easier reading. To toggle on/off the raw code, click <a href=\"javascript:code_toggle()\">here</a>.\n",
       "\n"
      ],
      "text/plain": [
       "<IPython.core.display.HTML object>"
      ]
     },
     "execution_count": 2,
     "metadata": {},
     "output_type": "execute_result"
    }
   ],
   "source": [
    "from IPython.display import HTML\n",
    "HTML('../style/code_toggle.html')\n"
   ]
  },
  {
   "cell_type": "markdown",
   "metadata": {},
   "source": [
    "# 4.2 基线及其空间表示 The Baseline and Its Representation in Space"
   ]
  },
  {
   "cell_type": "markdown",
   "metadata": {},
   "source": [
    "***\n",
    "在上一节，我们简要总结了本节将要用到的数学工具。本节将解释干涉测量的物理基础，并在深入探讨物理理论之前，对干涉仪做进一步的明确描述。\n",
    "\n",
    "In the last section, we briefly summarised the mathematical tools we will need in this section. This section is intended to explain the physics underpinning interferometry. Before we can dig into what actually interests us - i.e. **physics** - we will therefore have to describe interferometers more explicitly.\n",
    "\n",
    "在讨论基线测到的“可见度”与天文学家所关注的“天空亮度”之前，我们需要先明确一些重要概念。首先是“基线”，即干涉阵中两个天线所构成的矢量，它是干涉测量的基础概念，一条基线对应傅立叶空间中的一个点。\n",
    "\n",
    "Before we can get into the details of the relationship between the *visibilities* measured by each baseline and the *sky brightness* astronomers are interested in, we will need to define some key concepts. We will begin with the *baseline*: is the separation vector between two antenna elements in an interferometric array. It is a fundamental concept in interferometry: a baseline directly measures a point in Fourier space.\n",
    "\n",
    "干涉阵由多条基线构成，阵列中每对天线组成一条基线，因此，基线由阵列的布局决定。本章，我们将引入“投影基线”概念，并推导出不同坐标系里的基线矢量表达式。\n",
    "\n",
    "An interferometric array consists of several baselines (formed by every pair of antennas in the array). The baselines are thus determined by the array's configuration. In this chapter, we will introduce *projected baselines*, and derive expressions for the baseline vector in various coordinate systems.\n",
    "\n",
    "<span style=\"background-color:cyan\">TLG:GM: Check if the italic words are in the glossary.</span>"
   ]
  },
  {
   "cell_type": "markdown",
   "metadata": {},
   "source": [
    "\n",
    "***\n",
    "首先对课程中将要用到的符号和向量进行定义。通过以下一系列的坐标变换，“本地local”、“瞬时”的观测者参考系（地球上的本地$x$,$y$, $z$）被转换到赤道参考系下的天空坐标（$H$，$\\delta$）：\n",
    "\n",
    "1. 从本地的($x$,$y$,$z$) 到 (**E**ast, **N**orth, **U**p) \n",
    "2. 从本地的 **E**, **N**, **U** 到本地的 azimuth/elevation ($\\mathcal{A}$, $\\mathcal{E}$) \n",
    "3. 从本地的 ($\\mathcal{A}$, $\\mathcal{E}$) 到赤道坐标 (($H$, $\\delta$), or equivalently, ($X$, $Y$, $Z$)) \n",
    "4. 从赤道坐标 ($X$, $Y$, $Z$) 到 ($u$, $v$, $w$)-space\n",
    "\n",
    "Let us start by defining the notation and vector definitions we will use throughout this course. They are designed to take us from the *local* and *instantaneous* observer frame of reference (local $x$,$y$, $z$ on Earth) to the sky coordinates in the equatorial frame ($H$, $\\delta$) through a series of coordinate changes:\n",
    "\n",
    "1. From local ($x$,$y$,$z$) to the (**E**ast, **N**orth, **U**p) \n",
    "2. From local  **E**, **N**, **U** to local azimuth/elevation ($\\mathcal{A}$, $\\mathcal{E}$) \n",
    "3. From local ($\\mathcal{A}$, $\\mathcal{E}$) to equatorial (($H$, $\\delta$), or equivalently, ($X$, $Y$, $Z$)) \n",
    "4. From the equatorial ($X$, $Y$, $Z$) to the ($u$, $v$, $w$)-space\n",
    "\n",
    "<span style=\"background-color:cyan\">TLG:GM: Check if the italic words are in the glossary.</span>"
   ]
  },
  {
   "cell_type": "markdown",
   "metadata": {},
   "source": [
    "<a id=\"vis:sec:421\"></a> <!---\\label{vis:sec:421}--->\n",
    "### 4.2.1 物理基线 The physical baseline\n",
    "***\n",
    "物理基线是两个天线单元在三维空间中的几何连线。投影基线是该三维的物理基线在二维平面上的投影，而二维平面由观测方向决定。在国际地球参考架（In Terrestrial Reference Frame，ITRF）中，物理基线固定不变，可以视为常量，但是投影基线会随着地球的自转而改变，而源在天空参考架里固定不动。\n",
    "\n",
    "The physical baseline is a geometric construct based on the separation between two antenna elements in 3-D space, whereas the projected baseline is the mapping of this 3-D physical baseline onto a 2-D plane (determined by the direction of the observation). While the physical baseline is a constant in the terrestrial reference frame (the acronym ITRF - In Terrestrial Reference Frame - is commonly used), the projected baseline changes as the Earth rotates (in the frame of reference of a source fixed in the sky - a.ka. the \"sky frame of reference\")."
   ]
  },
  {
   "cell_type": "markdown",
   "metadata": {},
   "source": [
    "#### 4.2.1.1 本地基线向量 Local definition of the baseline vector  <a id=\"vis:sec:4211\"></a> <!---\\label{vis:sec:4211}--->"
   ]
  },
  {
   "cell_type": "markdown",
   "metadata": {},
   "source": [
    "\n",
    "***\n",
    "三维空间中的一个点可以用一个向量进行描述。我们定义一个原点$O$，一个正交基$\\mathcal{B}$，以及一个固定在地面的本地笛卡尔参考系$\\mathcal{R}$ ($O$, $\\mathcal{B}$($\\mathbf{\\hat{e}_x}, \\mathbf{\\hat{e}_y}, \\mathbf{\\hat{e}_z}$)) (see [Fig. 4.2.1 &#10549;](#vis:fig:421)).\n",
    "\n",
    "\n",
    "A position can be described in 3-D with a vector. Let us define an origin $O$, an orthogonal basis $\\mathcal{B}$ and a local Cartesian reference frame attached to the ground $\\mathcal{R}$ ($O$, $\\mathcal{B}$($\\mathbf{\\hat{e}_x}, \\mathbf{\\hat{e}_y}, \\mathbf{\\hat{e}_z}$)) (see [Fig. 4.2.1 &#10549;](#vis:fig:421)).\n",
    "\n",
    "在该参考系中有两个天线单元，它们在$\\mathcal{B}$里的位置分别定义为：\n",
    "\n",
    "Let us now consider two antennas in this frame of reference. They are defined by their position in  $\\mathcal{B}$:\n",
    "\n",
    "$$\\textbf{a}_1=\\vec{OA}_1=x_1 \\mathbf{\\hat{e}_x} + y_1 \\mathbf{\\hat{e}_y} + z_1 \\mathbf{\\hat{e}_z}$$\n",
    "\n",
    "$$\\textbf{a}_2=\\vec{OA}_2=x_2\\mathbf{\\hat{e}_x} + y_2 \\mathbf{\\hat{e}_y} + z_2 \\mathbf{\\hat{e}_z}$$\n",
    "\n",
    "换句话说，天线的位置信息由($x_1$,$y_1$,$z_1$)和 ($x_2$,$y_2$,$z_2$)确定。\n",
    "\n",
    "In other words, all the information on the position of our antennas is given by ($x_1$,$y_1$,$z_1$) and ($x_2$,$y_2$,$z_2$), which are defined in the basis $\\mathcal{B}$.\n",
    "\n",
    "假定两天线间的距离足够短，它们之间的地球曲面可以近似为平面。地球变成一个平面，因此上面的基向量不用考虑旋转问题。笛卡尔坐标系下的“本地物理基线”可以定义为两矢量的差：\n",
    "\n",
    "Let us assume that the distance between the antennas is small enough to consider the curve of the Earth between them to be flat. The Earth then becomes a plane, on which the basis vectors can be translated without any rotation. The *local physical baseline* in Cartesian coordinates is defined as the difference vector\n",
    "\n",
    "$$\\mathbf{b} = \\mathbf{a}_2 - \\mathbf{a}_1 = \\vec{A_1A_2} $$\n",
    "\n",
    "值得注意的是，物理基线是一个向量，它只取决于两天线的相对位置，跟参考系的原点无关。\n",
    "\n",
    "It is important to note that the physical baseline is a **vector**: it depends only on the **relative positions** of two antenna elements, and is **independent of the origin** of the reference frame."
   ]
  },
  {
   "cell_type": "markdown",
   "metadata": {},
   "source": [
    "<a id=\"vis:fig:421\"></a> <!---\\label{vis:fig:421}---> \n",
    "<img src='figures/vectorxyz.svg' width=30%>"
   ]
  },
  {
   "cell_type": "markdown",
   "metadata": {},
   "source": [
    "**Figure 4.2.1:** 本地三维笛卡尔坐标系里的向量$a_1$ 和 $a_2$。Vectors $a_1$ and $a_2$ in a local 3-dimensional Cartesian coordinate system."
   ]
  },
  {
   "cell_type": "markdown",
   "metadata": {},
   "source": [
    "<a id=\"vis:sec:4212\"></a> <!--\\label{vis:sec:4212}--></a>\n",
    "#### 4.2.1.2 （East, North, Up）参考架：基线向量的全球定义 The (East, North, Up) Reference Frame: A Global Definition of the Baseline Vector"
   ]
  },
  {
   "cell_type": "markdown",
   "metadata": {},
   "source": [
    "\n",
    "***\n",
    "然而，在上面的公式中，三个向量$\\mathbf{\\hat{e}_x}、 \\mathbf{\\hat{e}_y}和 \\mathbf{\\hat{e}_z}$ 的方向是任意指定的。现在我们要把坐标基置于地球上的一个“绝对”参考点，因此引入了“地球参考架”，即一个由基点定义的新笛卡尔基：\n",
    "\n",
    "Unfortunately, in our formulation thus far, the directions of $\\mathbf{\\hat{e}_x}, \\mathbf{\\hat{e}_y}, \\mathbf{\\hat{e}_z}$ are arbitrary. We can do better: let us attach our coordinate basis to an \"absolute\" point of reference on Earth. To do this, we use a *terrestrial reference frame*: a new Cartesian basis defined by the cardinal points. Thus:\n",
    "\n",
    "* 我们以地球上任意的一个点为原点 $O$，为方便起见，通常把原点定在阵列中心，或者某一个天线的位置。\n",
    "* 定义一个全局的右手法则正交基$\\mathcal{B}$($\\mathbf{\\hat{e}_E}, \\mathbf{\\hat{e}_N}, \\mathbf{\\hat{e}_U}$)，分别指向地理东（**East**）、地理北（**North**）以及当地天顶（ **Up**）。\n",
    "\n",
    "\n",
    "* We define the origin $O$ at some point on Earth. This origin can be arbitrary, but it is convenient to choose either the 'centre' of the array or the position of one of the array elements.\n",
    "* A **global** right-handed orthonormal basis $\\mathcal{B}$($\\mathbf{\\hat{e}_E}, \\mathbf{\\hat{e}_N}, \\mathbf{\\hat{e}_U}$) pointing, respectively, towards the geographical **East**, geographical **North**, and towards the local vertical (pointing to the Zenith away from the Earth, i.e. **Up**).\n",
    "\n",
    "基线向量仍然用本地参考架表示，正好跟地理上的北和东吻合（见 [Fig. 4.2.2 &#10549;](#vis:fig:422) ）。\n",
    "\n",
    "The baseline vector is still expressed in a local reference frame, chosen to coincide with the geographical North and East (see [Fig. 4.2.2 &#10549;](#vis:fig:422)).\n",
    "<span style=\"background-color:cyan\">TLG:GM: Check if the italic words are in the glossary. Remember italic words can only be glossary definitions. </span>"
   ]
  },
  {
   "cell_type": "markdown",
   "metadata": {},
   "source": [
    "#### 4.2.1.2 地平坐标系($\\mathcal{A}$, $\\mathcal{E}$)的基线向量 Expression in Horizontal Coordinates ($\\mathcal{A}$, $\\mathcal{E}$)"
   ]
  },
  {
   "cell_type": "markdown",
   "metadata": {},
   "source": [
    "上一章已经讲过[$\\S$ 3.4 &#10142;](../3_Positional_Astronomy/3_3_horizontal_coordinates.ipynb)，地面的观测者用本地的方位角$\\mathcal{A}$（azimuth）和高度角$\\mathcal{E}$（elevation）来确定天空的方向。同样地，基线也可以用方位角跟高度角来确定。\n",
    "\n",
    "As seen in [$\\S$ 3.4 &#10142;](../3_Positional_Astronomy/3_3_horizontal_coordinates.ipynb), an observer located somewhere on Earth can define a direction in the sky in terms of local *azimuth*  $\\mathcal{A}$ and *elevation*  $\\mathcal{E}$. A baseline can similarly be expressed in these coordinates.\n",
    "\n",
    "如果把下图中的天线1设置为地平坐标系的原点，根据[$\\S$ 4.2.1.2 &#10549;](#vis:sec:4212)确定North、East 和 Up 三个坐标轴的方向。\n",
    "\n",
    "Let us set Antenna 1 as the origin of the reference frame on the ground. The North, East and Up axes are defined as per [$\\S$ 4.2.1.2 &#10549;](#vis:sec:4212).\n",
    "\n",
    "在地平参考系上，顺时针由北向东的角度为“方位角”，由地面向天顶的角度为“高度角”。\n",
    "\n",
    "The *azimuth* is the angle contained in the plane of the local ground measured clock-wise from North to East. The *elevation* is the angle measured from the horizon to the local zenith.\n",
    "<span style=\"background-color:cyan\">TLG:GM: Check if the italic words are in the glossary. Remember italic words can only be glossary definitions. </span>"
   ]
  },
  {
   "cell_type": "markdown",
   "metadata": {},
   "source": [
    "<a id=\"vis:fig:422\"></a> <!--\\label{vis:fig:422}--></a>\n",
    "<img src='figures/enu_alt_az.svg' width=40%>"
   ]
  },
  {
   "cell_type": "markdown",
   "metadata": {},
   "source": [
    "**Figure 4.2.2**: 地平坐标系 ($\\mathcal{A}$, $\\mathcal{E}$) 与笛卡尔坐标系  ($E$, $N$, $U$) 的关系。Relation between the horizontal frame ($\\mathcal{A}$, $\\mathcal{E}$) and the ($E$, $N$, $U$) Cartesian frame."
   ]
  },
  {
   "cell_type": "markdown",
   "metadata": {},
   "source": [
    "以 $\\mathcal{B}'$ 为基础表示的基线向量：\n",
    "\n",
    "The baseline vector is expressed in the basis $\\mathcal{B}'$:\n",
    "\n",
    "\\begin{equation}\n",
    "\\mathbf{b}_{\\text{ENU}}\n",
    "=\n",
    "\\lvert \\mathbf{b} \\rvert\n",
    "\\begin{bmatrix}\n",
    "\\sin \\mathcal{A} \\cos \\mathcal{E}\\\\\n",
    "\\cos \\mathcal{A} \\cos \\mathcal{E}\\\\\n",
    "\\sin \\mathcal{E}\n",
    "\\end{bmatrix}\n",
    "\\end{equation}\n",
    "\n"
   ]
  },
  {
   "cell_type": "markdown",
   "metadata": {},
   "source": [
    "<div class=advice>\n",
    "<b>注意:</b> 如果天线1和天线2在 $\\mathbf{\\hat{e}_U}$方向上的分量相同（例如，天线1和天线2位于同一水平面），则基线的高度角为  $\\mathcal{E}=0^\\circ$。\n",
    "</div>\n",
    "\n",
    "<div class=advice>\n",
    "<b>Note:</b> If Antenna 2 and Antenna 1 share the same component along $\\mathbf{\\hat{e}_U}$ (e.g. Antenna 1 and Antenna 2 are lying on the ground plane), then the elevation of the baseline is $\\mathcal{E}=0^\\circ$.\n",
    "</div>\n",
    "\n",
    "\n",
    "<div class=warn>\n",
    "<b>警告：</b><br>\n",
    "<ul>\n",
    "<li> 地理学家和天文学家使用不同的原点和方位角的定义，我们将采用天文学的定义 [$\\S$ 3 &#10142;](../3_Positional_Astronomy/3_0_introduction.ipynb)。\n",
    "<li>地平坐标系跟二维球面坐标系类似，但又略有不同（如使用角度）。\n",
    "<li>这里没有提到纬度 $L_a$，但本章后面会重点讲到。\n",
    "</ul>\n",
    "</div>\n",
    "\n",
    "<div class=warn>\n",
    "<b>Warnings:</b><br>\n",
    "<ul>\n",
    "<li>Geographers and the Astronomers use different conventions for the origin and variation of the azimuth. We will use the Astronomer convention as defined in [$\\S$ 3 &#10142;](../3_Positional_Astronomy/3_0_introduction.ipynb).</li>\n",
    "<li>The horizontal coordinate system behaves like a 2D spherical coordinates system, with a slight difference in convention choices (angle chosen as origin and direction of variation).</li>\n",
    "<li>The latitude $L_a$  was not expressed here but will become important later in the chapter.</li>\n",
    "</ul>\n",
    "</div>"
   ]
  },
  {
   "cell_type": "markdown",
   "metadata": {},
   "source": [
    "#### 4.2.1.3 赤道坐标架 (X,Y,Z)的基线表示 Expression in the Equatorial (X,Y,Z) Frame"
   ]
  },
  {
   "cell_type": "markdown",
   "metadata": {},
   "source": [
    "我们已经用方位角 $\\mathcal{A}$ 和 高度角 $\\mathcal{E}$对$ENU$系统里的基线进行了描述。如[$\\S$ 3.1 &#10142;](../3_Positional_Astronomy/3_1_equatorial_coordinates.ipynb)所述，对位于纬度$L_a$的观测者来看，顺着基线延长到天空的方向可以用赤道坐标($H$, $\\delta$)来表示，其中$H$是时角，$\\delta$是赤纬。\n",
    "\n",
    "The baseline is fully described in the $ENU$ system using the azimuth $\\mathcal{A}$ and elevation $\\mathcal{E}$. As shown in [$\\S$ 3.1 &#10142;](../3_Positional_Astronomy/3_1_equatorial_coordinates.ipynb), for an observer located at latitude $L_a$, the extension of the direction of the baseline defines a position on the sky. This position can be associated with Equatorial coordinates ($H$, $\\delta$), where $H$ is the hour angle and $\\delta$ the declination.\n",
    "\n",
    "进一步泛化，也为了方便后续的推导，我们定义了一个参考架，用来把基线映射到天球面上的天空坐标。为此，我们定义了一个中间参考架XYZ（参考基为$\\mathbf{\\hat{e}_X}$,$\\mathbf{\\hat{e}_Y}$,$\\mathbf{\\hat{e}_Z}$），参考架的原点置于地心，并用赤道坐标$(H; \\delta)$来表示XYZ坐标轴：\n",
    "\n",
    "To generalize the baseline further (and to ease subsequent derivations), we need to define a set of reference frames which will map the baseline onto sky coordinates on the celestial sphere. To do so, we define an intermediate frame of reference $XYZ$ with basis ($\\mathbf{\\hat{e}_X}$,$\\mathbf{\\hat{e}_Y}$,$\\mathbf{\\hat{e}_Z}$). We attach this frame of reference to the Earth. We can now position these axes with respect to the Equatorial coordinates $(H; \\delta)$. Let us define the axes of the $XYZ$ frame as:\n",
    "\n",
    "* $X$-axis 指向 $(H=0^\\textrm{h}, \\delta = 0^{\\circ})$ ($\\gamma$ 是春分穿过当地子午线的点)\n",
    "* $Y$-axis 指向 $(H=-6^\\textrm{h}, \\delta = 0^{\\circ})$ (东)\n",
    "* $Z$-axis 指向北天极(NCP)。\n",
    "\n",
    "\n",
    "* the $X$-axis points towards $(H=0^\\textrm{h}, \\delta = 0^{\\circ})$ ($\\gamma$ is the point where the vernal equinox crosses the local meridian)\n",
    "* the $Y$-axis towards $(H=-6^\\textrm{h}, \\delta = 0^{\\circ})$ (East)\n",
    "* the $Z$-axis towards the North Celestial Pole (NCP).\n",
    "\n",
    "图[Fig. 4.2.3 &#10549;](#vis:fig:413)上，红色代表阵列所在地的水平面，蓝色代表天赤道，通过坐标变换，水平参考面可以变换到天赤道参考面。\n",
    "\n",
    "[Fig. 4.2.3 &#10549;](#vis:fig:413) shows that the plane associated with the array elements (red) can be related to the plane of the celestial sphere (blue) via a coordinate transformation."
   ]
  },
  {
   "cell_type": "markdown",
   "metadata": {},
   "source": [
    "<a id=\"vis:fig:413\"></a> <!--\\label{vis:fig:413}--></a>\n",
    "<img src='figures/conversion.svg' width=30%>"
   ]
  },
  {
   "cell_type": "markdown",
   "metadata": {},
   "source": [
    "**Figure 4.2.3**: (X,Y,Z) 参考架。$T$ 为当地天顶，($X$,$Y$) 为天球平面（蓝色），垂直于NCP。($N$,$S$,$E$,$W$) 为天线所在平面（红色），垂直于当地天顶（T）。The (X,Y,Z) Reference frame. $T$: local zenith. ($X$,$Y$) = Celestial plane (blue) $\\perp$ to the NCP. ($N$,$S$,$E$,$W$) Antenna plane (red) $\\perp$ to the local zenith (T).\n"
   ]
  },
  {
   "cell_type": "markdown",
   "metadata": {},
   "source": [
    "<div class=warn>\n",
    "<b>提示:</b>\n",
    "<ul>\n",
    "<li>尽管我们用了赤道坐标来定义$XYZ$坐标系，但它仍然是一个地球参考架，因为其$X$、$Y$ 和 $Z$ 轴的指向不会随地球上的观测者发生变化  。</li>\n",
    "<li>然而，因为赤纬的参考面是天赤道，所以我们必须要知道观测仪所在的地理纬度。</li>\n",
    "</ul>\n",
    "</div>\n",
    "\n",
    "<div class=warn>\n",
    "<b>Warning:</b>\n",
    "<ul>\n",
    "<li>Although we use Equatorial coordinates to define the $XYZ$-coordinate system, it represents a <em>terrestrial</em> reference frame, as the $X$, $Y$ and $Z$ axes never change orientation for a local observer on Earth.</li>\n",
    "<li>However, as the declination refers to the celestial equator, the latitude of the observer $L_a$ is required.</li>\n",
    "</ul>\n",
    "</div>\n",
    "\n",
    "我们把($\\mathcal{A}$, $\\mathcal{E}$, $L_a$）转换到$(H, \\delta)$：\n",
    "\n",
    "We can convert ($\\mathcal{A}$, $\\mathcal{E}$, $L_a$) into $(H, \\delta)$ in this new frame:\n",
    "\n",
    "\\begin{equation}\n",
    "\\begin{bmatrix}\n",
    "X\\\\\n",
    "Y\\\\\n",
    "Z\n",
    "\\end{bmatrix}\n",
    "=\n",
    "\\begin{bmatrix}\n",
    "\\lvert \\mathbf{b} \\rvert \\cos \\delta \\cos H\\\\\n",
    "-\\lvert \\mathbf{b} \\rvert \\cos \\delta \\sin H\\\\\n",
    "\\lvert \\mathbf{b} \\rvert \\sin \\delta\n",
    "\\end{bmatrix}\n",
    "= \\lvert \\mathbf{b} \\rvert\n",
    "\\begin{bmatrix}\n",
    "\\cos L_a \\sin \\mathcal{E} - \\sin L_a \\cos \\mathcal{E} \\cos \\mathcal{A}\\nonumber\\\\ \n",
    "\\cos \\mathcal{E} \\sin \\mathcal{A} \\nonumber\\\\\n",
    "\\sin L_a \\sin \\mathcal{E} + \\cos L_a \\cos \\mathcal{E} \\cos \\mathcal{A}\\\\\n",
    "\\end{bmatrix}\n",
    "\\end{equation}\n",
    "<a id=\"vis:eq:3_1\"></a> <!---<a id=\"vis:eq:3_1\"></a>--->\n",
    "\n",
    "**Equation 3.1**: 把基线矢量从$\\mathcal{E},\\mathcal{A}$变换到$XYZ$。$\\mathbf{b}$：基线矢量的模；$H$：时角；：$\\delta$：赤纬；$L_a$：阵列所在纬度。Conversion from baseline vector $\\mathcal{E},\\mathcal{A}$ to $XYZ$ . $\\mathbf{b}$: amplitude of baseline vector. $H$: Hour angle, $\\delta$: Declination, $L_a$: latitude of the array. \n",
    "\n",
    "<div class=advice>\n",
    "<b>Note:</b> The complete derivation of [Eq. 3.1 &#10142;](#vis:eq:3_1)  from the spherical triangle <b>ZTS</b> can be found in [$\\S$ A.1 &#10142;](../0_Introduction/2_Appendix.ipynb).\n",
    "</div>"
   ]
  },
  {
   "cell_type": "markdown",
   "metadata": {},
   "source": [
    "### 4.2.2 ($u$,$v$,$w$) 空间 The ($u$,$v$,$w$) Space"
   ]
  },
  {
   "cell_type": "markdown",
   "metadata": {},
   "source": [
    "我们已经用地球XYZ参考系定义了基线，为最终转换到天球uvw参考系做好了准备。假设($H_0$, $\\delta_0$)是源$\\mathbf{s_0}$在天球上的一个对应点，接下来定义一组新的坐标轴：\n",
    "\n",
    "Now that we have defined a baseline in a terrestrial XYZ frame we are ready for the final transformation to the celestial *uvw* reference frame. Let ($H_0$, $\\delta_0$) be the point on the celestial sphere in the direction of a source $\\mathbf{s_0}$. We now define a new set of axes:\n",
    "\n",
    "* $u$ 轴在天赤道上，并指向时角 $H_0-6^\\text{h}$ 。\n",
    "* $v$ 轴在时角$H_0$所在的大圆面上, 并指向赤纬 $\\frac{\\pi}{2}-\\delta_0$ 。\n",
    "* $w$ 轴指向源 $\\mathbf{s_0}$。\n",
    "\n",
    "\n",
    "* the $u$-axis lies in the celestial equatorial plane, and points toward the hour angle $H_0-6^\\text{h}$.\n",
    "* the $v$-axis lies in the plane of the great circle with hour angle $H_0$, and points toward the declination $\\frac{\\pi}{2}-\\delta_0$.\n",
    "* the $w$-axis points in the direction of $\\mathbf{s_0}$.\n",
    "\n",
    "($u$,$v$)轴构成的平面跟源$\\mathbf{s_0}$垂直。\n",
    "\n",
    "The ($u$,$v$) axes form a 2-D plane perpendicular to $\\mathbf{s_0}$."
   ]
  },
  {
   "cell_type": "markdown",
   "metadata": {},
   "source": [
    "对基线的赤道坐标进行连续两次旋转，从 ($X$,$Y$,$Z$) 坐标变换到 ($u$, $v$, $w$) 坐标：\n",
    "\n",
    "1. $\\mathcal{R}_\\text{Z}^{\\frac{\\pi}{2}-H_0}$:  $X$, $Y$ 轴围绕 $Z=Z'$ 旋转 $\\frac{\\pi}{2}-H_0$ 的角度，得到 $X'$, $Y'$ 轴（图  [Fig. 4.2.4 &#10549;](#vis:fig:414) 中绿色部分）。\n",
    "2. $\\mathcal{R}_\\text{X'}^{\\frac{\\pi}{2}-\\delta_0}$: $Y'$,$Z'$ 轴绕 $X'=u$ 旋转  $\\frac{\\pi}{2}-\\delta_0$ 的角度，得到  $u$, $v$ 轴 （图 [Fig. 4.2.4 &#10549;](#vis:fig:414) 中的红色部分）。\n",
    "\n",
    "***\n",
    "The transformation from the ($X$,$Y$,$Z$) frame to the ($u$, $v$, $w$) frame requires two succesive rotations applied to the equatorial coordinates of the baseline:\n",
    "\n",
    "1. $\\mathcal{R}_\\text{Z}^{\\frac{\\pi}{2}-H_0}$:  the rotation of the $X$,$Y$ axes around the $Z=Z'$ axis of angle $\\frac{\\pi}{2}-H_0$ making the new axes $X'$, $Y'$ (Green axes in [Fig. 4.2.4 &#10549;](#vis:fig:414))\n",
    "2. $\\mathcal{R}_\\text{X'}^{\\frac{\\pi}{2}-\\delta_0}$:  the rotation of the $Y'$,$Z'$ axes around the $X'=u$ axis of angle $\\frac{\\pi}{2}-\\delta_0$ making the new axes $u$, $v$ (red axes in [Fig. 4.2.4 &#10549;](#vis:fig:414)).\n",
    "\n"
   ]
  },
  {
   "cell_type": "markdown",
   "metadata": {},
   "source": [
    "<a id=\"vis:fig:414\"></a> <!--\\label{vis:fig:414}--></a>\n",
    "<img src='figures/coordinates2b.svg' width=50%>"
   ]
  },
  {
   "cell_type": "markdown",
   "metadata": {},
   "source": [
    "**Figure 4.2.4**: (X,Y,Z) 坐标系与 ($u$,$v$,$w$) 坐标系。其中$Z$ 为当地天顶，($X$,$Y$) 是与NCP垂直的天赤道。\n",
    "Relation of the (X,Y,Z) frame to the ($u$,$v$,$w$) frame. $Z$: local zenith. ($X$,$Y$)  = Celestial plane $\\perp$ to the NCP."
   ]
  },
  {
   "cell_type": "markdown",
   "metadata": {},
   "source": [
    "由 $XYZ$ 转换到 $uvw$ 公式如下：\n",
    "\n",
    "The conversion from $XYZ$ to $uvw$ is expressed as following:\n",
    "\\begin{equation}\n",
    "\\begin{pmatrix}\n",
    "u\\\\\n",
    "v\\\\\n",
    "w\n",
    "\\end{pmatrix}\n",
    "=\n",
    "\\mathcal{R}_\\text{X'}^{\\frac{\\pi}{2}-\\delta_0}\n",
    "\\mathcal{R}_\\text{Z}^{\\frac{\\pi}{2}-H_0}\n",
    "\\begin{pmatrix}\n",
    "X\\\\\n",
    "Y\\\\\n",
    "Z\n",
    "\\end{pmatrix}\n",
    "\\end{equation}\n",
    "\n"
   ]
  },
  {
   "cell_type": "markdown",
   "metadata": {},
   "source": [
    "where\n",
    "\\begin{equation}\n",
    "\\mathcal{R}_\\text{X'}^{\\frac{\\pi}{2}-\\delta_0}\n",
    "=\n",
    "\\begin{pmatrix}\n",
    "1& 0& 0\\\\\n",
    "0 & \\cos (\\frac{\\pi}{2}- \\delta_0) & \\sin (\\frac{\\pi}{2}- \\delta_0)  \\\\\n",
    "0 &-\\sin (\\frac{\\pi}{2}- \\delta_0) & \\cos (\\frac{\\pi}{2}- \\delta_0) \\\\\n",
    "\\end{pmatrix} \n",
    "=\n",
    "\\begin{pmatrix}\n",
    "1& 0& 0\\\\\n",
    "0 & \\sin \\delta_0 & \\cos \\delta_0  \\\\\n",
    "0 &-\\cos \\delta_0 & \\sin \\delta_0 \\\\\n",
    "\\end{pmatrix} \n",
    "\\end{equation}"
   ]
  },
  {
   "cell_type": "markdown",
   "metadata": {},
   "source": [
    "and \\begin{equation}\n",
    "\\mathcal{R}_\\text{Z}^{\\frac{\\pi}{2}-H_0}\n",
    "=\n",
    "\\begin{pmatrix}\n",
    "\\cos (\\frac{\\pi}{2}- H_0) & \\sin (\\frac{\\pi}{2}- H_0) & 0 \\\\\n",
    "-\\sin (\\frac{\\pi}{2}- H_0) & \\cos (\\frac{\\pi}{2}- H_0) & 0 \\\\\n",
    "0 & 0 & 1\n",
    "\\end{pmatrix} \n",
    "=\n",
    "\\begin{pmatrix}\n",
    "\\sin H_0 & \\cos H_0 & 0 \\\\\n",
    "-\\cos H_0 & \\sin H_0 & 0 \\\\\n",
    "0 & 0 & 1\n",
    "\\end{pmatrix} \n",
    "\\end{equation}"
   ]
  },
  {
   "cell_type": "markdown",
   "metadata": {},
   "source": [
    "<div class=warn>\n",
    "<b>注意:</b> 与线性代数里的规则一样，向量操作顺序为从右往左。\n",
    "</div>\n",
    "\n",
    "\n",
    "<div class=warn>\n",
    "<b>Warning:</b> The sequence of operations applied to vectors should be read from right to left, as is the rule in linear algebra.\n",
    "</div>"
   ]
  },
  {
   "cell_type": "markdown",
   "metadata": {},
   "source": [
    "得到以下的转换矩阵：\n",
    "\n",
    "This results in the following transformation matrix:\n",
    "\\begin{equation}\n",
    "\\begin{pmatrix}\n",
    "u\\\\\n",
    "v\\\\\n",
    "w\n",
    "\\end{pmatrix}\n",
    "=\n",
    "\\begin{pmatrix}\n",
    "\\sin H_0 & \\cos H_0 & 0\\\\ \n",
    "-\\sin \\delta_0 \\cos H_0 & \\sin\\delta_0\\sin H_0 & \\cos\\delta_0\\\\\n",
    "\\cos \\delta_0 \\cos H_0 & -\\cos\\delta_0\\sin H_0 & \\sin\\delta_0\\\\\n",
    "\\end{pmatrix} \n",
    "\\begin{pmatrix}\n",
    "X\\\\\n",
    "Y\\\\\n",
    "Z\n",
    "\\end{pmatrix}\n",
    "\\end{equation}\n",
    "\n"
   ]
  },
  {
   "cell_type": "markdown",
   "metadata": {},
   "source": [
    "<div class=warn>\n",
    "<b>注意:</b>($u$, $v$, $w$)的单位为波长数，即基线矢量（$\\mathbf{b}$）/观测波长（ $\\lambda$）。\n",
    "\n",
    "<div class=warn>\n",
    "<b>Warning:</b>\n",
    "We usually express the components ($u$, $v$, $w$) in units of wavelength (of the observation) by dividing the baseline vector by $\\lambda$:\n",
    "</div>\n",
    "\n",
    "\n",
    "\\begin{equation}\n",
    "\\mathbf{b_\\lambda}\n",
    "= \n",
    "\\frac{\\mathbf{b}}{\\lambda}\n",
    "= \n",
    "\\begin{pmatrix}\n",
    "u\\\\\n",
    "v\\\\\n",
    "w\n",
    "\\end{pmatrix}\n",
    "=\n",
    "\\frac{1}{\\lambda}\n",
    "\\begin{pmatrix}\n",
    "\\sin H_0 & \\cos H_0 & 0\\\\ \n",
    "-\\sin \\delta_0 \\cos H_0 & \\sin\\delta_0\\sin H_0 & \\cos\\delta_0\\\\\n",
    "\\cos \\delta_0 \\cos H_0 & -\\cos\\delta_0\\sin H_0 & \\sin\\delta_0\\\\\n",
    "\\end{pmatrix} \n",
    "\\begin{pmatrix}\n",
    "X\\\\\n",
    "Y\\\\\n",
    "Z\n",
    "\\end{pmatrix}\n",
    "\\end{equation}\n",
    "\n",
    "在后面的章节中，我们将省略下标 $\\lambda$，默认 $u$, $v$, $w$ 的单位为波长数。\n",
    "\n",
    "In the following sections and chapters, we will drop the $\\lambda$ subscript, as we will always assume that the $u$, $v$, $w$ components are given in units of wavelengths.\n",
    "\n",
    "</div>"
   ]
  },
  {
   "cell_type": "markdown",
   "metadata": {},
   "source": [
    "### 4.2.3 结论 Conclusion"
   ]
  },
  {
   "cell_type": "markdown",
   "metadata": {},
   "source": [
    "本节利用天文学家所熟知的参考架对基线矢量进行了数学描述，便于我们后面能快速理解基线的物理长度与天球上的测量量之间的映射关系。在 [$\\S$ 4.3 &#10142;](4_3_the_2-element_interferometer.ipynb)节，我们将聚焦一个简单的一维二元干涉仪，解决两个天线接收到的点源信号的相关问题，并构建相应的可见度函数（[$\\S$ 4.4 &#10142;](4_4_the_visibility_function.ipynb) 节有更详细的描述）。\n",
    "\n",
    "This section was dedicated to writing a mathematical expression the baseline vector in astronomy-friendly reference frames. This will later allow us to quickly link the physical length of a baseline between two receivers to a quantity measured on the celestial sphere. \n",
    "In [$\\S$ 4.3 &#10142;](4_3_the_2-element_interferometer.ipynb), we will focus on a simple one dimensional 2-element interferometer. We will address the correlation of two signals collected from a remote point source, and construct the corresponding visibility function which will be described in greater detail in [$\\S$ 4.4 &#10142;](4_4_the_visibility_function.ipynb).\n",
    "\n",
    "<div class=advice>\n",
    "这里不用太操心$uvw$空间，我么将在[$\\S$4.4](4_Visibility_Space/4_4_the_visibility_function.ipynb)做进一步解释。本节的推导将有助于对后续内容的学习和理解。\n",
    "</div>\n",
    "\n",
    "<div class=advice>\n",
    "Do not worry too much about the relevance of $uvw$ space - it will be made clear in [$\\S$4.4](4_Visibility_Space/4_4_the_visibility_function.ipynb). For now, suffice to say that this derivation will be useful to us later on.\n",
    "</div>"
   ]
  },
  {
   "cell_type": "markdown",
   "metadata": {},
   "source": [
    "#### Format status:\n",
    "* <span style=\"background-color:green\">&nbsp;&nbsp;&nbsp;&nbsp;</span> : LF: 2017/02/06\n",
    "* <span style=\"background-color:green\">&nbsp;&nbsp;&nbsp;&nbsp;</span> : NC: 2017/02/06\n",
    "* <span style=\"background-color:green\">&nbsp;&nbsp;&nbsp;&nbsp;</span> : RF: 2017/02/06\n",
    "* <span style=\"background-color:green\">&nbsp;&nbsp;&nbsp;&nbsp;</span> : HF: 2017/02/06\n",
    "* <span style=\"background-color:green\">&nbsp;&nbsp;&nbsp;&nbsp;</span> : GM: 2017/02/06\n",
    "* <span style=\"background-color:green\">&nbsp;&nbsp;&nbsp;&nbsp;</span> : CL: 2017/02/06\n",
    "* <span style=\"background-color:green\">&nbsp;&nbsp;&nbsp;&nbsp;</span> : ST: 2017/02/06\n",
    "* <span style=\"background-color:green\">&nbsp;&nbsp;&nbsp;&nbsp;</span> : FN: 2017/02/06\n",
    "* <span style=\"background-color:green\">&nbsp;&nbsp;&nbsp;&nbsp;</span> : SP: 2017/02/06\n",
    "* <span style=\"background-color:red\">&nbsp;&nbsp;&nbsp;&nbsp;</span> : TC: Date\n",
    "* <span style=\"background-color:green\">&nbsp;&nbsp;&nbsp;&nbsp;</span> : XX: 2017/02/06"
   ]
  },
  {
   "cell_type": "markdown",
   "metadata": {},
   "source": [
    "***\n",
    "\n",
    "* Next: [4.3 The 2-element Interferometer](4_3_the_2-element_interferometer.ipynb)"
   ]
  }
 ],
 "metadata": {
  "kernelspec": {
   "display_name": "Python 3",
   "language": "python",
   "name": "python3"
  },
  "language_info": {
   "codemirror_mode": {
    "name": "ipython",
    "version": 3
   },
   "file_extension": ".py",
   "mimetype": "text/x-python",
   "name": "python",
   "nbconvert_exporter": "python",
   "pygments_lexer": "ipython3",
   "version": "3.6.9"
  }
 },
 "nbformat": 4,
 "nbformat_minor": 2
}
