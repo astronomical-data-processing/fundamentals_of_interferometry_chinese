{
 "cells": [
  {
   "cell_type": "markdown",
   "metadata": {},
   "source": [
    "***\n",
    "<a id='beginning'></a> <!--\\label{beginning}-->\n",
    "* [Outline](../0_Introduction/0_introduction.ipynb)\n",
    "* [Glossary](../0_Introduction/1_glossary.ipynb)\n",
    "* [4. The Visibility space](4_0_introduction.ipynb)\n",
    "    * Previous: [4.3 The 2-Element Interferometer](4_3_the_2-element_interferometer.ipynb)\n",
    "    * Next: [4.5.1 UV Coverage: UV Tracks](4_5_1_uv_coverage_uv_tracks.ipynb)\n",
    "\n",
    "***"
   ]
  },
  {
   "cell_type": "markdown",
   "metadata": {},
   "source": [
    "Import standard modules:"
   ]
  },
  {
   "cell_type": "code",
   "execution_count": 1,
   "metadata": {},
   "outputs": [
    {
     "data": {
      "text/html": [
       "<style>\n",
       "\n",
       "p.prerequisites {\n",
       "    border:5px;\n",
       "    border-style:none;\n",
       "    background-color:#F0F0F0;\n",
       "    box-shadow: 5px 5px 2px #888888;\n",
       "    border-color:#FF0000;\n",
       "    padding: 1em;\n",
       "    }\n",
       "\n",
       "p.conclusion {\n",
       "    border:5px;\n",
       "    border-style:none;\n",
       "    background-color:#c8ebca;\n",
       "    box-shadow: 5px 5px 2px #888888;\n",
       "    border-color:#c8ebca;\n",
       "    padding: 1em;\n",
       "    }\n",
       "\n",
       "div.warn {    \n",
       "    background-color: #fcf2f2;\n",
       "    border-color: #dFb5b4;\n",
       "    border-left: 5px solid #dfb5b4;\n",
       "    padding: 0.5em;\n",
       "    }\n",
       "\n",
       "div.advice {    \n",
       "    background-color: #ecf8ed;\n",
       "    border-color: #a2dda5;\n",
       "    border-left: 5px solid #a2dda5;\n",
       "    padding: 0.5em;\n",
       "    }\n",
       "\n",
       "</style>\n",
       "\n"
      ],
      "text/plain": [
       "<IPython.core.display.HTML object>"
      ]
     },
     "execution_count": 1,
     "metadata": {},
     "output_type": "execute_result"
    }
   ],
   "source": [
    "import numpy as np\n",
    "import matplotlib.pyplot as plt\n",
    "%matplotlib inline\n",
    "from IPython.display import HTML \n",
    "HTML('../style/course.css') #apply general CSS"
   ]
  },
  {
   "cell_type": "markdown",
   "metadata": {},
   "source": [
    "Import section specific modules:"
   ]
  },
  {
   "cell_type": "code",
   "execution_count": 2,
   "metadata": {},
   "outputs": [
    {
     "data": {
      "text/html": [
       "<script>\n",
       "    code_show=false; \n",
       "    function code_toggle() {\n",
       "        if (code_show){\n",
       "            $('div.input').hide();\n",
       "        } else {\n",
       "            $('div.input').show();\n",
       "        }\n",
       "        code_show = !code_show\n",
       "    } \n",
       "    $( document ).ready(code_toggle);\n",
       "</script>\n",
       "\n",
       "The raw code for this notebook is by default hidden for easier reading. To toggle on/off the raw code, click <a href=\"javascript:code_toggle()\">here</a>.\n",
       "\n"
      ],
      "text/plain": [
       "<IPython.core.display.HTML object>"
      ]
     },
     "execution_count": 2,
     "metadata": {},
     "output_type": "execute_result"
    }
   ],
   "source": [
    "HTML('../style/code_toggle.html')"
   ]
  },
  {
   "cell_type": "markdown",
   "metadata": {},
   "source": [
    "***"
   ]
  },
  {
   "cell_type": "markdown",
   "metadata": {},
   "source": [
    "## 4.4 可见度函数 The Visibility Function"
   ]
  },
  {
   "cell_type": "markdown",
   "metadata": {},
   "source": [
    "到目前为止，我们讨论的都是一次测量的单个可见度。随着干涉仪上方的天空缓慢且连续地旋转，投影基线也跟着缓慢且连续地发生改变，测得了一系列可见度，对应于连续可见度函数$\\mathcal{V}$的一系列采样。在一定条件下，我们将看到该可见度函数与天空亮度分布的傅里叶变换之间的关系。\n",
    "\n",
    "So far, we've treated each individual measured visibility as a single measurement. Assuming a slowly and continuously rotating sky above the interferometer, we can turn the set of measured visibilities from different baselines into a set of samples of an underlying *continuous* visibility function $\\mathcal{V}$. Under certain assumptions, we will see how this visibility function is related to the Fourier transform of the sky brightness distribution."
   ]
  },
  {
   "cell_type": "markdown",
   "metadata": {},
   "source": [
    "基于[$\\S$ 4.3 &#10142;](4_3_the_2-element_interferometer.ipynb)的定义，我们现在来研究可见度函数，即干涉仪眼里的天空。可见度函数跟条纹模式的对比度有关，而该条纹模式是由每条基线的天线所接收到的信号合成的。\n",
    "\n",
    "Based on what we have defined in [$\\S$ 4.3 &#10142;](4_3_the_2-element_interferometer.ipynb), we will focus on the visibility function, which is a caracteristic of the sky as seen through an interferometer. It is related to the contrast in the fringe pattern created by the combination of signals received by the antennas on each baseline."
   ]
  },
  {
   "cell_type": "markdown",
   "metadata": {},
   "source": [
    "### 4.4.1 复可见度的数学定义  Mathematical definition of the complex visibility\n"
   ]
  },
  {
   "cell_type": "markdown",
   "metadata": {},
   "source": [
    "#### 4.4.1.1 比强度/表面亮度 Specific intensity / Surface brigthness"
   ]
  },
  {
   "cell_type": "code",
   "execution_count": null,
   "metadata": {
    "collapsed": true
   },
   "outputs": [],
   "source": []
  },
  {
   "cell_type": "markdown",
   "metadata": {},
   "source": [
    "[$\\S$ 1.2 &#10142;](../1_Radio_Science/1_2_electromagnetic_radiation_and_astronomical_quantities.ipynb)已经说到，比强度$I_{\\nu}$（或者表面亮度）定义为每单位立体角、单位频率间隔、单位接收面积所接收到的能量：\n",
    "\n",
    "As seen in [$\\S$ 1.2 &#10142;](../1_Radio_Science/1_2_electromagnetic_radiation_and_astronomical_quantities.ipynb), the *specific intensity* $I_\\nu$ (or the *surface brightness*) is defined as the received power per unit solid angle, per unit frequency interval, per unit collecting area:\n",
    "$$ dP_{\\nu} = I_{\\nu} d\\Omega d\\nu d A_{\\text{eff}} $$\n",
    "\n",
    "$dP_{\\nu}$的单位为瓦特W，$I_{\\nu}$的单位为W m$^{-2}$ sr$^{-1}$ Hz$^{-1}$。\n",
    "\n",
    "where $dP_{\\nu}$ is in units of W and $I_{\\nu}$ is in units of W m$^{-2}$ sr$^{-1}$ Hz$^{-1}$.\n",
    "\n",
    "按照积分形式，面积$A$接收到的源（通量密度$S$，带宽$\\Delta \\nu$）的能量$P_{\\text{rec}}$为：\n",
    "\n",
    "In the integrated form, the received power $P_{\\text{rec}}$ from a source with flux density $S$ over the bandwidth $\\Delta \\nu$, flowing through a collecting area $A$ is:\n",
    "$$P_{\\text{rec}}=\\frac{1}{2} A S \\Delta \\nu$$\n",
    "\n"
   ]
  },
  {
   "cell_type": "markdown",
   "metadata": {},
   "source": [
    "距离相位中心（$\\mathbf{s_0}$）$\\boldsymbol{\\sigma}$的地方，以立体角$d\\Omega$定义的天空区域，在带宽$\\Delta \\nu$上贡献给接收面积$A_{\\text{eff}}$的能量为：\n",
    "\n",
    "At a location $\\boldsymbol{\\sigma}$ from the phase center $\\mathbf{s_0}$, the region of the sky defined by $d\\Omega$ will contribute to the received power over bandwidth $\\Delta \\nu$ and collecting surface $A_{\\text{eff}}$ as:\n",
    "$$dP(\\boldsymbol{\\sigma})= \\frac{1}{2} A_{\\text{eff}}(\\boldsymbol{\\sigma})I_\\nu(\\boldsymbol{\\sigma})\\Delta\\nu d\\Omega$$"
   ]
  },
  {
   "cell_type": "markdown",
   "metadata": {},
   "source": [
    "<span style=\"background-color:red\">TLG:AC: Add image here which may help.</span>"
   ]
  },
  {
   "cell_type": "markdown",
   "metadata": {},
   "source": [
    "<img src='figures/brightness.svg' width=40%>"
   ]
  },
  {
   "cell_type": "markdown",
   "metadata": {},
   "source": [
    "<div class=advice>\n",
    "<b>回顾定义:</b><br>\n",
    "\n",
    "- 通量密度 : $S_{\\nu} = \\int I_{\\nu} d\\Omega$，单位 Jansky (Jy)<br> \n",
    "- 通量 : F=$\\int_{\\Delta \\nu} \\int_\\Omega I_\\nu d \\Omega d\\nu$，单位 W m$^{-2}$<br>\n",
    "- 接收能量:  P= $\\int_{A_\\text{eff}}\\int_{\\nu} \\int_\\Omega I_\\nu d \\Omega d\\nu d A_{\\text{eff}}$，单位 W<br>\n",
    "其中$\\Omega$ 是源的立体角，单位为弧度 (sr).\n",
    "</div>\n",
    "\n",
    "<div class=advice>\n",
    "<b>Recall the definitions:</b><br>\n",
    "\n",
    "- Flux density : $S_{\\nu} = \\int I_{\\nu} d\\Omega$ in Jansky (Jy)<br> \n",
    "- Flux : F=$\\int_{\\Delta \\nu} \\int_\\Omega I_\\nu d \\Omega d\\nu$ in W m$^{-2}$<br>\n",
    "- Received power:  P= $\\int_{A_\\text{eff}}\\int_{\\nu} \\int_\\Omega I_\\nu d \\Omega d\\nu d A_{\\text{eff}}$ in W<br>\n",
    "where $\\Omega$ is the solid angle subtended by the source in steradians (sr).\n",
    "</div>"
   ]
  },
  {
   "cell_type": "markdown",
   "metadata": {},
   "source": [
    "<div class=warn>\n",
    "<b>注意:</b> 信号在真空传播的过程中，比强度$I_{\\nu}$不会发生变化，因此跟源的距离无关，但是，通量密度$S_{\\nu}$会随着距离发生变化，变化系数为 $r^{-2}$。</div>\n",
    "\n",
    "<div class=warn>\n",
    "<b>Warning:</b> $I_{\\nu}$The specific intensity $I_{\\nu}$ does not vary while the signal propagates in vacuum, and is thus independent of the distance to the source. However, the flux density $S_{\\nu}$ varies with the distance, with an $r^{-2}$ dependency.</div>\n"
   ]
  },
  {
   "cell_type": "markdown",
   "metadata": {},
   "source": [
    "<div class=warn>\n",
    "<b>注意:</b> 系数$\\frac{1}{2}$表示多数天线馈源是有极化的（圆极化或者线极化），因此它只对非极化源的一半能量敏感。如果源的极化方向跟天线完全一致，则天线将测量到源的所有能量。</div>\n",
    "\n",
    "<div class=warn>\n",
    "<b>Warning:</b> The $\\frac{1}{2}$ coefficient accounts for the fact that most antenna feeds are polarized (either circularly or linearly) and therefore only sensitive to half of the power of an unpolarized source. If the source is fully polarised in the same direction as the antenna, the antenna will measure the full power.</div>"
   ]
  },
  {
   "cell_type": "markdown",
   "metadata": {},
   "source": [
    "在上一节我们已经看到，干涉仪测量到的是立体角$\\Omega$范围内的各部分天空分布的和。比强度$I_\\nu$经过空间滤波（投影基线的函数）并被天线响应调制（目前假定所有接收机一样），构成了复可见度测量值的奇数部分和偶数部分：\n",
    "\n",
    "In the previous section, we have seen that the quantity measured by an interferometer is the sum of the contributions from different parts of the sky within the solid angle $\\Omega$. The complex visibility includes the measurements of both the *odd* part and the *even* part of the specific intensity $I_\\nu$, as seen through spatial filters (which are a function of the projected baseline) and modulated by the antenna response (assumed to be  identical for all receivers so far):\n",
    "\n",
    "$$\\boxed{\\boxed{\\mathcal{ V_{\\mathbf{b}} } = \\int_{\\Omega} A_\\text{eff}(\\boldsymbol{\\sigma})I_\\nu(\\boldsymbol{\\sigma}) e^{-\\imath 2\\pi \\frac{\\textbf{b}\\cdot \\boldsymbol{\\sigma}}{\\lambda}} d\\Omega}}$$\n",
    "\n",
    "我们将使用有效面积归一化以后的可见度，因此最后的单位跟通量密度一样，都是Jansky (Jy)：\n",
    "\n",
    "We will use an expression of the visibility where the effective area has been normalized, so that $\\mathcal{V}_{\\mathbf{b}}$ has dimensions of flux density:"
   ]
  },
  {
   "cell_type": "markdown",
   "metadata": {},
   "source": [
    "<a id=\"vis:eq:441\"></a> <!---\\label{vis:eq:441}--->\n",
    "$$\\boxed{\\boxed{\\mathcal{ V_{\\mathbf{b}} } = \\int_{\\Omega}I_\\nu(\\boldsymbol{\\sigma}) e^{-\\imath 2\\pi \\frac{\\textbf{b}\\cdot \\boldsymbol{\\sigma}}{\\lambda}} d\\Omega}} \\text{ 单位 Jy}$$"
   ]
  },
  {
   "cell_type": "markdown",
   "metadata": {},
   "source": [
    "**Equation 4.4.1** "
   ]
  },
  {
   "cell_type": "markdown",
   "metadata": {},
   "source": [
    "#### 4.4.1.B 条纹模式的表示 Expression of the fringe pattern\n"
   ]
  },
  {
   "cell_type": "markdown",
   "metadata": {},
   "source": [
    "在[$\\S$ 4.2 &#10142;](../4_Visibility_Space/4_2_the_baseline_and_its_representation_in_space.ipynb)，我们使用各种坐标系统来表示天空参考系里的基线，接下来，我们将用它们来明确表示可见度$\\mathcal{V}_{\\mathbf{b}}$。\n",
    "\n",
    "In [$\\S$ 4.2 &#10142;](../4_Visibility_Space/4_2_the_baseline_and_its_representation_in_space.ipynb), we defined various coordinates systems to represent the baseline in a sky-friendly reference frame. We will now use them to have an explicit expression of the visibility $\\mathcal{V}_{\\mathbf{b}}$.\n",
    "\n",
    "$\\boldsymbol{\\sigma}$是方向差矢量，定义为$\\boldsymbol{\\sigma}= \\mathbf{s} - \\mathbf{s_0}$。\n",
    "\n",
    "$\\boldsymbol{\\sigma}$ is the direction difference vector defined as $\\boldsymbol{\\sigma}= \\mathbf{s} - \\mathbf{s_0}$.\n",
    "\n",
    "在($u$,$v$,$w$)坐标系里，$\\mathbf{s_0}$的方向就是$w$的方向。\n",
    "\n",
    "In ($u$,$v$,$w$)-coordinates, $\\mathbf{s_0}$ defines the $w$ direction. \n",
    "\n",
    "<span style=\"background-color:red\">TLG:AC: Make a reference to chapter 3 (the direction cosines and to 4.2 prec where the $uvw$ coordinates are defined.</span>\n",
    "\n",
    "因此：\n",
    "\n",
    "Therefore:\n",
    "\n",
    "\\begin{eqnarray}\n",
    "\\mathbf{s_0}&=&\n",
    "\\begin{pmatrix}\n",
    "0 \\\\\n",
    "0 \\\\\n",
    "1 \\\\\n",
    "\\end{pmatrix}\n",
    "\\end{eqnarray}\n",
    "\n",
    "\n",
    "\\begin{eqnarray}\n",
    "\\mathbf{s}\n",
    "&=&\n",
    "\\begin{pmatrix}\n",
    "l \\\\\n",
    "m \\\\\n",
    "n \\\\\n",
    "\\end{pmatrix}\n",
    "\\end{eqnarray}\n",
    "\n",
    "\\begin{eqnarray}\n",
    "\\mathbf{b}_{\\lambda} \n",
    "&=&\n",
    "\\mathbf{ \\frac{\\mathbf{b}}{\\lambda}}\n",
    "=\n",
    "\\begin{pmatrix}\n",
    "u \\\\\n",
    "v \\\\\n",
    "w \\\\\n",
    "\\end{pmatrix}\n",
    "\\end{eqnarray}\n",
    "\n",
    "\n",
    "\n",
    "\n"
   ]
  },
  {
   "cell_type": "markdown",
   "metadata": {},
   "source": [
    "点乘$\\mathbf{b} \\cdot \\boldsymbol{\\sigma}$可以表示为($u$,$v$,$w$) 和 ($l$,$m$,$n$)的函数：\n",
    "\n",
    "The scalar product $\\mathbf{b} \\cdot \\boldsymbol{\\sigma}$ in  [Eq. 4.4.1 &#10549;](#vis:eq:441) can be expressed as a function of ($u$,$v$,$w$) and ($l$,$m$,$n$) as follows:"
   ]
  },
  {
   "cell_type": "markdown",
   "metadata": {},
   "source": [
    "\n",
    "$$ \\mathbf{b_\\lambda} \\cdot \\boldsymbol{\\sigma}= ul + vm + (n-1)w $$"
   ]
  },
  {
   "cell_type": "markdown",
   "metadata": {},
   "source": [
    "根据 [Eq. 4.4.1 &#10549;](#vis:eq:441)我们将用($l$,$m$,$n$)坐标表示立体角$d\\Omega$。由于$d \\Omega = d\\theta \\sin \\theta d\\phi$，我们也可以用($l$,$m$,$n$)来描述天球上的位置，采用Jacobian行列式，最终得到：\n",
    "\n",
    "We will now express $d\\Omega$ from [Eq. 4.4.1 &#10549;](#vis:eq:441) in term of ($l$,$m$,$n$) coordinates. $d\\Omega$ describes an element of solid angle on the celestial sphere.\n",
    "As $d \\Omega = d\\theta \\sin \\theta d\\phi$, we may also express the surface element in terms of ($l$,$m$,$n$). By using the Jacobian determinant, we end up with:\n",
    "\n",
    "$$d \\Omega = \\frac{dl dm}{n} = \\frac{dl dm}{\\sqrt{1 - l^2 - m^2}}$$"
   ]
  },
  {
   "cell_type": "markdown",
   "metadata": {},
   "source": [
    "<a id=\"vis:eq:442\"></a> <!---\\label{vis:eq:442}--->\n",
    "$$\\boxed{\\boxed{\\mathcal{ V }(u,v,w) = \\int_{-\\infty}^{\\infty}\\int_{-\\infty}^{\\infty} A(l,m)I_\\nu(l,m) \\exp \\left[ {-\\imath 2\\pi (ul+vm+w(\\sqrt{1-l^2-m^2}-1)) }\\right] \\frac{dl dm}{\\sqrt{1 - l^2 - m^2}}}}$$"
   ]
  },
  {
   "cell_type": "markdown",
   "metadata": {},
   "source": [
    "**Equation 4.4.2** "
   ]
  },
  {
   "cell_type": "markdown",
   "metadata": {},
   "source": [
    "<span style=\"background-color:red\">TLG:AC: Point to appendix for the proof.</span>"
   ]
  },
  {
   "cell_type": "markdown",
   "metadata": {},
   "source": [
    "<div class=warn>\n",
    "<b>注意:</b> 被积函数是有界的（当$l^2+m^2 \\geq 1$时，$A$ 和 $I_\\nu$为空值），积分可以无界。</div>\n",
    "\n",
    "<div class=warn>\n",
    "<b>Warning:</b> 积分的界限可以无限，但是被积函数是有界的，因为当$l^2+m^2 \\geq 1$时，$A$ 和 $I_\\nu$为空值。   The bounds of the integral can be infinite, since we know that the integrand is bounded ($A$ and $I_\\nu$ are null when $l^2+m^2 \\geq 1$).</div>"
   ]
  },
  {
   "cell_type": "markdown",
   "metadata": {},
   "source": [
    "如果满足以下条件：\n",
    "- 视场$\\Omega$很小\n",
    "- 波束$A(l,m)$非常集中，即快速降低到零\n",
    "- 源离相位中心($l=0$,$m=0$)很近\n",
    "- $w$ 项很小\n",
    "\n",
    "即$l,m << 1$，则有\n",
    "\n",
    "\n",
    "If the following conditions are met:\n",
    "\n",
    "- the field of view $\\Omega$ is small\n",
    "- the beam pattern $A(l,m)$ goes quickly to zero\n",
    "- the sources are grouped close to the phase center at ($l=0$,$m=0$)\n",
    "- $w$ is small\n",
    "\n",
    "i.e.  $l,m << 1$\n",
    "then:\n",
    "\n",
    "$w(\\sqrt{1-l^2-m^2}-1) \\sim -\\frac{1}{2}(l^2+m^2)w$\n",
    "\n",
    "<span style=\"background-color:red\">TLG:AC: This is too vague. The proof of the above is important. How the above conditions lead to the above eq + how does it help us to get the result below?</span>\n",
    "\n",
    "[Eq. 4.4.2 &#10549;](#vis:eq:442)现在变为：\n",
    "\n",
    "[Eq. 4.4.2 &#10549;](#vis:eq:442) now becomes:\n",
    "\n",
    "<a id=\"vis:eq:443\"></a> <!---\\label{vis:eq:443}--->\n",
    "$$ \\mathcal{V}(u,v,w \\sim 0) = \\int_{-\\infty}^{\\infty} \\int_{-\\infty}^{\\infty} \\frac{A(l,m) I_\\nu (l,m)}{\\sqrt{1 - l^2 - m^2}}  e^{ -\\imath 2\\pi (ul+vm)}dl dm$$"
   ]
  },
  {
   "cell_type": "markdown",
   "metadata": {},
   "source": [
    "**Equation 4.4.3** "
   ]
  },
  {
   "cell_type": "markdown",
   "metadata": {},
   "source": [
    "#### 4.4.1.3 与傅立叶变换之间的关系 Link with the Fourier Transform"
   ]
  },
  {
   "cell_type": "markdown",
   "metadata": {},
   "source": [
    "公式[Eq. 4.4.3 &#10549;](#vis:eq:443)里已经没有了$w$项，现在它呈现出$(u,v)$和$(l,m)$之间的 2-D 傅里叶变换的形式，其逆变换为：\n",
    "\n",
    "The [Eq. 4.4.3 &#10549;](#vis:eq:443) is no longer a function of $w$, and it now takes the shape of a 2-D Fourier transform (see [$\\S$ 2.4 &#10142;](../2_Mathematical_Groundwork/2_4_the_fourier_transform.ipynb)) with $(u,v)$ being the Fourier pairs of $(l,m)$.\n",
    "\n",
    "The inverse transform can be written as:\n",
    "\n",
    "$$ \\frac{A(l,m) I_\\nu(l,m)}{\\sqrt{1 - l^2 - m^2}} = \\int_{-\\infty}^{\\infty} \\int_{-\\infty}^{\\infty} \\mathcal{V}(u,v) e^{ +\\imath 2\\pi (ul+vm)}du dv$$\n",
    "\n",
    "$$ \\mathcal{V}(u,v) \\sim \\mathscr{F} \\{I_\\nu \\}(u,v) $$\n",
    "\n",
    "在[$\\S$ 4.6 &#10142;]我们将看到这种形式的好处。\n",
    "\n",
    "We will come back to the consequences of this form in [$\\S$ 4.6 &#10142;](../4_Visibility_Space/4_6_the_fourier_approximation_van_cittert-zernike_Theorem.ipynb)"
   ]
  },
  {
   "cell_type": "markdown",
   "metadata": {},
   "source": [
    "<a id=\"vis:sec:442\"></a> <!---\\label{vis:sec:442}--->\n",
    "### 4.4.2 理解可见度函数 Understanding the visibility function"
   ]
  },
  {
   "cell_type": "markdown",
   "metadata": {},
   "source": [
    "####  4.4.2.1 可见度函数的表示 Representations of the visibility function"
   ]
  },
  {
   "cell_type": "markdown",
   "metadata": {},
   "source": [
    "$I_\\nu$ 和 $\\mathcal{V}$ 之间存在傅里叶关系，这是关键所在，因为干涉仪采样得到的正是其中的后者，即$\\mathcal{V}$。我们记得，干涉仪对天空本身不敏感，而是对天空的傅立叶变换敏感。要想从$\\mathcal{V}$复原得到天空信息，必须要理解可见度函数，我们将把它视为一种连续的复函数。\n",
    "\n",
    "The Fourier relationship existing between $I_\\nu$ and $\\mathcal{V}$ is key, as it is the latter that is sampled by the interferometer. We remember that the interferometer is not sensitive to the sky but to the Fourier Transform of the sky.\n",
    "To recover some knowledge of the sky through $\\mathcal{V}$, one needs to understand the general shape of the visibility function.\n",
    "We will treat it as a continuous complex function.\n",
    "\n",
    "$\\mathcal{V}$是傅里叶空间的一个二维函数。在某时$t$某频率$\\nu$，一条基线和一个方向$\\mathbf{s_0}$唯一确定了傅里叶空间的一个点($u$,$v$)，该点对应了复可见度函数的一个采样。\n",
    "\n",
    "$\\mathcal{V}$ is a 2D function in Fourier space. At a time $t$ and frequency $\\nu$, one baseline and one direction $\\mathbf{s_0}$ will provide a unique ($u$,$v$) point in the fourier space, which corresponds to one sample of the complex visibility function.\n",
    "\n",
    "在干涉测量的早期，可用的采样很少，要在一个2D平面上采样是不切合实际的。我们通常研究可见度采样的幅度与“uv距离”（$r_{uv}$）之间的函数关系，$r_{uv}$定义为：\n",
    "\n",
    "In the earlier days of interferometry, only few samples where available and the inspection of the samples in a 2D plane was unpractical. We usually inspect the amplitude of the visibility samples as a function of the *uv distance* $r_{uv}$ defined:\n",
    "\n",
    "$$ r_{uv} = \\sqrt{u^2+v^2}$$\n",
    "\n",
    "接下来，我们不研究可见度函数与亮度分布之间的傅立叶关系，而是以一个简单例子，做一个简单的数值积分计算。傅立叶变换将在[$\\S$ 5.1 &#10142;](../5_Imaging/5_1_spatial_frequencies.ipynb)的成像部分做进一步探讨。\n",
    "\n",
    "Instead of exploiting the Fourier Transform properties linking the visibility function to the brightness distribution, we will simply compute this integral numerically on a simple case. The Fourier Transform will be more extensively used in [$\\S$ 5.1 &#10142;](../5_Imaging/5_1_spatial_frequencies.ipynb) for imaging."
   ]
  },
  {
   "cell_type": "markdown",
   "metadata": {},
   "source": [
    "#### 4.4.2.2 积分与空间滤波   Interpretation of the integral as spatial filtering"
   ]
  },
  {
   "cell_type": "markdown",
   "metadata": {},
   "source": [
    "可见度可以表示为亮度分布与复指数之积的积分，该复指数被称为“傅里叶核”。\n",
    "\n",
    "The visibility is expressed as the integral of the product of the intensity distribution with a complex exponential which is called the *Fourier kernel*.\n",
    "\n",
    "亮度分布是一个方向的函数，我们用一个矢量来定义它，则上面的可见度可以表示为亮度分布矢量$\\mathbf{I_\\nu}$和傅立叶核函数$\\mathbf{f}_{u,v}^{l,m}$的标量积，其中$\\mathbf{f}_{u,v}^{l,m}= e^{-2j\\pi (ul+vm)}$：\n",
    "\n",
    "Using a vector definition of the intensity distribution as a function of direction, this integral can be interpreted as the scalar product between the intensity distribution vector $\\mathbf{I_\\nu}$, and the Fourier basis kernel function $\\mathbf{f}_{u,v}^{l,m}$:\n",
    "\n",
    "$$ \\mathcal{V}= \\langle \\mathbf{I_\\nu} \\cdot \\mathbf{f}_{u,v}^{l,m}\\rangle$$ with $\\mathbf{f}_{u,v}^{l,m}= e^{-2j\\pi (ul+vm)}$\n",
    "\n",
    "这可以看成是$\\mathbf{I_\\nu}$在基向量$\\mathbf{f}_{u,v}^{l,m}$上的投影。因此，在($u$,$v$)坐标系里，基线的复可见度就是投影在空间频率($u$,$v$)的傅立叶基向量上的亮度分布系数。该运算过滤了空间频率($u$,$v$)处的含在亮度分布里的幅值。\n",
    "\n",
    "This can be seen as the projection of $\\mathbf{I_\\nu}$ on the basis vector $\\mathbf{f}_{u,v}^{l,m}$. The complex visibility of the baseline with ($u$,$v$) coordinates, is therefore the coefficient of the intensity distribution projected on the  Fourier basis vector of frequency ($u$,$v$). This operation therefore filters the magnitude of spatial frequency ($u$,$v$) contained in the intensity distribution.\n",
    "\n",
    "傅里叶向量可以看成是投影在空中的条纹模式（[Fig. 4.4.1 &#10549;](#vis:fig:441)），从中可以看到天空的信息。\n",
    "\n",
    "The Fourier vector can be seen as a fringe pattern projected on the sky ([Fig. 4.4.1 &#10549;](#vis:fig:441)), through which the content of the sky is seen."
   ]
  },
  {
   "cell_type": "markdown",
   "metadata": {},
   "source": [
    "<a id=\"vis:fig:441\"></a> <!---\\label{vis:fig:441}--->\n",
    "<img src='figures/uvfreq.svg' width=30%>"
   ]
  },
  {
   "cell_type": "markdown",
   "metadata": {},
   "source": [
    "**Figure 4.4.1**: 位于($u$,$v$)处的单个空间频率及其对应的天空条纹模式。 a single spatial frequency located at ($u$,$v$) and its associated fringe pattern on the sky."
   ]
  },
  {
   "cell_type": "markdown",
   "metadata": {},
   "source": [
    "对于一个正在观测天空（近似为平面的）的二元干涉仪，我们可以在($u$, $v$, $w$)参考系里建立“物理”基线$\\mathbf{b}$跟“投影”基线$\\mathbf{b_\\text{proj}}$的联系，在($l$, $m$, $n$)参考系里建立相位中心$\\mathbf{s_0}$跟观测方向$\\mathbf{\\sigma}$的联系，如图（ ([Fig. 4.4.2 &#10549;](#fvis:fig:442))。\n",
    "\n",
    "For a 2-element interferometer, observing a sky which can be approximated as a plane, we can link the *physical* baseline $\\mathbf{b}$, the *projected* baseline $\\mathbf{b_\\text{proj}}$ in the ($u$, $v$, $w$) frame, the *phase center* $\\mathbf{s_0}$ and a direction of observation $\\mathbf{\\sigma}$ in the ($l$, $m$, $n$) frame with one another ([Fig. 4.4.2 &#10549;](#fvis:fig:442))."
   ]
  },
  {
   "cell_type": "markdown",
   "metadata": {},
   "source": [
    "<a id=\"vis:fig:442\"></a> <!---\\label{vis:fig:442}--->\n",
    "<img src='figures/spatialfiltering.png' width=70%>"
   ]
  },
  {
   "cell_type": "markdown",
   "metadata": {},
   "source": [
    "**Figure 4.4.2**: 投影基线、($u$,$v$,$w$)空间、($l$,$m$,$n$)空间之间的关系。Relationship between the projected baseline, the ($u$,$v$,$w$) space and the ($l$,$m$,$n$) space."
   ]
  },
  {
   "cell_type": "markdown",
   "metadata": {},
   "source": [
    "根据公式[Eq. 4.4.3 &#10549;](#vis:eq:443)，对于一条坐标为（$u$,$v$,$w$)的投影基线，其可见度函数$\\mathcal{V}(u,v,w)$的值是在$\\boldsymbol{\\sigma}(l,m)$方向，视场($dldm$)内的强度之和。如果该视场范围内的天空中存在多个复杂结构的源，可见度函数将是一个($u$,$v$,$w$)的函数，变得比较难以理解。\n",
    "\n",
    "From [Eq. 4.4.3 &#10549;](#vis:eq:443), for a single projected baseline with coordinates ($u$,$v$,$w$), the value of the visibility function $\\mathcal{V}(u,v,w)$ is the sum of all contributions from the observed field of view ($dldm$) coming from the direction $\\boldsymbol{\\sigma}(l,m)$. If the sky is filled with sources with complex structures, the visibility function being a function of ($u$,$v$,$w$), can be hard for a human to interpret."
   ]
  },
  {
   "cell_type": "markdown",
   "metadata": {},
   "source": [
    "##### 4.4.2.3  可见度的应用：探测源的形状  Using the visibility: shape of the source"
   ]
  },
  {
   "cell_type": "markdown",
   "metadata": {},
   "source": [
    "来看一个二元干涉仪，投影基线($u$,$v=0$,$w=0$)，得到沿 $l$ 轴的一系列条纹。这可能是一条东-西走向的基线（见[$\\S$  4.5.1 &#10142;](4_5_1_uv_coverage_uv_tracks.ipynb))。\n",
    "\n",
    "Consider a 2-element interferometer projecting a baseline ($u$,$v=0$,$w=0$) associated with a set of fringes along the $m$ axis (for simplification). This is possible with an East-West baseline (see [$\\S$  4.5.1 &#10142;](4_5_1_uv_coverage_uv_tracks.ipynb)). \n",
    "\n",
    "我们假定天空中只有一个扩展源，用一个单位亮度的圆来表示。为简单起见，在该源经过当地子午线，位于相位中心的时刻，干涉仪将对其进行观测。\n",
    "\n",
    "We assume that the sky is only composed of a single extended source represented by a disk of unit brightness. For simplicity, this interferometer will observe this source at the phase center when the source is at transit.\n",
    "\n",
    "假定该源是干涉仪能看到的唯一源，因此天线模式效应可以忽略，且$w=0$。\n",
    "\n",
    "We assume that this is the only source the interferometer sees in the sky, that the effect of the antenna pattern is negligible and that $w=0$.\n",
    "\n",
    "因此积分公式[Eq. 4.4.3 &#10549;](#vis:eq:443)简化为只计算源上的条纹模式：\n",
    "\n",
    "The integral of [Eq. 4.4.3 &#10549;](#vis:eq:443) therefore reduces to computing the integral of the fringe pattern over the source:\n",
    "$$ \\mathcal{V} = \\int_{\\text{disk}} e^{-2j\\pi ul}dl$$\n"
   ]
  },
  {
   "cell_type": "code",
   "execution_count": 3,
   "metadata": {
    "collapsed": true
   },
   "outputs": [],
   "source": [
    "# 1 East-West baseline observing a disk at the phase center\n",
    "from matplotlib.patches import Circle\n",
    "def plotfringe(u=4,rad=0.2):\n",
    "    global radius\n",
    "    radius=rad\n",
    "    # preparing (l,m,n) space\n",
    "    Npointsl=1001\n",
    "    ll=np.linspace(-1.,1.,Npointsl)\n",
    "    l,m=np.meshgrid(ll,ll)\n",
    "\n",
    "    # Definition of the disk\n",
    "    #radius=0.1234 # angular radius of the object in l,m coordinates\n",
    "\n",
    "    # projected baseline length on the u axis\n",
    "    #u=4\n",
    "\n",
    "    # generate fringe pattern\n",
    "    tabcos=np.real(np.exp(-2j*np.pi*u*l))\n",
    "\n",
    "    # plotting the fringe pattern and the source\n",
    "    pxrad=radius*Npointsl/2\n",
    "    circle=Circle((500,500),pxrad,color='r',alpha=0.5,fill=True)\n",
    "    fig,ax =plt.subplots(figsize=(6,6))\n",
    "    im=plt.imshow(np.abs(tabcos),interpolation=None,cmap=\"winter\")\n",
    "    ax.add_patch(circle)\n",
    "    #center=l[(Npoints-1)/2,(Npoints-1)/2]\n",
    "\n",
    "    # Compute the absolute value of the integral of the fringe over the source\n",
    "    w=np.where(np.sqrt(l**2+m**2) <= radius)\n",
    "    integral=np.sum(tabcos[w])\n",
    "    print(\"Integral=\"+str(integral))\n",
    "\n"
   ]
  },
  {
   "cell_type": "code",
   "execution_count": 4,
   "metadata": {},
   "outputs": [
    {
     "name": "stdout",
     "output_type": "stream",
     "text": [
      "Integral=12341.470568575238\n"
     ]
    },
    {
     "data": {
      "image/png": "[encoded data removed]",
      "text/plain": [
       "<matplotlib.figure.Figure at 0x7f9cd062cef0>"
      ]
     },
     "metadata": {},
     "output_type": "display_data"
    }
   ],
   "source": [
    "plotfringe(u=2,rad=0.2)"
   ]
  },
  {
   "cell_type": "markdown",
   "metadata": {},
   "source": [
    "<a id=\"vis:fig:443\"></a> <!---\\label{vis:fig:443}--->\n",
    "**Figure 4.4.3**: 透过条纹模式看天上的扩展源（红色），条纹模式所对应的投影基线坐标为($u$,0,0)。Sky composed of an extended source (red disk) as seen through a fringe pattern witch depends on the projected baseline with coordinate ($u$,0,0)."
   ]
  },
  {
   "cell_type": "markdown",
   "metadata": {},
   "source": [
    "在图[Fig. 4.4.3 &#10549;](#vis:fig:443)上，叠加在条纹上的红色圆面代表源。我们看到亮纹不均匀地穿过源，因此，积分结果为正。接下来，让我们增大$u$的值，从而增加投影基线长度。\n",
    "\n",
    "In [Fig. 4.4.3 &#10549;](#vis:fig:443), the source is represented by the red disk over which we superimposed the fringe pattern. We see that an uneven fraction of the bright fringes cross the source. In this case, the resulting integral is positive. Let's try to increase the projected baseline size by increasing the value of $u$."
   ]
  },
  {
   "cell_type": "code",
   "execution_count": 5,
   "metadata": {},
   "outputs": [
    {
     "name": "stdout",
     "output_type": "stream",
     "text": [
      "Integral=-2140.9617023213596\n"
     ]
    },
    {
     "data": {
      "image/png": "[encoded data removed]",
      "text/plain": [
       "<matplotlib.figure.Figure at 0x7f9cf04b05f8>"
      ]
     },
     "metadata": {},
     "output_type": "display_data"
    }
   ],
   "source": [
    "plotfringe(u=5,rad=0.2)"
   ]
  },
  {
   "cell_type": "markdown",
   "metadata": {},
   "source": [
    "<a id=\"vis:fig:444\"></a> <!---\\label{vis:fig:444}--->\n",
    "**Figure 4.4.4**: 投影基线变长，透过条纹看源。Same as in [Fig. 4.4.3 &#10549;](#vis:fig:443) seen through a different fringe pattern with a longer projected baseline."
   ]
  },
  {
   "cell_type": "markdown",
   "metadata": {},
   "source": [
    "图[Fig. 4.4.4 &#10549;](#fig:444)，积分的绝对值比之前减小了10倍，意味着积分范围内的明暗条纹数比较平衡，但是积分结果仍然为负，说明暗条纹稍占上风。\n",
    "\n",
    "In [Fig. 4.4.4 &#10549;](#fig:444), the absolute value of the integral is $\\sim$10 times lower than before, suggesting a more balanced contribution of dark and bright fringes to the integral (which is still slightly dominated by the dark fringes).\n",
    "\n",
    "由此可以推断，随着条纹宽度变窄，积分结果最终将会趋向零，意味着穿过源的明暗条纹数相等的概率在增加。\n",
    "\n",
    "We can understand that, as the width of the fringes decreases, the integral will ultimately statistically converge towards 0. Indeed, the probability of evenly covering the source with the same fraction of bright and dark fringes increases.\n",
    "\n",
    "让我们重点看一下随着$u$的增加，积分结果绝对值的变化。\n",
    "\n",
    "Let's focus on the variation of the absolute value of the integral, as a function of increasing $u$."
   ]
  },
  {
   "cell_type": "code",
   "execution_count": 6,
   "metadata": {
    "collapsed": true
   },
   "outputs": [],
   "source": [
    "def plotintegral(UMAX=15):\n",
    "    %matplotlib inline\n",
    "    global u\n",
    "    from matplotlib.patches import Circle\n",
    "\n",
    "    #UMAX=5. # adjust it to larger values if no zeroes is encountered in next plot\n",
    "\n",
    "    Npointsl=1001\n",
    "    Npointsu=500\n",
    "    ll=np.linspace(-1.,1.,Npointsl)\n",
    "    l,m=np.meshgrid(ll,ll)\n",
    "    u=np.arange(Npointsu)*UMAX*1./Npointsu\n",
    "    w=np.where(np.sqrt(l**2+m**2) <= radius)\n",
    "    \n",
    "    integral=np.array([])\n",
    "    for du in u:\n",
    "        tabcos=np.real(np.exp(2j*np.pi*du*l))\n",
    "        integral=np.append(integral,np.abs(np.sum(tabcos[w])))\n",
    "\n",
    "    normintegral=integral/np.max(integral)\n",
    "    plt.xlabel('Spatial frequency u')\n",
    "    plt.ylabel('Normalized integral over source')\n",
    "    plt.plot(u,normintegral,\".-\")\n",
    "    return normintegral\n"
   ]
  },
  {
   "cell_type": "code",
   "execution_count": 7,
   "metadata": {},
   "outputs": [
    {
     "data": {
      "image/png": "[encoded data removed]",
      "text/plain": [
       "<matplotlib.figure.Figure at 0x7f9cc05cc5f8>"
      ]
     },
     "metadata": {},
     "output_type": "display_data"
    }
   ],
   "source": [
    "integral=plotintegral(UMAX=25.)"
   ]
  },
  {
   "cell_type": "markdown",
   "metadata": {},
   "source": [
    "<a id=\"vis:fig:445\"></a> <!---\\label{vis:fig:445}--->\n",
    "**Figure 4.4.5**: 源的积分结果随空间频率$u$的变化。  This plot represents the value of the integral over the source for varying values of the spatial frequency $u$."
   ]
  },
  {
   "cell_type": "markdown",
   "metadata": {},
   "source": [
    "图[Fig. 4.4.5 &#10549;](#vis:fig:445)，$u$从0增加到25，我们能注意到，在一些特定位置（标记为$u_\\text{min}^{(n)}$），积分结果接近零，这表示源在暗条纹上的积分等于在亮条纹上的积分：\n",
    "\n",
    "In [Fig. 4.4.5 &#10549;](#vis:fig:445), from $u=0$ to $u=25$, we can notice that the integral is close to zero at specific values of $u$ (denoted $u_\\text{min}^{(n)}$). This corresponds to the fringe spacing where the integral of the source over the dark fringes is equal to the integral over the bright fringes:\n",
    "\n",
    "$$ \\int_{\\text{bright }\\cap\\text{ source}} e^{-2j\\pi ul}dl \\approx \\int_{\\text{dark }\\cap\\text{ source}} e^{-2j\\pi ul}dl$$\n",
    "\n",
    "积分结果（也就是可见度函数）为空，对应着穿过源的条纹的对比度为零。此时，我们说源是“可分辨resolved”的。积分结果第一次达到最小时的u值，即$u_\\text{min}^{(1)}$，跟我们所观测的源的几何形状密切相关。\n",
    "\n",
    "A null in the integral (i.e. of the visibility function) corresponds to the case where the contrast of the fringe (over the source) is zero. In this particular case, we say that the source is *resolved*.\n",
    "The first value $u_\\text{min}^{(1)}$, where the integral is minimum, is highly correlated with the geometry of the source we are observing.\n",
    "\n",
    "现在让我们来确定$u_\\text{min}^{(1)}$的近似值。\n",
    "\n",
    "Let's determine an approximate value for $u_\\text{min}^{(1)}$."
   ]
  },
  {
   "cell_type": "code",
   "execution_count": 8,
   "metadata": {
    "collapsed": true
   },
   "outputs": [],
   "source": [
    "def findumin(normintegral,ulim=5):############\n",
    "    # Adjust ulim to search for the first minimum of the integral\n",
    "    # \n",
    "    #ulim=5 # should be an value larger than the first minimum\n",
    "    wloc=np.where(u <= ulim)\n",
    "    ############\n",
    "\n",
    "    locmin=np.where(normintegral[0:wloc[0][-1]] == np.min(normintegral[0:wloc[0][-1]]))\n",
    "    print(\"Index first minimum = \"+str(locmin[0][0]))\n",
    "    print(\"Normalized integral value at first min = \"+str(normintegral[locmin][0]))\n",
    "    print(\"Spatial frequency at first min = \"+str(u[locmin][0]))\n",
    "\n",
    "    umin=u[locmin][0]\n",
    "\n",
    "    deltal=1.22/(2*umin) # Bessel function :  J1(3.83)=0=J1(2*pi*f*r)\n",
    "    print\n",
    "    print(\"Spatial scale at first min = \"+str(deltal))\n",
    "    print(\"True object radius = \"+str(radius))"
   ]
  },
  {
   "cell_type": "code",
   "execution_count": 9,
   "metadata": {},
   "outputs": [
    {
     "name": "stdout",
     "output_type": "stream",
     "text": [
      "Index first minimum = 61\n",
      "Normalized integral value at first min = 0.0005542885165989534\n",
      "Spatial frequency at first min = 3.05\n",
      "Spatial scale at first min = 0.2\n",
      "True object radius = 0.2\n"
     ]
    }
   ],
   "source": [
    "findumin(integral,ulim=5)"
   ]
  },
  {
   "cell_type": "markdown",
   "metadata": {},
   "source": [
    "在以上计算结果中，$u_\\text{min}^{1}$=3.05。由于观测目标为圆形，其可见度函数可以用1阶贝塞尔函数$\\mathcal{J}_1$来描述。我们知道$\\mathcal{J}_1(2\\pi u_\\text{min}^{1} l)=\\mathcal{J}_1(3.8317) \\approx 0$，由以下过程可以推导出第一个空值所对应的 $l$的值：\n",
    "\n",
    "We identified the value of $u_\\text{min}^{1}$ to be 3.05.\n",
    "As the object is a disk, its visibility function will be described by the first order Bessel function $\\mathcal{J}_1$.\n",
    "We know that $\\mathcal{J}_1(2\\pi u_\\text{min}^{1} l)=\\mathcal{J}_1(3.8317) \\approx 0$.\n",
    "We encounter a first null when:\n",
    "\n",
    "\\begin{eqnarray}\n",
    "2 \\pi u l &\\approx& 3.8317 \\\\\n",
    "l&\\approx&\\frac{1.22}{2 u_\\text{min}^{1}} \\\\\n",
    "l&\\approx&0.2\n",
    "\\end{eqnarray}\n",
    "\n",
    "推导出的$l$=0.2，而本例中源的“真实”半径也正好是 0.2，结果非常完美！\n",
    "\n",
    "Indeed, in this example, the *true* object radius in unit of $l$ was 0.2. Our answer is thus a pretty good estimate!"
   ]
  },
  {
   "cell_type": "markdown",
   "metadata": {},
   "source": [
    "在上面这个简单的例子里，我们测到了目标的半径。如果有一个性能良好的系统，基线相对波长较长，在不成像的情况下，我们也能测得遥远星星的半径。\n",
    "\n",
    "In this simple example, we were able to measure the radius of an object. If you were observing a remote star with a sufficiently good system and a relatively long baseline at a short wavelength, it would be possible to measure the radius of that star, without any imaging processing.\n",
    "\n",
    "这个例子向我们展示了，干涉仪是怎么通过信号合成技术，利用低角分辨率仪器分辨出遥远的目标。\n",
    "\n",
    "This example illustrates how interferometrists were (and still are!) able to resolve far-away objects with high angular resolution by combining the signals from low-angular resolution instruments.\n",
    "\n",
    "详细参考见[<cite data-cite='1966raas.book.....K'>Kraus, $\\S$6-27</cite> &#10548;](http://adsabs.harvard.edu/abs/1966raas.book.....K)和[<cite data-cite='1999ASPC..180.....T'>Taylor, $\\S$ 16, p.338</cite> &#10548;](http://adsabs.harvard.edu/abs/1999ASPC..180.....T)。\n",
    "\n",
    "See the following references for more details: [<cite data-cite='1966raas.book.....K'>Kraus, $\\S$6-27</cite> &#10548;](http://adsabs.harvard.edu/abs/1966raas.book.....K)\n",
    "and\n",
    "[<cite data-cite='1999ASPC..180.....T'>Taylor, $\\S$ 16, p.338</cite> &#10548;](http://adsabs.harvard.edu/abs/1999ASPC..180.....T).\n",
    "\n",
    "现在让我们利用可见度来对源进行定位。\n",
    "\n",
    "Let's now use the visibility to determine the location of a source."
   ]
  },
  {
   "cell_type": "markdown",
   "metadata": {},
   "source": [
    "##### 4.4.2.4 可见度的应用：定位 Using the visibility: location of the source <a id=\"vis:sec:4424\"></a> <!--\\label{vis:sec:4424}--></a>"
   ]
  },
  {
   "cell_type": "markdown",
   "metadata": {},
   "source": [
    "##### 4.4.2.4.1 未知赤经/赤纬的中天源  Transiting source of unknown RA/DEC"
   ]
  },
  {
   "cell_type": "markdown",
   "metadata": {},
   "source": [
    "为消除带宽效应对条纹的影响（回忆前面的内容，带宽效应以辛格函数的形式影响条纹模式），干涉仪对延迟$\\tau$进行了补偿，通过插入一个额外延迟$\\tau_c$，使条纹模式的相位中心移动，并与相位中心对齐。如果我们不做相位跟踪，而是让相位中心始终指向天顶，会怎样呢？答案是，我们得到了一个子午干涉仪。\n",
    "\n",
    "In order to reduce the bandwidth's impact on the fringe (recall that it causes the fringe pattern to be modulated by a sinc), the interferometer compensates for the delay $\\tau$ by inserting a supplementary delay $\\tau_c$ resulting in the shifting of the fringe pattern's phase center so that it coincides with the phase center. What happens if we remove do not implement any kind of fringe tracking and point the phase center towards the zenith? Well, we get a meridian transit interferometer.\n",
    "\n",
    "本例中，假定空中有一个未知赤经赤纬的单个点源，我们将用干涉仪来对它做精确定位。同时，我们也假定天线的视场足够大，以至于在整个观测过程中，视场变化平缓。把天线指向本地子午线（$H=0^\\text{h}$），子午干涉仪将在天空上投影出一个条纹模式。当源穿过干涉仪的视场时，条纹将随波束发生改变。\n",
    "\n",
    "For this example, we assume a single point source of unknown RA/DEC coordinates. We want to use the raw measurement of the interferometer to accurately determine its coordinates. We also assume that the field of view of the antenna elements is sufficiently large to vary smoothly accross the observation. We point the antennas toward the local meridian ($H=0^\\text{h}$). The transit interferometer will project a fringe pattern on the sky. This fringe will be modulated by the *beam* as the source crosses the array's field of view.\n",
    "\n",
    "天球上的源穿过干涉仪投影在天上的条纹模式时，将引起干涉仪的响应发生变化，该变化是一个地方恒星时LST([Fig. 4.4.6 &#10549;](#vis:fig:446)绿色)的函数。\n",
    "\n",
    "A source on the celestial sphere will cross the projected fringe pattern and will create a variation in the interferometer response as a function of the LST ([Fig. 4.4.6 &#10549;](#vis:fig:446) in green) as the source passes through bright and dark fringes."
   ]
  },
  {
   "cell_type": "markdown",
   "metadata": {},
   "source": [
    "<a id=\"vis:fig:446\"></a> <!---\\label{vis:fig:446}--->\n",
    "<img src='figures/fringes.svg' width=50%>"
   ]
  },
  {
   "cell_type": "markdown",
   "metadata": {},
   "source": [
    "**Figure 4.4.6**: 条纹率和中天时间的推导。 Derivation of the fringe rate and the transit time."
   ]
  },
  {
   "cell_type": "markdown",
   "metadata": {},
   "source": [
    "##### 4.4.2.4.2 赤经 $\\alpha$估算  Estimating of the Right Ascension ($\\alpha$)\n",
    "\n",
    "如果能精确测到源过本地子午线的时间，则可以确定出该源的赤经。因为天线始终指向本地子午线，当源穿过本地子午线时，天线响应达到最大值，根据([$\\S$ 3.2 &#10142;](../3_Positional_Astronomy/3_2_Hour_Angle.ipynb))，此时的地方恒星时等于源的赤经。本例中，源的赤经是$\\sim$$13^\\text{h}07^\\text{m}$。\n",
    "\n",
    "The Right Ascension can be determined if the transit time can be measured with high accuracy. The transit time can be derived from the maximum of the fringe enveloppe, which corresponds to the maximum elevation of the source multiplied by to the maximum antenna response of antennas pointing at the local meridian. <span style=\"background-color:red\">TLG:RC: Please rewrite last sentence.</span><span style=\"background-color:red\">EB:RC: I think that's what he meant? Not actually sure..</span>\n",
    "The transit time correspond to the moment when the LST is equal to the RA (according to [$\\S$ 3.2 &#10142;](../3_Positional_Astronomy/3_2_Hour_Angle.ipynb)). In our example, the RA is $\\sim$$13^\\text{h}07^\\text{m}$."
   ]
  },
  {
   "cell_type": "markdown",
   "metadata": {},
   "source": [
    "##### 4.4.2.4.3 赤纬$\\delta$估算 Estimating of the Declination ($\\delta$)\n",
    "\n",
    "根据条纹间距和条纹率，可以估算出赤纬。\n",
    "\n",
    "To estimate the declination, we need to measure the fringe spacing and the fringe rate of the source using the rotation of the Earth.\n",
    "\n",
    "- 我们定义了条纹间距$\\Delta l_f$，即投影到空中的条纹模式里的一个条纹周期的角距离。该间距可以由$\\Delta l_f \\sim \\frac{\\lambda}{|\\mathbf{b}|}$估算出，本例中，$\\Delta l_f \\sim \\frac{1}{2864}，\\text{ rad}=0.02\\text{ rad}\\approx1.14^\\circ$。\n",
    "\n",
    "- 我们定义了条纹率$\\frac{d\\phi}{d\\theta}$，表征当源穿过条纹模式时所引起的条纹振荡的速度。接下来我们将推导出源穿过一个条纹周期所需要的时间。\n",
    "\n",
    "\n",
    "- We define the *fringe spacing* $\\Delta l_f$, the angular distance on the sky corresponding to one spatial period of the fringe pattern projected on the sky. This spacing is given by $\\Delta l_f \\sim \\frac{\\lambda}{|\\mathbf{b}|}$. In our example, we had a $\\frac{\\lambda}{|\\mathbf{b}|}$ of $\\Delta l_f \\sim \\frac{1}{2864}\\text{ rad}=0.02\\text{ rad}\\approx1.14^\\circ$.\n",
    "\n",
    "- We define the *fringe rate* $\\frac{d\\phi}{d\\theta}$ as the speed at which the fringe oscillates as the source crosses the fringe pattern. We will now deduce the time required by the source to cross one spatial period of the fringe pattern.\n",
    "\n",
    "<span style=\"background-color:cyan\">TLG:GM: Check if the italic words are in the glossary. </span>\n",
    "\n",
    "在图[Fig. 4.4.6 &#10549;](#vis:fig:446)里，我们估计条纹间距为$\\sim$12 min（在1h的观测时间内，源穿过了5个条纹周期）。\n",
    "\n",
    "In [Fig. 4.4.6 &#10549;](#vis:fig:446), we estimate the fringe spacing to be $\\sim$12 min ($\\sim$ 5 periods are crossed in an 1h observation).\n",
    "\n",
    "\n",
    "对位于天赤道($\\delta =0^\\circ$)的源来说，每时（hour）运动15$^\\circ$，这将与一定数目的条纹对应。因此，数出每时源穿过的条纹数，就能推算出源的坐标信息。\n",
    "\n",
    "For a source located on the celestial equator ($\\delta =0^\\circ$), it will travel 15$^\\circ$ per hour. This will correspond to a certain number of fringe spacings - counting them will thus give us information on the source's coordinates.\n",
    "\n",
    "\n",
    "既然我们已经知道了条纹间距，就能推算出赤道位置的条纹率$\\frac{d\\phi}{d\\theta}\\Bigr|_\\text{eq}=\\frac{\\Delta l_f}{15^\\circ \\text{per h}} \\approx 0.77 h \\approx 4^\\text{m}33^\\text{s}$。\n",
    "\n",
    "Since we know the fringe spacing, we can derive the fringe rate at the equator with $\\frac{d\\phi}{d\\theta}\\Bigr|_\\text{eq}=\\frac{\\Delta l_f}{15^\\circ \\text{per h}} \\approx 0.77 h \\approx 4^\\text{m}33^\\text{s}$.\n",
    "\n",
    "\n",
    "相反，靠近北天极($\\delta \\sim 90^\\circ$)的源，条纹间距和条纹率会很小。\n",
    "\n",
    "Conversely, a source close to the NCP ($\\delta \\sim 90^\\circ$) will have a very small fringe spacing and fringe rate.\n",
    "\n",
    "\n",
    "拿图[4.4.6 &#10549;](#fig:436)中的条纹率跟赤道的条纹率做比较，我们就可以估算出源的赤纬。\n",
    "\n",
    "To estimate the declination of the source, we need to compare the fringe rate at the equator to the fringe rate of the fringe pattern in Fig. [4.4.6 &#10549;](#fig:436).\n",
    "\n",
    "$\\cos \\delta= \\frac{d\\phi}{d\\theta}\\Bigr|_\\text{eq} /  \\frac{d\\phi}{d\\theta}\\Bigr|_\\text{mes}=\\frac{4^\\text{m}33^\\text{s}}{12^\\text{m}}=0.3825 \\leftrightarrow \\delta \\approx 67.7^\\circ$.\n",
    "\n"
   ]
  },
  {
   "cell_type": "markdown",
   "metadata": {},
   "source": [
    "#### 4.4.2.5 条纹率映射 Fringe rate mapping"
   ]
  },
  {
   "cell_type": "markdown",
   "metadata": {},
   "source": [
    "“条纹率映射”技术（见[<cite data-cite='1996ASPC..101..175K'>Kogan, 1996</cite> &#10548;](http://adsabs.harvard.edu/full/1996ASPC..101..175K) and [<cite data-cite='1996ASPC..101..175K'>Walker, 1981</cite> &#10548;](http://adsabs.harvard.edu/full/1981AJ.....86.1323W)）用到了条纹率偏移中心相位的信息。\n",
    "\n",
    "A technique known as *fringe rate mapping* (see [<cite data-cite='1996ASPC..101..175K'>Kogan, 1996</cite> &#10548;](http://adsabs.harvard.edu/full/1996ASPC..101..175K) and [<cite data-cite='1996ASPC..101..175K'>Walker, 1981</cite> &#10548;](http://adsabs.harvard.edu/full/1981AJ.....86.1323W)) exploits the information of the fringe rate offset compared to that at the phase center.\n",
    "<span style=\"background-color:cyan\">TLG:GM: Check if the italic words are in the glossary. </span>\n",
    "\n",
    "在一个二维参考系里，条纹率偏移定义为：\n",
    "\n",
    "In a two-dimensional reference frame, the fringe rate offset can be defined as:\n",
    "\n",
    "<a id=\"vis:eq:444\"></a> <!---\\label{vis:eq:444}--->\n",
    "$$ \\omega_{\\text{frm}}= 2\\pi (\\frac{du}{dt}l+\\frac{dv}{dt}m)$$\n",
    "\n",
    "其中，($u$,$v$)是投影基线的坐标，($l$,$m$)是相位中心的方向余弦坐标。\n",
    "\n",
    "where ($u$,$v$) are the coordinates of the projected baseline and ($l$,$m$) the direction cosine coordinates from the phase center.\n"
   ]
  },
  {
   "cell_type": "markdown",
   "metadata": {},
   "source": [
    "设$m=f(l)$，公式[Eq. 4.4.4 &#10549;](#vis:eq:444)变成线性函数：$y=ax+b$。\n",
    "\n",
    "By setting $m=f(l)$, [Eq. 4.4.4 &#10549;](#vis:eq:444) becomes a linear function: $y=ax+b$\n",
    "\n",
    "每条基线产生一组条纹，不同基线的条纹间距跟方向各不相同。条纹在空中旋转（因为从源的角度看下去，基线在旋转），每个源将根据自己与相位中心的距离远近对可见度进行调制，距离远的源比对距离近的源贡献更快的条纹率。\n",
    "\n",
    "Each baseline produces a set of fringes on the sky with a different fringe spacing and orientation. This set of fringes rotates on the sky (due to the rotation of the baseline as seen from the source) and each source will modulate the visibility depending on its distance to the phase center. More distant sources will have a faster fringe rate contribution to the visibilities than sources close to the phase center.\n",
    "\n",
    "##### 4.4.2.5.1 单源 One source\n",
    "\n",
    "如果空中只有一个位置未知的源，可见度幅值将发生一定条纹率的周期性变化（见前例）。\n",
    "\n",
    "If the sky is composed of only one source at an unknown position, the visibility amplitude will have a periodic behavior at a given fringe rate (see previous example).\n",
    "\n",
    "如果我们能测到可见度平面上的这种随时间的周期性变化（即测量$\\frac{du}{dt}$ 和 $\\frac{dv}{dt}$），然后我们就能画出一条直线$m=f(l)$，假定空中所有可能的loci，源能产生相同的条纹率。\n",
    "\n",
    "If we can measure the periodic behavior in the visibility plane as a function of time (i.e. measuring $\\frac{du}{dt}$ and $\\frac{dv}{dt}$), then we can draw the straight line $m=f(l)$, giving all possible loci in the sky where the source can produce the same observed fringe rate.\n",
    "\n",
    "如果还有一条基线，测到另外一个不同的可见度随时间变化的函数，推出另外一组参数($\\frac{du}{dt}$,$\\frac{dv}{dt}$)，由此得到另外一条直线。\n",
    "\n",
    "If we have a second baseline, and thus a different measure of variation of the visibility as a function of time, we can derive a different ($\\frac{du}{dt}$,$\\frac{dv}{dt}$) parameter. This will give us another straight line. \n",
    "\n",
    "根据两条直线的相交信息，我们得到源的位置。\n",
    "\n",
    "The intersection of these lines will give the location of the source responsible for the variation of the two different baselines' measured amplitudes.\n",
    "\n",
    "##### 4.4.2.5.2 多源 Multiple sources\n",
    "\n",
    "如果有多个亮源，就必须研究可见度变化的谱线，找出峰值分布（给出$\\frac{du}{dt}$ 和 $\\frac{dv}{dt}$的值）。对每条基线的每个可见度的时间变化函数做FFT，我们能得到跟峰值探测一样多的线。\n",
    "\n",
    "If we have multiple bright sources, one must study the spectrum of the variation of the visibility and search for the various distribution of peaks (each giving values of $\\frac{du}{dt}$ and$\\frac{dv}{dt}$). By taking the FFT of each visibility as a function of time we can derive as many lines as we have detected peaks, per baseline.\n",
    "\n",
    "最终，所有直线方程将在$(l,m)$平面上产生多个交点，它们跟视场中的主要源对应。值得注意的是，这里没有做任何成像操作，我们就得到了源的位置！\n",
    "\n",
    "Ultimately, the collection of all straight line equations will produce intersections in the $(l,m)$ plane. These correspond to dominant sources in the field - without having to perform any imaging!"
   ]
  },
  {
   "cell_type": "markdown",
   "metadata": {},
   "source": [
    "<div class=warn>\n",
    "<b>Warning:</b> A lot of work can also be done using only the phase of the visibility. This is the main research topic for precise (and VLBI) astrometry. Keen readers are strongly encouraged to look up [<cite data-cite='2001isra.book.....T'>Thompson, Moran and Swenson, $\\S$12, p.467</cite> &#10548;](http://adsabs.harvard.edu/abs/2001isra.book.....T).</div>"
   ]
  },
  {
   "cell_type": "markdown",
   "metadata": {},
   "source": [
    "### 4.4.3 小结 Conclusion"
   ]
  },
  {
   "cell_type": "markdown",
   "metadata": {},
   "source": [
    "本节描述了可见度函数的特点，接下来将解决可见度函数的采样问题，我们将重点放在($u$,$v$,$w$)频率随仪器和观测参数的变化。\n",
    "\n",
    "Having described the properties of the visibility function, we will address the sampling of the visibility function. To this end, we will focus on the variation of our measured ($u$,$v$,$w$) frequencies as a function of instrumental and observational parameters."
   ]
  },
  {
   "cell_type": "markdown",
   "metadata": {},
   "source": [
    "我们已经给出了基线在一个3D参考系里的描述方法，接下来将讨论把基线投影到2D平面的方法。假定置身于天球，从天球往下看基线的分布，这时基线就被投影到了一个2D平面。本章后面（ [$\\S$ 4.6 &#10142;](4_6_the_fourier_approximation_van_cittert_zernike_theorem.ipynb)）我们将讨论构造天空图像的方法，即通过一个近似的2-D傅立叶变换，从基线可见度采样复原得到天空图像。这套理论中有很多值得注意的地方，我们将在适当的时候讨论。目前，重点要理解的是：对于天球上的一个点，相应的3-D基线被投影到一个2-D平面，该投影基线随着地球的自转而变化（因为天球保持静止）。这种变化是射电干涉测量应用的关键，我们将在[$\\S$ 4.5.1 &#10142;](4_5_1_uv_coverage_uv_tracks.ipynb)再次讨论到。\n",
    "\n",
    "We have shown how a baseline can be expressed in a 3-D reference frame, and will next discuss how that baseline can be projected down to 2-D. Imagine being on the celestial sphere, looking down on to the baseline distribution. From this frame, the baselines look projected to a 2-D plane. Later in the chapter we will discuss the [$\\S$ 4.6 &#10142;](4_6_the_fourier_approximation_van_cittert_zernike_theorem.ipynb) which allows us to construct an image of the sky from an approximate 2-D Fourier transform between the baseline visibility sampling and the sky. There are many caveats to this theorem, which will be discussed in good time. For now, the important thing to understand is: for a given point on the celestial sphere, the 3-D baselines can be projected onto a 2-D plane, and as the Earth rotates (and the Celestial sphere stays fixed), this changes the projection of each baseline. This change in projection is key to the practice of radio interferometric observation, and will come up again when we discuss [$\\S$ 4.5.1 &#10142;](4_5_1_uv_coverage_uv_tracks.ipynb)."
   ]
  },
  {
   "cell_type": "markdown",
   "metadata": {},
   "source": [
    "<p class=conclusion>\n",
    "  <font size=4><b>记忆要点</b></font>\n",
    "  <br>\n",
    "  \n",
    "&bull; 简化假设下，可见度函数跟亮度分布之间存在<b>2D傅立叶变换</b>关系。<br>\n",
    "&bull; 对($u$,$v$)处的可见度进行积分，返回的结果是($u$,$v$)处的<b>空间频率的系数</b>。<br>\n",
    "&bull; 通过对以上积分的研究，可以在不成像的情况下推导出源的大小和位置。\n",
    "</p>\n",
    "\n",
    "<p class=conclusion>\n",
    "  <font size=4><b>Important things to remember</b></font>\n",
    "  <br>\n",
    "  \n",
    "&bull; The visibility function reduces to the <b>2D Fourier transform</b> of the intensity distribution under simplyfing assuptions.<br>\n",
    "&bull; The visibility integral at ($u$,$v$) can be seen as an operator which returns the <b>coefficient of the spatial frequency</b> ($u$,$v$).<br>\n",
    "&bull; By studying the properties of this integral, one can derive the <b>angular size and position</b> of a source without imaging.\n",
    "</p>"
   ]
  },
  {
   "cell_type": "markdown",
   "metadata": {},
   "source": [
    "#### Format status:\n",
    "\n",
    "* <span style=\"background-color:green\">&nbsp;&nbsp;&nbsp;&nbsp;</span> : LF: 08/02/2017\n",
    "* <span style=\"background-color:green\">&nbsp;&nbsp;&nbsp;&nbsp;</span> : NC: 08/02/2017\n",
    "* <span style=\"background-color:green\">&nbsp;&nbsp;&nbsp;&nbsp;</span> : RF: 08/02/2017\n",
    "* <span style=\"background-color:green\">&nbsp;&nbsp;&nbsp;&nbsp;</span> : HF: 08/02/2017\n",
    "* <span style=\"background-color:green\">&nbsp;&nbsp;&nbsp;&nbsp;</span> : GM: 08/02/2017\n",
    "* <span style=\"background-color:green\">&nbsp;&nbsp;&nbsp;&nbsp;</span> : CC: 08/02/2017\n",
    "* <span style=\"background-color:green\">&nbsp;&nbsp;&nbsp;&nbsp;</span> : CL: 08/02/2017\n",
    "* <span style=\"background-color:green\">&nbsp;&nbsp;&nbsp;&nbsp;</span> : ST: 08/02/2017\n",
    "* <span style=\"background-color:green\">&nbsp;&nbsp;&nbsp;&nbsp;</span> : FN: 08/02/2017\n",
    "* <span style=\"background-color:green\">&nbsp;&nbsp;&nbsp;&nbsp;</span> : TC: 08/02/2017\n",
    "* <span style=\"background-color:green\">&nbsp;&nbsp;&nbsp;&nbsp;</span> : XX: 08/02/2017"
   ]
  },
  {
   "cell_type": "markdown",
   "metadata": {},
   "source": [
    "***\n",
    "\n",
    "* Next: [4.5.1 UV Coverage: UV Tracks](4_5_1_uv_coverage_uv_tracks.ipynb)"
   ]
  }
 ],
 "metadata": {
  "kernelspec": {
   "display_name": "Python 3",
   "language": "python",
   "name": "python3"
  },
  "language_info": {
   "codemirror_mode": {
    "name": "ipython",
    "version": 3
   },
   "file_extension": ".py",
   "mimetype": "text/x-python",
   "name": "python",
   "nbconvert_exporter": "python",
   "pygments_lexer": "ipython3",
   "version": "3.6.9"
  }
 },
 "nbformat": 4,
 "nbformat_minor": 2
}
