{
 "cells": [
  {
   "cell_type": "markdown",
   "metadata": {},
   "source": [
    "***\n",
    "\n",
    "* [Outline](../0_Introduction/0_introduction.ipynb)\n",
    "* [Glossary](../0_Introduction/1_glossary.ipynb)\n",
    "* [6. Deconvolution in Imaging](#)  \n",
    "    * Next: [6.1 Sky Models](6_1_sky_models.ipynb)\n",
    "\n",
    "***"
   ]
  },
  {
   "cell_type": "markdown",
   "metadata": {},
   "source": [
    "# 第六章：成像中的去卷积 Chapter 6: Deconvolution in Imaging<a id='deconv:sec:intro'></a>"
   ]
  },
  {
   "cell_type": "markdown",
   "metadata": {},
   "source": [
    "说到综合孔径中的成像，通常指的是以下两个过程：一是把可见度转换到空域的过程，一是利用点扩散函数（PSF）去卷积从而复原得到“真实”天空的过程。前面的章节已经讲到，我们所获得的图像会受到阵列配置以及观测参数（带宽、观测时长、指向高度，等等）的影响。这些参数是已知的，并且得到的阵列PSF独立于天空，因此，去卷积的（合理）目标是将仪器效应与天空分开。\n",
    "\n",
    "When the topic of imaging comes up in aperture synthesis we are usually referring to the process of transforming visibilities into a spatial domain representation (image) of the sky and the process of deconvolving the array point spread function (PSF) from the measured image to attempt to recover a 'true' sky image. As we have seen in the previous chapter, the resulting images are affected by the the array configuration and observation parameters (bandwidth, time length, pointing declination, etc.). These parameters are known and the resulting array PSF is independent of the sky, so the (reasonable) goal of deconvolution is to separate the effects of the instrument from the sky.\n",
    "\n",
    "通俗地讲，我们经常听到从“脏图”生成“洁图”的说法。这意味着，根据阵列PSF和我们期望看到的源的类型，用去卷积算法（通常是CLEAN算法的变体）重建得到一个更“完整”的图像。\n",
    "\n",
    "Colloquially, one will hear someone talk about creating a 'clean' image from a 'dirty' image. This means that a deconvolution algorithm, typically a variant of the CLEAN algorithm, is used to construct a more 'complete' image based on our knowledge of the array PSF and what types of sources we expect to see in the sky.\n",
    "\n",
    "为了理解射电干涉测量中使用的各种去卷积算法，我们将首先讨论源在天空模型里的描述方法，然后建立起CLEAN算法的基本形式，并逐步增加这些方法的复杂性。然后，我们将讨论去卷积算法的停止条件、如何描述图像的质量以及如何构建最终的图像。最后，我们将讨论用于提取天空源信息的自动源检测方法。\n",
    "\n",
    "To understand the motivation for the types of deconvolution algorithms used in radio interferometry we will first discuss how sources are typically represented in a sky model. We will then build up a basic form of the CLEAN algorithms, and increase the complexity of these methods. Then, we will cover the issue of when to halt deconvolution, how image quality is described, and how a final image is constructed. Finally, we will discuss automated source detection for extracting sky source information."
   ]
  },
  {
   "cell_type": "markdown",
   "metadata": {},
   "source": [
    "#### Chapter Outline\n",
    "\n",
    "1. [Sky Models](6_1_sky_models.ipynb)\n",
    "2. [Interative Deconvolution with Point Sources (CLEAN)](6_2_clean.ipynb)\n",
    "3. [CLEAN Implementations](6_3_clean_flavours.ipynb)\n",
    "4. [Residuals and Image Quality](6_4_residuals_and_iqa.ipynb)\n",
    "5. [Source Finding and Detection](6_5_source_finding.ipynb)\n",
    "6. [Further Reading and References](6_x_further_reading_and_references.ipynb)"
   ]
  },
  {
   "cell_type": "markdown",
   "metadata": {},
   "source": [
    "#### Chapter Editors\n",
    "\n",
    "* Alexander Akoto-Danso\n",
    "* Griffin Foster\n",
    "* Ermias Abebe Kassaye\n",
    "* Kshitij Thorat\n",
    "\n",
    "#### Chapter Contributors\n",
    "\n",
    "* Griffin Foster (**6.0**, **6.1**, 6.2, **6.3**, **6.4**)\n",
    "* Laura Richter (**6.2**)\n",
    "* Sphesihle Makhathini (**6.5**)\n",
    "\n",
    "#### Format status:\n",
    "\n",
    "* <span style=\"background-color:red\">&nbsp;&nbsp;&nbsp;&nbsp;</span> : LF: Date\n",
    "* <span style=\"background-color:red\">&nbsp;&nbsp;&nbsp;&nbsp;</span> : NC: Date\n",
    "* <span style=\"background-color:red\">&nbsp;&nbsp;&nbsp;&nbsp;</span> : RF: Date\n",
    "* <span style=\"background-color:red\">&nbsp;&nbsp;&nbsp;&nbsp;</span> : HF: Date\n",
    "* <span style=\"background-color:red\">&nbsp;&nbsp;&nbsp;&nbsp;</span> : GM: Date\n",
    "* <span style=\"background-color:red\">&nbsp;&nbsp;&nbsp;&nbsp;</span> : CC: Date\n",
    "* <span style=\"background-color:red\">&nbsp;&nbsp;&nbsp;&nbsp;</span> : CL: Date\n",
    "* <span style=\"background-color:red\">&nbsp;&nbsp;&nbsp;&nbsp;</span> : ST: Date\n",
    "* <span style=\"background-color:red\">&nbsp;&nbsp;&nbsp;&nbsp;</span> : FN: Date\n",
    "* <span style=\"background-color:red\">&nbsp;&nbsp;&nbsp;&nbsp;</span> : TC: Date\n",
    "* <span style=\"background-color:red\">&nbsp;&nbsp;&nbsp;&nbsp;</span> : XX: Date"
   ]
  },
  {
   "cell_type": "markdown",
   "metadata": {},
   "source": [
    "***\n",
    "\n",
    "Next: [6.1 Sky Models](6_1_sky_models.ipynb)"
   ]
  },
  {
   "cell_type": "markdown",
   "metadata": {},
   "source": [
    "<div class=warn><b>Future Additions:</b></div>\n",
    "\n",
    "* add to intro: an overview of CLEAN deconvolution (dirty and restored image example)\n",
    "* section on CLEAN relationship to compressed sensing"
   ]
  },
  {
   "cell_type": "code",
   "execution_count": null,
   "metadata": {
    "collapsed": true
   },
   "outputs": [],
   "source": []
  }
 ],
 "metadata": {
  "kernelspec": {
   "display_name": "Python 3",
   "language": "python",
   "name": "python3"
  },
  "language_info": {
   "codemirror_mode": {
    "name": "ipython",
    "version": 3
   },
   "file_extension": ".py",
   "mimetype": "text/x-python",
   "name": "python",
   "nbconvert_exporter": "python",
   "pygments_lexer": "ipython3",
   "version": "3.6.9"
  }
 },
 "nbformat": 4,
 "nbformat_minor": 1
}
