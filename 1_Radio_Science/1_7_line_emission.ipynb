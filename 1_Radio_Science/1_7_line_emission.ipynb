{
 "cells": [
  {
   "cell_type": "markdown",
   "metadata": {},
   "source": [
    "***\n",
    "\n",
    "* [Outline](../0_Introduction/0_introduction.ipynb)\n",
    "* [Glossary](../0_Introduction/1_glossary.ipynb)\n",
    "* [1. Radio Science using Interferometric Arrays](1_0_introduction.ipynb)  \n",
    "    * Previous: [1.6 Synchrotron emission](1_6_synchrotron_emission.ipynb)\n",
    "    * Next: [1.8 Astronomical radio sources](1_8_astronomical_radio_sources.ipynb)\n",
    "   \n",
    "***"
   ]
  },
  {
   "cell_type": "markdown",
   "metadata": {
    "collapsed": true
   },
   "source": [
    "Section status: <span style=\"background-color:orange\">&nbsp;&nbsp;&nbsp;&nbsp;</span>\n",
    "\n",
    "Import standard modules:"
   ]
  },
  {
   "cell_type": "code",
   "execution_count": 1,
   "metadata": {},
   "outputs": [
    {
     "data": {
      "text/html": [
       "<style>\n",
       "\n",
       "p.prerequisites {\n",
       "    border:5px;\n",
       "    border-style:none;\n",
       "    background-color:#F0F0F0;\n",
       "    box-shadow: 5px 5px 2px #888888;\n",
       "    border-color:#FF0000;\n",
       "    padding: 1em;\n",
       "    }\n",
       "\n",
       "p.conclusion {\n",
       "    border:5px;\n",
       "    border-style:none;\n",
       "    background-color:#c8ebca;\n",
       "    box-shadow: 5px 5px 2px #888888;\n",
       "    border-color:#c8ebca;\n",
       "    padding: 1em;\n",
       "    }\n",
       "\n",
       "div.warn {    \n",
       "    background-color: #fcf2f2;\n",
       "    border-color: #dFb5b4;\n",
       "    border-left: 5px solid #dfb5b4;\n",
       "    padding: 0.5em;\n",
       "    }\n",
       "\n",
       "div.advice {    \n",
       "    background-color: #ecf8ed;\n",
       "    border-color: #a2dda5;\n",
       "    border-left: 5px solid #a2dda5;\n",
       "    padding: 0.5em;\n",
       "    }\n",
       "\n",
       "</style>\n",
       "\n"
      ],
      "text/plain": [
       "<IPython.core.display.HTML object>"
      ]
     },
     "execution_count": 1,
     "metadata": {},
     "output_type": "execute_result"
    }
   ],
   "source": [
    "import numpy as np\n",
    "import matplotlib.pyplot as plt\n",
    "%matplotlib inline\n",
    "from IPython.display import HTML \n",
    "HTML('../style/course.css') #apply general CSS"
   ]
  },
  {
   "cell_type": "markdown",
   "metadata": {
    "collapsed": true
   },
   "source": [
    "Import section specific modules:"
   ]
  },
  {
   "cell_type": "code",
   "execution_count": null,
   "metadata": {
    "collapsed": true
   },
   "outputs": [],
   "source": [
    "pass"
   ]
  },
  {
   "cell_type": "markdown",
   "metadata": {},
   "source": [
    "## 1.7.1 发射线 Line emission<a id='science:sec:line_emission'></a>"
   ]
  },
  {
   "cell_type": "markdown",
   "metadata": {},
   "source": [
    "在 [$\\S$ 1.3 &#10142;](../1_Radio_Science/1_3_radiative_transport.ipynb) <!--\\ref{science:sec:radiative_transport}--> \n",
    "我们讨论了辐射如何通过给定宏观量、线性发射系数$\\varepsilon_\\nu$和线性吸收系数$\\kappa_\\nu$的空间传播。这可以把两者联系到所谓的爱因斯坦系数，用来度量原子或分子发射或吸收光子的概率。\n",
    "\n",
    "In [$\\S$ 1.3 &#10142;](../1_Radio_Science/1_3_radiative_transport.ipynb) <!--\\ref{science:sec:radiative_transport}--> we discussed how radiation propagates through space for given macroscopic quantities, the linear emission coefficient $\\varepsilon_\\nu$ and the linear absorption coefficient $\\kappa_\\nu$. It is possible to connect both to the so-called Einstein coefficients, which measure the the probability of the emission or absorption of photons by an atom or a molecule. "
   ]
  },
  {
   "cell_type": "markdown",
   "metadata": {},
   "source": [
    "* $A_{21}$: 从原子能级2（高能量）跃迁到能级1（低能量）的自然发射的爱因斯坦系数\n",
    "* $B_{21}$: 从原子能级2（高能量）跃迁到能级1（低能量）的受激发射的爱因斯坦系数\n",
    "* $B_{12}$: 从原子能级1（低能量）跃迁到能级2（高能量）的受激吸收的爱因斯坦系数。\n",
    "\n",
    "\n",
    "\n",
    "* $A_{21}$: Einstein coefficient for spontaneous emission for a transition from atomic level 2 (higher energy) to level 1 (lower energy)\n",
    "* $B_{21}$: Einstein coefficient for induced emission for a transition from atomic level 2 (higher energy) to level 1 (lower energy)\n",
    "* $B_{12}$: Einstein coefficient for photo-absorption for a transition from atomic level 1 (lower energy) to level 2 (higher energy)."
   ]
  },
  {
   "cell_type": "markdown",
   "metadata": {},
   "source": [
    "三系数之间存在以下关系：\n",
    "\n",
    "They are connected via"
   ]
  },
  {
   "cell_type": "markdown",
   "metadata": {},
   "source": [
    "<a id='science:eq:07_001'></a><!--\\label{science:eq:07_001}-->$$\n",
    "\\begin{align}\n",
    "    g_1 B_{12} \\,&=\\, g_2 B_{21}\\\\\n",
    "    A_{21}\\,&=\\,\\frac{8\\pi h\\nu_0^3}{c^3}\\,B_{21}\n",
    "    \\\\\n",
    "\\end{align}\n",
    "$$"
   ]
  },
  {
   "cell_type": "markdown",
   "metadata": {},
   "source": [
    "$g_1$ 和 $g_2$ 是能量状态的统计权重，称为简并度，当存在简并能量状态是，取值大于1。$\\nu_0$ 是跃迁中心频率($\\bar{E}_{12}\\,=\\,h\\nu_0$), $c$ 是光速($c\\,=\\,299\\,792\\,458\\,{\\rm m}\\,{\\rm s}^{-1}$)。考虑到谱线不是非常尖锐这一事实（即可能是一个窄的范围），我们定义了一个轮廓函数$\\varphi(\\nu)$，其中 $\\int \\varphi\\,d\\nu\\,=\\,1$，则 $\\int\\ \\nu\\,\\varphi\\,d\\nu\\,=\\,\\nu_0$，由此可以将发射和吸收系数描述为微观参数的函数。把状态1的原子密度表示为$N_1$，状态2的原子密度表示为$N_2$，得到以下的发射和吸收系数关系：\n",
    "\n",
    "where $g_1$ and $g_2$ are the statistical weights of the energy state (in the presence of degenerate energy states these are larger than 1), $\\nu_0$ is the central frequency of the transition ($\\bar{E}_{12}\\,=\\,h\\nu_0$), and $c$ is the speed of light ($c\\,=\\,299\\,792\\,458\\,{\\rm m}\\,{\\rm s}^{-1}$). To account for the fact that spectral lines are not perfectly sharp (i.e. they can have a narrow spectrum), we define a profile function $\\varphi(\\nu)$ with $\\int \\varphi\\,d\\nu\\,=\\,1$ such that $\\int\\ \\nu\\,\\varphi\\,d\\nu\\,=\\,\\nu_0$. With this it is possible to describe the absorption and emission coefficients as functions of microscopic parameters. Denoting the volume density of atoms in state 1 as $N_1$ and the volume density of atoms in state 2 as $N_2$, we have the following relation with the emission and absorption coefficients"
   ]
  },
  {
   "cell_type": "markdown",
   "metadata": {},
   "source": [
    "<a id='science:eq:07_002'></a><!--\\label{science:eq:07_002}-->$$\n",
    "\\begin{align}\n",
    "    \\kappa_\\nu \\,&=\\, \\frac{h\\nu_0}{c}N_1\\,B_{12}\\left(1-\\frac{g_1\\,N_2}{g_2\\,N_1}\\right)\\varphi(\\nu)\\\\\n",
    "       \\varepsilon_\\nu \\,&=\\, \\frac{h\\nu_0}{4\\pi}N_2\\,A_{21}\\varphi(\\nu)\n",
    "   \\\\\n",
    "\\end{align}\n",
    "$$"
   ]
  },
  {
   "cell_type": "markdown",
   "metadata": {},
   "source": [
    "在“旋转”温度为$T$的局部热平衡条件下，$N_2$ 和 $N_1$ 之比为：\n",
    "\n",
    "Under the condition of Local Thermal Equilibrium with \"spin\" temperature $T$, the ratio of $N_2$ and $N_1$ is known to be"
   ]
  },
  {
   "cell_type": "markdown",
   "metadata": {},
   "source": [
    "<a id='science:eq:07_003'></a><!--\\label{science:eq:07_003}-->$$\n",
    "\\begin{align}\n",
    "    \\frac{N_2}{N_1}\\,&=\\,\\frac{g_2}{g_1}e^{-\\frac{h\\nu}{kT}} \\\\\n",
    "\\end{align}\n",
    "$$"
   ]
  },
  {
   "cell_type": "markdown",
   "metadata": {},
   "source": [
    "知道状态1和状态2的原子密度，由上面式子可以算出 $\\varepsilon_\\nu$ 和 $\\kappa_\\nu$。通过上面的式子，以及某些原子或分子的河外线的认证，我们可以大致了解星际气体的状态。\n",
    "\n",
    "which can be used to determine $\\varepsilon_\\nu$ and $\\kappa_\\nu$ from the population density of atoms in state 1 or 2. Consequent evaluation of above formulae and identification of extragalactic lines with certain atomic or molecular transitions can be used to learn about the state of the interstellar gas in general."
   ]
  },
  {
   "cell_type": "markdown",
   "metadata": {},
   "source": [
    "These relations have been taken from [<cite data-cite=''>Tools of Radio Astronomy </cite> &#10548;](http://adsabs.harvard.edu/abs/2012tra..book.....W) which can be consulted for further details.  "
   ]
  },
  {
   "cell_type": "markdown",
   "metadata": {},
   "source": [
    "## 1.7.2 原子氢Atomic hydrogen<a id='science:sec:atomic_hydrogen'></a>"
   ]
  },
  {
   "cell_type": "markdown",
   "metadata": {},
   "source": [
    "在热电离的氢等离子体跃迁成为分子氢的过程中，产生了原子氢。氢是宇宙中最为丰富的元素，因此原子氢（表示为 $\\rm H\\，{\\scriptsize\\rm{I}}$）是宇宙中最多的发射谱线之一。氢气是恒星演化的燃料，因此其发射线常常在演化过程中的活动星系（如螺旋星系）中被观测到。然而，了解在其它地方，在什么情况下，中性氢会产生发射线，也是很重要的。\n",
    "\n",
    "Atomic hydrogen is formed during the transition from hot ionized hydrogen plasma to the molecular hydrogen gas in galaxies. As hydrogen is the most abundant element in the universe, atomic hydrogen (denoted $\\rm H\\,{\\scriptsize\\rm{I}}$) is one of the most abundant line emissions in the universe. Since hydrogen gas fuels star formation, this type of line emission is frequently observed in galaxies undergoing active star formation eg. spiral galaxies. However, it is important to know under which circumstances line emission from neutral hydrogen can occur elsewhere.\n",
    "\n",
    "<span style=\"background-color:cyan\"> LB:XX: Should mention where this elsewhere refers to.</span>"
   ]
  },
  {
   "cell_type": "markdown",
   "metadata": {},
   "source": [
    "基态的中性氢原子F=1 （电子量子数 $n\\,=\\,1$, 电子轨道角动量 $L\\,=\\,0$, 电子旋转 $S\\,=\\,\\frac{1}{2}$, 电子总角动量 $J = L+S = \\frac{1}{2}$, 核旋转 $I\\,=\\,\\frac{1}{2}$, 因此总自旋量子数 F =0/1），其在总角动量超精细转变过程中，释放出射电波段的发射谱线。发射线的频率为 $1.420\\,405\\,751\\,786\\times 10^9 {\\rm Hz}$ （相对应的波长是？），自然发射的爱因斯坦系数 $A_{10}\\,=\\,2.86888\\times 10^{-15}\\,{\\rm s}^{-1}$。具有相同自旋方向的质子和电子，其自发平均半衰期为 $1.11\\times10^{7} \\rm yr$，这意味着中性氢云中原子的激发态几乎总是由碰撞激发，低转换率很多时候导致了中性氢云光学上的薄结构。\n",
    "\n",
    "Neutral hydrogen emits in the radio regime through a hyperfine transition of the total angular momentum of the ground state of neutral hydrogen atom F = 1 (electronic quantum number $n\\,=\\,1$, orbital angular momentum of electrons $L\\,=\\,0$, electron spin $S\\,=\\,\\frac{1}{2}$, total electron angular momentum $J = L+S = \\frac{1}{2}$, nuclear spin $I\\,=\\,\\frac{1}{2}$, the total spin F quantum number can hence be 0 or 1).The transition frequency is $1.420\\,405\\,751\\,786\\times 10^9 {\\rm Hz}$ (what is the corresponding wavelength associated with this frequency?) and the Einstein coefficient for spontaneous emission is $A_{10}\\,=\\,2.86888\\times 10^{-15}\\,{\\rm s}^{-1}$. The spontaneous mean half-life time of the state in which both proton and electron have the same spin direction is $1.11\\times10^{7} \\rm yr$. This means that the excitation state of atoms in neutral hydrogen clouds is almost always determined by collisional excitation. The low transition probability results in many cases in an optically thin structure of neutral hydrogen clouds.\n",
    "\n",
    "<span style=\"background-color:red\"> LB:IC: Missing from this discussion is the fact the emission occurs when the electrons', which have spins aligned in the excited state, spin anti-align. I don't see the point of introducing all the different spins if we are not going to do it properly. Also, what is with all the significant figures?</span>"
   ]
  },
  {
   "cell_type": "markdown",
   "metadata": {},
   "source": [
    "定义无线电传播速度为 $V_{\\rm radio}$，这是由多普勒频移引起的气体粒子衰退速度的近似值\n",
    "\n",
    "Defining the radio velocity $V_{\\rm radio}$, which is an approximation to the recession velocity of the gas particles as caused by the Doppler Shift"
   ]
  },
  {
   "cell_type": "markdown",
   "metadata": {},
   "source": [
    "<a id='science:eq:07_004'></a><!--\\label{science:eq:07_004}-->$$\n",
    "\\begin{align}\n",
    "    \\frac{V_{\\rm radio}(\\nu)}{c}\\,&=\\,\\frac{\\nu_0-\\nu}{\\nu_0} \\\\\n",
    "\\end{align}\n",
    "$$"
   ]
  },
  {
   "cell_type": "markdown",
   "metadata": {},
   "source": [
    "在局部热力学平衡（LTE）和恒定“旋转”温度的假设下，可以根据光学深度推理出柱密度\n",
    "\n",
    "one can, under the assumption of local thermodynamic equilibrium (LTE) and a constant \"spin\" temperature $T_{\\rm spin}$ derive the column density from the optical depth"
   ]
  },
  {
   "cell_type": "markdown",
   "metadata": {},
   "source": [
    "<a id='science:eq:07_005'></a><!--\\label{science:eq:07_005}-->$$\n",
    "\\begin{align}\n",
    "    \\frac{N_{\\rm H\\,\\scriptsize I}}{{\\rm atoms} \\,{\\rm cm}^{-2}}\\,=\\,1.823\\times10^{18}\\cdot\\frac{T_{\\rm spin}}{\\rm K}\\int \\tau_\\nu(V_{\\rm radio})\\,\\frac{dV_{\\rm radio}}{\\rm km\\,s^{-1}} \\\\\n",
    "\\end{align}\n",
    "$$"
   ]
  },
  {
   "cell_type": "markdown",
   "metadata": {},
   "source": [
    "在光学薄结构下，减小到\n",
    "\n",
    "which reduces in the optically thin case to"
   ]
  },
  {
   "cell_type": "markdown",
   "metadata": {},
   "source": [
    "<a id='science:eq:07_006'></a><!--\\label{science:eq:07_006}-->$$\n",
    "\\begin{align}\n",
    "    \\frac{N_{\\rm H\\,\\scriptsize I}}{{\\rm atoms} \\,{\\rm cm}^{-2}}\\,=\\,1.823\\times10^{18}\\int \\frac{T_{\\rm b}}{\\rm K}\\,\\frac{dV_{\\rm radio}}{\\rm km\\,s^{-1}} \\\\\n",
    "\\end{align}\n",
    "$$"
   ]
  },
  {
   "cell_type": "markdown",
   "metadata": {},
   "source": [
    "$T_{\\rm b}$ 是亮温（见 [$\\S$ 1.5.1 &#10142;]）。由此很容易推导出中性氢云的柱密度或质量，后面会给出完整的推导过程。\n",
    "\n",
    "with $T_{\\rm b}$ being the brightness temperature (see [$\\S$ 1.5.1 &#10142;](1_5_black_body_radiation.ipynb#science:sec:blackbody_emission) <!--\\ref{science:sec:blackbody_emission}--> ). This makes it rather simple to derive column densities or masses of neutral-hydrogen clouds. The full derivation will be developed later on. <span style=\"background-color:yellow\"> LB:IC: where is this done? Add a link.</span>\n",
    "\n",
    "高角分辨率已经成为星系演化研究（特别是河外星系源的演化研究）的一个重要的因素。干涉成像已经被证明是获取高分辨率射电图谱不可或缺的工具。\n",
    "\n",
    "High angular resolution has become an important ingredient for the study of galaxy evolution, especially for extra-galactic sources (i.e. sources outside our own galaxy). Interferometric imaging has proved an indispensable tool in obtaining high resolution radio maps."
   ]
  },
  {
   "cell_type": "markdown",
   "metadata": {},
   "source": [
    "谱线的锐度是这种辐射的一个非常有用的特征，天文学家可以利用这一特征以及多普勒效应确定天体（包括中性氢气）的衰退速度，能达到非常高的精度。同时很自然地引入红移概念，定义为：\n",
    "\n",
    "The sharpness of spectral lines is a very useful feature of this kind of emission. Indeed it allows astronomers, by making use of the Doppler effect, to determine recession velocities of astronomical sources (including neutral Hydrogen gas) to very high precision. This leads naturally to the concept of redshift $z$ which is defined as\n",
    "\n",
    "$$ z = \\frac{\\nu_e - \\nu_o}{\\nu_o} = \\frac{\\lambda_o - \\lambda_e}{\\lambda_e}$$\n",
    "\n",
    "${}_e$ 和 ${}_o$ 分别代表真实天体和观测天体。谱线的锐度特征对于星系中 $\\rm H\\,{\\scriptsize\\rm{I}}$ 气体的定位和运动学研究非常重要，在八十年代，这进一步支撑了螺旋星系中存在暗物质的猜想。\n",
    "\n",
    "where the subscripts ${}_e$ and ${}_o$ denote emitted and observed respectively. The sharp feature of spectral lines has been extremely important for mapping not only the location but also the kinematics of the $\\rm H\\,{\\scriptsize\\rm{I}}$ gas found inside galaxies. Indeed, in the 1980's, such maps further supported the idea that there must be dark matter in spiral galaxies.\n",
    "\n",
    "<span style=\"background-color:yellow\"> LB:IC: should we maybe mention the double horn profile of the H1 line here? </span>"
   ]
  },
  {
   "cell_type": "markdown",
   "metadata": {},
   "source": [
    "## 1.7.3 其它发射线 Other line emission<a id='science:sec:other_line_emission'></a>"
   ]
  },
  {
   "cell_type": "markdown",
   "metadata": {},
   "source": [
    "射电波段还可以观测其它类型的发射线，比如：\n",
    " *射电重组线，即电子被原子捕获时释放的高能级跃迁线。\n",
    " *分子线，即分子旋转或者振荡激发态迁移线，可以用于追踪冷的星际介质。\n",
    "\n",
    "Several other emission lines are also observed in the radio band. Some examples are:\n",
    "\n",
    "* Radio recombination lines which are high-level transition lines of electrons captured by an atom.\n",
    "* Molecular lines are transitions of rotational or vibrational excitation states, and can be used to trace the cold interstellar medium.\n",
    "\n",
    "然而，我们不会进一步解释这些现象背后的物理机制，因为我们的重点在于观测技术，读者可以\n",
    "\n",
    "However, since we are more focussed on observational techniques, we will not attempt to explain the emission mechanisms associated with these phenomena. The reader is referred to [<cite data-cite='1999ASPC..180.....T'>Synthesis Imaging in Radio Astronomy II</cite> &#10548;](http://adsabs.harvard.edu/abs/1999ASPC..180.....T) for further details regarding spectral line emission and its applications. "
   ]
  },
  {
   "cell_type": "markdown",
   "metadata": {
    "collapsed": true
   },
   "source": [
    "***\n",
    "\n",
    "* Next:[1.8 Astronomical radio sources](1_8_astronomical_radio_sources.ipynb)"
   ]
  },
  {
   "cell_type": "markdown",
   "metadata": {},
   "source": [
    "Future Additions:\n",
    "\n",
    "* example: spectrum figure pointing out prominent emission and absorption features\n",
    "* expand on what causes broadening: natural, doppler, pressure\n",
    "* example: plot figure of the galactic HI velocity curve"
   ]
  }
 ],
 "metadata": {
  "kernelspec": {
   "display_name": "Python 3",
   "language": "python",
   "name": "python3"
  },
  "language_info": {
   "codemirror_mode": {
    "name": "ipython",
    "version": 3
   },
   "file_extension": ".py",
   "mimetype": "text/x-python",
   "name": "python",
   "nbconvert_exporter": "python",
   "pygments_lexer": "ipython3",
   "version": "3.6.9"
  }
 },
 "nbformat": 4,
 "nbformat_minor": 1
}
