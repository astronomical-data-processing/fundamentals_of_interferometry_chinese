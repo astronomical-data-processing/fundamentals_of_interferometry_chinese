{
 "cells": [
  {
   "cell_type": "markdown",
   "metadata": {},
   "source": [
    "***\n",
    "\n",
    "* [Outline](../0_Introduction/0_introduction.ipynb)\n",
    "* [Glossary](../0_Introduction/1_glossary.ipynb)\n",
    "* [1. Radio Science using Interferometric Arrays](#)  \n",
    "    * Next: [1.1 Basic remarks on astrophysics](1_1_a_brief_introduction_to_basic_astrophysics.ipynb)\n",
    "\n",
    "***"
   ]
  },
  {
   "cell_type": "markdown",
   "metadata": {},
   "source": [
    "状态: <span style=\"background-color:green\">&nbsp;&nbsp;&nbsp;&nbsp;</span>\n",
    "\n",
    "导入标准模块:"
   ]
  },
  {
   "cell_type": "code",
   "execution_count": null,
   "metadata": {
    "collapsed": true,
    "scrolled": true
   },
   "outputs": [],
   "source": [
    "import numpy as np\n",
    "import matplotlib.pyplot as plt\n",
    "%matplotlib inline\n",
    "from IPython.display import HTML \n",
    "HTML('../style/course.css') #apply general CSS"
   ]
  },
  {
   "cell_type": "markdown",
   "metadata": {},
   "source": [
    "导入本节所需要的特定模块:"
   ]
  },
  {
   "cell_type": "code",
   "execution_count": null,
   "metadata": {
    "collapsed": true
   },
   "outputs": [],
   "source": [
    "pass"
   ]
  },
  {
   "cell_type": "code",
   "execution_count": null,
   "metadata": {
    "collapsed": true
   },
   "outputs": [],
   "source": [
    "HTML('../style/code_toggle.html')"
   ]
  },
  {
   "cell_type": "markdown",
   "metadata": {},
   "source": [
    "# 第1章: 干涉阵射电科学<a id='science:sec:intro'></a>"
   ]
  },
  {
   "cell_type": "markdown",
   "metadata": {},
   "source": [
    "在天文学中使用的干涉测量阵方法被很多人认为是一种比科学更象艺术的“黑魔法”。虽然射电天文的一些参考书籍或提及了射电干涉的一些工作知识，或者用一小节的篇幅对概念进行了简单的介绍，但总体来看都没有讲清天文干涉测量阵列的概念。当给学生教授合成成像和干涉测量时，一般都是在一周或两周的研讨会或暑期学校中，一大堆的讲师旋风般地给学生灌输一堆的新概念。这往往导致学生觉得混乱和矛盾，强化了他们的认识，觉得从干涉测量阵列到科学研究的整个过程的确就是一个少数聪明人才可以理解的魔法。\n",
    "\n",
    "**但是，真实情况显然不是这样。**\n",
    "\n",
    "客观地看，由于射电干涉测量本身是领域内的一个特定方向，要学习掌握的确较为困难。但应看到射电干涉测量完全基于常规的数学与物理概念，与其它很多领域一样，随着时间的推移，感觉会慢慢有的（intuition comes with time）。作为一个老师，我们能够做到的，就是想办法用一个可行且完整的方法给学生来讲解其中的基础知识，加快学生的体系培训与概念的建立。本书正是基于这样的想法，从一些兴趣点出发，不断地积累基础概念，最终达到可以从事干涉测量这样复杂工作的程度。\n",
    "\n",
    "通过本文的学习，最重要是理解干涉测量的根本目的就是很多独立的小望远镜来合成一个合成望远镜，最终生成一个空间的合成图像。这与我们平时所接触到的使用天文望远镜观测的概念有很大的不同，在射电领域中，有大量的工程或物理问题的制约，需要有不同的解决方法。但无论如何，即使经常有点困扰，我们还是需要认识到一个合成望远镜与常规的望远镜概念还是很类似的。\n",
    "\n",
    "本文希望能为不同层次的相关人士，无论是新入学的硕士学生还是教授学者，提供一些帮助。本书的初衷就是让射电干涉测量学能更容易理解，这是一种尝试，似乎也没有其它更好的方法。我们期待我们的读者，无论是新入行还是已经有丰富的经验，都可以通过各种手段为本书的改进提供帮助，小至拼写语法错误，大至整个结构体系，甚至是本书的出发动作，一切均可。我们期望这一一本社团共同完成的书。\n",
    "\n",
    "本书的结构基本上考虑为从理论到实际系统。本文首先从 [数学概念 &#10142;](../2_Mathematical_Groundwork/2_0_introduction.ipynb)<!--2_Mathematical_Groundwork/2_0_introduction.ipynb-->，这些概念是干涉测量与合成成像的基础。然后我们讨论 [方位天文学 &#10142;](../3_Positional_Astronomy/3_0_Introduction.ipynb)<!--3_Positional_Astronomy/3_0_Introduction.ipynb-->，即天文研究中所用到的坐标系。通过坐标系我们开始介绍 [可见度空间 &#10142;](../4_Visibility_Space/4_0_introduction.ipynb)<!--4_Visibility_Space/4_0_introduction.ipynb--> 和基线测量的基本概念，这些测量能够进一步通过 [成像 &#10142;](../5_Imaging)<!--5_Imaging/5_0_introduction.ipynb--> 与[去卷积 &#10142;](../6_Deconvolution/6_0_introduction.ipynb)<!--6_Deconvolution/6_0_introduction.ipynb-->等技术转变为一幅图像。在此基础上，我们进一步通过讨论[射电观测系统 &#10142;](../7_Observing_Systems/7_0_introduction.ipynb)<!--7_Observing_Systems/7_0_introduction.ipynb--> 来理解真实的望远镜系统，以及在观测中是如何影响测量值等问题。提出在真实的设备中，也就是我们所讨论的射电望远镜中，需要通过校准 (Calibrabration)来获得更为灵敏的测量。在介绍观测系统<!--ing--> ，我们讨论是如何实现 [校准 &#10142;](../8_Calibration/8_0_Introduction.ipynb)<!--8_Calibration/8_0_Introduction.ipynb-->的。最后，本书对当前[实际应用 &#10142;](../9_Practical/9_1_visualisation-inspection.ipynb)<!--9_Practical/9_0_introduction.ipynb--> 射电干涉测量的相关软件与工作进行了介绍 。"
   ]
  },
  {
   "cell_type": "markdown",
   "metadata": {},
   "source": [
    "在介绍干涉测量的基础概念之前，我们需要铺垫一些背景知识。在这一章，我们将给出一个利用干涉测量开展科学研究的综述，干涉阵的优点以及当前正在使用的干涉阵类型。\n",
    "\n",
    "为了深入讨论射电干涉测量相关知识，我们先简要回顾一下学习射电干涉池所需要的科学知识。第1.1至1.8节非常简要介绍天体物理、射电天文和射电天体物理中的一些基础现象研究。在对天文学领域进行一个总述后，我们介绍了电磁幅射、幅射传播中的一些相关知识与基本概念，给出特定频率的电磁幅射机制的一些实例，如热幅射与非热幅射、连续发射或谱线发射等。当然，一个完整的射电天文科学的综述超出了本书的范围，但本书的编写的确参考了射电科学很多重要的文献。\n",
    "\n",
    "第一章的最后一部分介绍了射电干涉仪的研发动机，介绍了干涉仪早期研发中的一些事例，引出了现代射电干涉阵的相关知识，希望本章的铺垫能让读者阅读后开始有深入理解射电干涉测量的“好奇心“，从而在兴趣的推动下进入这一激动人心的领域。"
   ]
  },
  {
   "cell_type": "markdown",
   "metadata": {},
   "source": [
    "#### 目录"
   ]
  },
  {
   "cell_type": "markdown",
   "metadata": {},
   "source": [
    "1.  [Basic remarks on astrophysics](../1_Radio_Science/1_1_a_brief_introduction_to_basic_astrophysics.ipynb)\n",
    "2.  [Electromagnetic radiation and astronomical quantities](../1_Radio_Science/1_2_electromagnetic_radiation_and_astronomical_quantities.ipynb)\n",
    "3.  [Radiative transport](../1_Radio_Science/1_3_radiative_transport.ipynb)\n",
    "4.  [Radio regime](../1_Radio_Science/1_4_radio_regime.ipynb)\n",
    "5.  [Black body radiation](../1_Radio_Science/1_5_black_body_radiation.ipynb)\n",
    "6.  [Synchrotron emission](../1_Radio_Science/1_6_synchrotron_emission.ipynb)\n",
    "7.  [Line emission](../1_Radio_Science/1_7_line_emission.ipynb)\n",
    "8.  [Astronomical radio sources](../1_Radio_Science/1_8_astronomical_radio_sources.ipynb)\n",
    "9.  [A brief introduction to interferometry](../1_Radio_Science/1_9_a_brief_introduction_to_interferometry.ipynb)\n",
    "10. [Limits of single dishes](../1_Radio_Science/1_10_limits_of_single_dishes.ipynb)\n",
    "11. [Modern interferometric arrays](../1_Radio_Science/1_11_modern_interferometric_arrays.ipynb)\n",
    "12. [Further reading and references](../1_Radio_Science/1_x_further_reading_and_references.ipynb)"
   ]
  },
  {
   "cell_type": "markdown",
   "metadata": {},
   "source": [
    "### Chapter Editors\n",
    "* Alexander Akoto-Danso \n",
    "* Ermias Abebe Kassaye\n",
    "* Tariq Blecher\n",
    "* Griffin Foster\n",
    "* Kshitij Thorat\n",
    "* Landman Bester\n",
    "* Kelachukwu Iheanetu\n",
    "\n",
    "#### Chapter Contributors\n",
    "\n",
    "* Griffin Foster (**1.0**, **1.10**, **1.11**)\n",
    "* Julien Girard (**1.10**)\n",
    "* Gyula Jozsa (**1.1**, **1.2**, **1.3**, **1.4**, **1.5**, **1.6**, **1.7**, **1.8**)\n",
    "* Oleg Smirnov (**1.9**)\n",
    "* Kshitij Thorat (**1.1**, **1.2**, **1.3**, **1.4**, **1.5**, **1.6**, **1.7**, **1.8**)\n",
    "\n",
    "#### Format status:\n",
    "\n",
    "* <span style=\"background-color:yellow\">&nbsp;&nbsp;&nbsp;&nbsp;</span> : LF: Date\n",
    "* <span style=\"background-color:green\">&nbsp;&nbsp;&nbsp;&nbsp;</span> : NC: Date\n",
    "* <span style=\"background-color:yellow\">&nbsp;&nbsp;&nbsp;&nbsp;</span> : RF: Date\n",
    "* <span style=\"background-color:green\">&nbsp;&nbsp;&nbsp;&nbsp;</span> : HF: Date\n",
    "* <span style=\"background-color:yellow\">&nbsp;&nbsp;&nbsp;&nbsp;</span> : GM: Date\n",
    "* <span style=\"background-color:yellow\">&nbsp;&nbsp;&nbsp;&nbsp;</span> : CC: Date\n",
    "* <span style=\"background-color:green\">&nbsp;&nbsp;&nbsp;&nbsp;</span> : CL: Date\n",
    "* <span style=\"background-color:green\">&nbsp;&nbsp;&nbsp;&nbsp;</span> : ST: Date\n",
    "* <span style=\"background-color:green\">&nbsp;&nbsp;&nbsp;&nbsp;</span> : FN: Date\n",
    "* <span style=\"background-color:red\">&nbsp;&nbsp;&nbsp;&nbsp;</span> : TC: Date\n",
    "* <span style=\"background-color:yellow\">&nbsp;&nbsp;&nbsp;&nbsp;</span> : XX: Date"
   ]
  },
  {
   "cell_type": "markdown",
   "metadata": {},
   "source": [
    "***\n",
    "\n",
    "* Next: [1.1 Basic remarks on astrophysics](../1_Radio_Science/1_11_modern_interferometric_arrays.ipynb)"
   ]
  },
  {
   "cell_type": "markdown",
   "metadata": {},
   "source": [
    "<div class=warn><b>Future Additions:</b></div>\n",
    "\n",
    "* start book with an overview of what happens in aperture synthesis, start with the measurement equation. end the book, the final chapter on returning to this first section but now with all the foundations provided in between."
   ]
  }
 ],
 "metadata": {
  "kernelspec": {
   "display_name": "Python 3",
   "language": "python",
   "name": "python3"
  },
  "language_info": {
   "codemirror_mode": {
    "name": "ipython",
    "version": 3
   },
   "file_extension": ".py",
   "mimetype": "text/x-python",
   "name": "python",
   "nbconvert_exporter": "python",
   "pygments_lexer": "ipython3",
   "version": "3.6.9"
  }
 },
 "nbformat": 4,
 "nbformat_minor": 2
}
