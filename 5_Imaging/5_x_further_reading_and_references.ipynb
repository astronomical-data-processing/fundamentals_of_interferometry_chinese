{
 "cells": [
  {
   "cell_type": "markdown",
   "metadata": {
    "collapsed": true
   },
   "source": [
    "***\n",
    "\n",
    "* [Outline](../0_Introduction/0_introduction.ipynb)\n",
    "* [Glossary](../0_Introduction/1_glossary.ipynb)\n",
    "* [5. Imaging](5_0_introduction.ipynb)  \n",
    "    * Previous: [5.5 The Break Down of the Small Angle Approximation and the W-Term](#)  \n",
    "    * Next: [Chapter 6: Deconvolution](../6_deconvolution/6_0_introduction.ipynb)\n",
    "\n",
    "***"
   ]
  },
  {
   "cell_type": "markdown",
   "metadata": {},
   "source": [
    "## 5.x 深度阅读与参考 Further Reading and References <a id='imaging:sec:refs'></a>"
   ]
  },
  {
   "cell_type": "markdown",
   "metadata": {},
   "source": [
    "### General Imaging\n",
    "\n",
    "1. [<cite data-cite='taylor1999synthesis'>Synthesis Imaging in Radio Astronomy II (Lecture 7) </cite> &#10548;](http://adsabs.harvard.edu/abs/1999sira.conf.....T) : provides much of the foundation in this chapter for imaging and, weighting and sampling functions.\n",
    "2. [<cite data-cite='thompson2008interferometry'>Interferometry and Synthesis in Radio Astronomy (Chapter 10) </cite> &#10548;](http://onlinelibrary.wiley.com/book/10.1002/9783527617845) : a complimentary chapter to Lecture 7 of  *Synthesis Imaging in Radio Astronomy II*.\n",
    "\n",
    "### Weighting Functions\n",
    "\n",
    "1. [<cite data-cite='briggs1995high'>High Fidelity Deconvolution of Moderately Resolved Sources</cite> &#10548;](http://www.aoc.nrao.edu/dissertations/dbriggs/) : original work which introduced robust weighting, includes a thorough overview of weight schemes.\n",
    "\n",
    "### Widefield Effects\n",
    "\n",
    "1. [<cite data-cite='taylor1999synthesis'>Synthesis Imaging in Radio Astronomy II (Lecture 19) </cite> &#10548;](http://adsabs.harvard.edu/abs/1999sira.conf.....T) : discusses widefield imaging in more detail\n",
    "2. [<cite data-cite='cornwell2008noncoplanar'>The noncoplanar baselines effect in radio interferometry: The W-projection algorithm</cite> &#10548;](http://ieeexplore.ieee.org/xpl/login.jsp?tp=&arnumber=4703511&url=http%3A%2F%2Fieeexplore.ieee.org%2Fxpls%2Fabs_all.jsp%3Farnumber%3D4703511) : Discusses the w-projection algorithm in more detail\n",
    "3. [<cite data-cite='cornwell1992radio'>Radio-interferometric imaging of very large fields: The problem of non-coplanar arrays</cite> &#10548;](http://adsabs.harvard.edu/full/1992A%26A...261..353C) : Overview of the wide-field problem and the polyhedron solution, amongst a discussion of other techniques.\n",
    "\n",
    "### Gridding/Degridding\n",
    "\n",
    "1. [<cite data-cite='rhodes1970spheroidal'>On the Spheroidal Functions</cite> &#10548;](http://cdm16009.contentdm.oclc.org/cdm/compoundobject/collection/p13011coll6/id/61576/rec/50)\n",
    "2. [<cite data-cite='tan1986aperture'>Aperture-synthesis mapping and parameter estimation</cite> &#10548;](http://ethos.bl.uk/OrderDetails.do?uin=uk.bl.ethos.384529) (Optimal gridding and degridding functions)"
   ]
  },
  {
   "cell_type": "markdown",
   "metadata": {},
   "source": [
    "***\n",
    "\n",
    "Next: [Chapter 6: Deconvolution](../6_deconvolution/6_0_introduction.ipynb)"
   ]
  }
 ],
 "metadata": {
  "kernelspec": {
   "display_name": "Python 3",
   "language": "python",
   "name": "python3"
  },
  "language_info": {
   "codemirror_mode": {
    "name": "ipython",
    "version": 3
   },
   "file_extension": ".py",
   "mimetype": "text/x-python",
   "name": "python",
   "nbconvert_exporter": "python",
   "pygments_lexer": "ipython3",
   "version": "3.6.9"
  }
 },
 "nbformat": 4,
 "nbformat_minor": 1
}
