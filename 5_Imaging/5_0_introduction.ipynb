{
 "cells": [
  {
   "cell_type": "markdown",
   "metadata": {},
   "source": [
    "***\n",
    "\n",
    "* [Outline](../0_Introduction/0_introduction.ipynb)\n",
    "* [Glossary](../0_Introduction/1_glossary.ipynb)\n",
    "* [5. Imaging](#)  \n",
    "    * Next: [5.1 Spatial Frequencies](5_1_spatial_frequencies.ipynb)\n",
    "\n",
    "***"
   ]
  },
  {
   "cell_type": "markdown",
   "metadata": {},
   "source": [
    "# 第五章 : 成像<a id='imaging:sec:intro'></a>\n",
    "\n",
    "# Chapter 5: Imaging<a id='imaging:sec:intro'></a>"
   ]
  },
  {
   "cell_type": "raw",
   "metadata": {},
   "source": [
    "在射电天文领域，人们常常利用综合孔径技术，通过干涉阵列来获得天空图像，这是一种迂回的策略。在uv平面上对复可见度进行采样从而并最终获得天空图像的方法，就如同我们人类长了一双能识别射频的眼睛，只要抬头，就能看到天空一样。本章将介绍用干涉阵列测量可见度并生成图像的方法。第一节介绍图像与空间频率之间的傅立叶关系，以及空间频率的滤波和采样对图像重建的影响。第二节介绍空间频率采样以及点扩散函数（Point Spread Function，PSF），然后，将介绍可见度重采样，把可见度值对应到合适的网格中，以便使用快速傅立叶变换（Fast Fourier Transforms ，FFT)成像，接下来，讲解干涉测量采样中所面临的过采样和欠采样问题，以及权重函数对成像的影响。本章我们也会引入脏图的概念，脏图是下一章图像去卷积部分的重要内容。最后，我们将讨论在哪些情况下，Van Cittert-Zernike可见度/图像的傅立叶关系对会失效，以及可以通过哪些近似对结果进行修正。\n",
    "\n",
    "We usually design and build interferometric arrays in radio astronomy as a round-a-bout way to make an image of the sky via aperture synthesis. The measurment of complex visibilities and sampling of the *uv*-plane all eventually lead to producing an image one would see looking up at the sky if they had eyes which could see radio-frequency light. This chapter aims to present how such images are formed from the visibility measurments of an interferometric array. In order to arrive at how the image are made we must first take a few steps. In the first section of this chapter we introduce the Fourier relationship between an image and its corresponding spatial frequencies, and how filtering and sampling of spatial frequencies affects a reconstructed image. The second section expands on spatial frequenecy sampling to introduce the concept of a point spread function (PSF). From there we will deal with the issue of resampling visibilities onto a grid so that we can take advantage of the fast Fourier Transforms (FFT) in imaging. We will then go into the complexity of interferometric array sampling which leads to over and under sampling of regions, and how weighting functions affect the resulting images. In this section we will also introduce the terminology of the dirty image which will play an important role in the next chapter on deconvolution. Finally, we will discuss the situtations in which the Van Cittert-Zernike visibility/image Fourier pair relationship breaks down, and how additional approximations can be used to correct for the resulting effects."
   ]
  },
  {
   "cell_type": "markdown",
   "metadata": {},
   "source": [
    "#### Chapter Outline\n",
    "\n",
    "1. [Spatial Frequencies](5_1_spatial_frequencies.ipynb)\n",
    "2. [Sampling and Point Spread Functions](5_2_sampling_functions_and_psfs.ipynb)\n",
    "3. [Gridding and Degridding for using the FFT](5_3_gridding_and_degridding.ipynb)\n",
    "4. [The Dirty Image and Visibility Weightings](5_4_imaging_weights.ipynb)\n",
    "5. [The Break Down of the Small Angle Approximation and the W-Term](5_5_widefield_effect.ipynb)\n",
    "6. [Further Reading and References](5_x_further_reading_and_references.ipynb)"
   ]
  },
  {
   "cell_type": "markdown",
   "metadata": {},
   "source": [
    "#### Chapter Editors\n",
    "\n",
    "#### Chapter Contributors\n",
    "\n",
    "* Benna Hugo (5.2, **5.3**, **5.5**)\n",
    "* Griffin Foster (**5.0**, **5.1**, **5.2**, 5.3, **5.4**)\n",
    "\n",
    "#### Format status:\n",
    "\n",
    "* <span style=\"background-color:red\">&nbsp;&nbsp;&nbsp;&nbsp;</span> : LF: Date\n",
    "* <span style=\"background-color:red\">&nbsp;&nbsp;&nbsp;&nbsp;</span> : NC: Date\n",
    "* <span style=\"background-color:red\">&nbsp;&nbsp;&nbsp;&nbsp;</span> : RF: Date\n",
    "* <span style=\"background-color:red\">&nbsp;&nbsp;&nbsp;&nbsp;</span> : HF: Date\n",
    "* <span style=\"background-color:red\">&nbsp;&nbsp;&nbsp;&nbsp;</span> : GM: Date\n",
    "* <span style=\"background-color:red\">&nbsp;&nbsp;&nbsp;&nbsp;</span> : CC: Date\n",
    "* <span style=\"background-color:red\">&nbsp;&nbsp;&nbsp;&nbsp;</span> : CL: Date\n",
    "* <span style=\"background-color:red\">&nbsp;&nbsp;&nbsp;&nbsp;</span> : ST: Date\n",
    "* <span style=\"background-color:red\">&nbsp;&nbsp;&nbsp;&nbsp;</span> : FN: Date\n",
    "* <span style=\"background-color:red\">&nbsp;&nbsp;&nbsp;&nbsp;</span> : TC: Date\n",
    "* <span style=\"background-color:red\">&nbsp;&nbsp;&nbsp;&nbsp;</span> : XX: Date"
   ]
  },
  {
   "cell_type": "markdown",
   "metadata": {},
   "source": [
    "***\n",
    "\n",
    "Next: [5.1 Spatial Frequencies](5_1_spatial_frequencies.ipynb)"
   ]
  }
 ],
 "metadata": {
  "kernelspec": {
   "display_name": "Python 3",
   "language": "python",
   "name": "python3"
  },
  "language_info": {
   "codemirror_mode": {
    "name": "ipython",
    "version": 3
   },
   "file_extension": ".py",
   "mimetype": "text/x-python",
   "name": "python",
   "nbconvert_exporter": "python",
   "pygments_lexer": "ipython3",
   "version": "3.6.9"
  }
 },
 "nbformat": 4,
 "nbformat_minor": 1
}
